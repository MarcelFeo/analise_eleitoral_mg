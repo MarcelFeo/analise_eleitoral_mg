{
 "cells": [
  {
   "cell_type": "markdown",
   "id": "00c71e17",
   "metadata": {},
   "source": [
    "# Estudo sobre as eleições municipais de 2020 e 2024 no estado de Minas Gerais"
   ]
  },
  {
   "cell_type": "markdown",
   "id": "a1c4f97a",
   "metadata": {},
   "source": [
    "## Instalando e importando os pacotes necessários"
   ]
  },
  {
   "cell_type": "code",
   "execution_count": 50,
   "id": "091e5c98",
   "metadata": {},
   "outputs": [
    {
     "name": "stdout",
     "output_type": "stream",
     "text": [
      "Requirement already satisfied: plotly in c:\\users\\marce\\appdata\\local\\programs\\python\\python311\\lib\\site-packages (5.24.1)\n",
      "Requirement already satisfied: geopandas in c:\\users\\marce\\appdata\\local\\programs\\python\\python311\\lib\\site-packages (1.0.1)\n",
      "Requirement already satisfied: matplotlib in c:\\users\\marce\\appdata\\local\\programs\\python\\python311\\lib\\site-packages (3.9.2)\n",
      "Requirement already satisfied: pandas in c:\\users\\marce\\appdata\\local\\programs\\python\\python311\\lib\\site-packages (2.2.3)\n",
      "Requirement already satisfied: shapely in c:\\users\\marce\\appdata\\local\\programs\\python\\python311\\lib\\site-packages (2.0.6)\n",
      "Requirement already satisfied: tenacity>=6.2.0 in c:\\users\\marce\\appdata\\local\\programs\\python\\python311\\lib\\site-packages (from plotly) (9.0.0)\n",
      "Requirement already satisfied: packaging in c:\\users\\marce\\appdata\\local\\programs\\python\\python311\\lib\\site-packages (from plotly) (23.1)\n",
      "Requirement already satisfied: numpy>=1.22 in c:\\users\\marce\\appdata\\local\\programs\\python\\python311\\lib\\site-packages (from geopandas) (2.1.2)\n",
      "Requirement already satisfied: pyogrio>=0.7.2 in c:\\users\\marce\\appdata\\local\\programs\\python\\python311\\lib\\site-packages (from geopandas) (0.10.0)\n",
      "Requirement already satisfied: pyproj>=3.3.0 in c:\\users\\marce\\appdata\\local\\programs\\python\\python311\\lib\\site-packages (from geopandas) (3.7.0)\n",
      "Requirement already satisfied: contourpy>=1.0.1 in c:\\users\\marce\\appdata\\local\\programs\\python\\python311\\lib\\site-packages (from matplotlib) (1.3.0)\n",
      "Requirement already satisfied: cycler>=0.10 in c:\\users\\marce\\appdata\\local\\programs\\python\\python311\\lib\\site-packages (from matplotlib) (0.12.1)\n",
      "Requirement already satisfied: fonttools>=4.22.0 in c:\\users\\marce\\appdata\\local\\programs\\python\\python311\\lib\\site-packages (from matplotlib) (4.54.1)\n",
      "Requirement already satisfied: kiwisolver>=1.3.1 in c:\\users\\marce\\appdata\\local\\programs\\python\\python311\\lib\\site-packages (from matplotlib) (1.4.7)\n",
      "Requirement already satisfied: pillow>=8 in c:\\users\\marce\\appdata\\local\\programs\\python\\python311\\lib\\site-packages (from matplotlib) (10.4.0)\n",
      "Requirement already satisfied: pyparsing>=2.3.1 in c:\\users\\marce\\appdata\\local\\programs\\python\\python311\\lib\\site-packages (from matplotlib) (3.1.4)\n",
      "Requirement already satisfied: python-dateutil>=2.7 in c:\\users\\marce\\appdata\\local\\programs\\python\\python311\\lib\\site-packages (from matplotlib) (2.8.2)\n",
      "Requirement already satisfied: pytz>=2020.1 in c:\\users\\marce\\appdata\\local\\programs\\python\\python311\\lib\\site-packages (from pandas) (2024.2)\n",
      "Requirement already satisfied: tzdata>=2022.7 in c:\\users\\marce\\appdata\\local\\programs\\python\\python311\\lib\\site-packages (from pandas) (2024.2)\n",
      "Requirement already satisfied: certifi in c:\\users\\marce\\appdata\\local\\programs\\python\\python311\\lib\\site-packages (from pyogrio>=0.7.2->geopandas) (2023.7.22)\n",
      "Requirement already satisfied: six>=1.5 in c:\\users\\marce\\appdata\\local\\programs\\python\\python311\\lib\\site-packages (from python-dateutil>=2.7->matplotlib) (1.16.0)\n"
     ]
    }
   ],
   "source": [
    "!pip install plotly geopandas matplotlib pandas shapely"
   ]
  },
  {
   "cell_type": "code",
   "execution_count": 51,
   "id": "0d9368b3",
   "metadata": {},
   "outputs": [],
   "source": [
    "import os\n",
    "import pandas as pd\n",
    "import geopandas as gpd\n",
    "import matplotlib.pyplot as plt\n",
    "import plotly.express as px\n",
    "from shapely.geometry import Point"
   ]
  },
  {
   "cell_type": "markdown",
   "id": "e164c5ac",
   "metadata": {},
   "source": [
    "## Funções utilizadas no programa"
   ]
  },
  {
   "cell_type": "code",
   "execution_count": 52,
   "id": "fe45047e",
   "metadata": {},
   "outputs": [],
   "source": [
    "def processar_candidatos_mais_votados(tabela_arquivo):\n",
    "    return tabela_arquivo\\\n",
    "        .sort_values(by='NM_UE', ascending=False)\\\n",
    "        .groupby(['NM_PARTIDO', 'NM_UE'])\\\n",
    "        .agg({'QT_VOTOS_NOMINAIS_VALIDOS': 'first', 'NR_PARTIDO': 'first'})\\\n",
    "        .reset_index()\n",
    "\n",
    "def gerar_grafico_partidos_mais_votados(df, ano):\n",
    "    # Agrupar os dados por partido e contar o número de municípios em que cada partido venceu\n",
    "    votos_por_partido = df.groupby('NM_PARTIDO')['QT_VOTOS_NOMINAIS_VALIDOS'].count().reset_index()\n",
    "    votos_por_partido = votos_por_partido.sort_values(by='QT_VOTOS_NOMINAIS_VALIDOS', ascending=False)\n",
    "\n",
    "    # Gerar o gráfico de barras\n",
    "    fig = px.bar(votos_por_partido, \n",
    "                 x='NM_PARTIDO', \n",
    "                 y='QT_VOTOS_NOMINAIS_VALIDOS', \n",
    "                 title=f'Partidos mais votados em {ano}',\n",
    "                 labels={'QT_VOTOS_NOMINAIS_VALIDOS': 'Número de Municípios', 'NM_PARTIDO': 'Partido'},\n",
    "                 color='NM_PARTIDO')\n",
    "\n",
    "    fig.show()\n",
    "\n",
    "def plot_mapa(mapa, ano):\n",
    "    # Verifica se é um GeoDataFrame\n",
    "    if not isinstance(mapa, gpd.GeoDataFrame):\n",
    "        print(\"O DataFrame não é um GeoDataFrame.\")\n",
    "        return\n",
    "    \n",
    "    fig, ax = plt.subplots(1, 1, figsize=(12, 8))\n",
    "    # Defina as cores baseadas nos partidos (exemplo)\n",
    "    cores = {'direita': 'direita', 'esquerda': 'esquerda', 'centro': 'centro'}\n",
    "    \n",
    "    # Verifique se a coluna de partido existe\n",
    "    if 'NM_PARTIDO' in mapa.columns:\n",
    "        mapa['cor'] = mapa['Espectro'].map(cores)\n",
    "    else:\n",
    "        print(\"A coluna 'Espectro' não foi encontrada no DataFrame.\")\n",
    "        return\n",
    "    \n",
    "    mapa.boundary.plot(ax=ax, linewidth=1)\n",
    "    \n",
    "    mapa.plot(column='cor', ax=ax, legend=True)\n",
    "    \n",
    "    ax.set_title(f'Eleições Municipais de {ano} em Minas Gerais')\n",
    "    plt.show()"
   ]
  },
  {
   "cell_type": "markdown",
   "id": "ec56583e",
   "metadata": {},
   "source": [
    "## Definindo arquivos necessários e váriaveis globais "
   ]
  },
  {
   "cell_type": "code",
   "execution_count": 53,
   "id": "51acaa94",
   "metadata": {},
   "outputs": [],
   "source": [
    "# Caminho para os arquivos utilizados\n",
    "# Coloque o path da sua máquina aqui onde está o projeto\n",
    "pasta = 'C:\\\\Users\\\\marce\\\\OneDrive\\\\Área de Trabalho\\\\analise_eleitoral\\\\dados\\\\'\n",
    "arquivo_resultado_2020 = os.path.join(pasta, 'votacao_2020.csv')\n",
    "arquivo_resultado_2024 = os.path.join(pasta, 'votacao_2024.csv')\n",
    "arquivo_partidos = os.path.join(pasta,'partidos.csv')\n",
    "arquivo_municipios = 'C:\\\\Users\\\\marce\\\\OneDrive\\\\Área de Trabalho\\\\analise_eleitoral\\\\dados\\\\brasil-municipios.csv'"
   ]
  },
  {
   "cell_type": "code",
   "execution_count": 54,
   "id": "a830f155",
   "metadata": {},
   "outputs": [],
   "source": [
    "# Alterando formato de exibição dos gráficos do Pandas\n",
    "pd.options.plotting.backend = 'plotly'"
   ]
  },
  {
   "cell_type": "code",
   "execution_count": 55,
   "id": "a4833f80",
   "metadata": {},
   "outputs": [],
   "source": [
    "# Lendo os dados dos arquivos\n",
    "tabela_arquivo_2020 = pd.read_csv(arquivo_resultado_2020, sep=';', encoding = \"ISO-8859-1\")\n",
    "tabela_arquivo_2024 = pd.read_csv(arquivo_resultado_2024, sep=';', encoding = \"ISO-8859-1\")\n",
    "tabela_partidos = pd.read_csv(arquivo_partidos, sep=';')"
   ]
  },
  {
   "cell_type": "code",
   "execution_count": 56,
   "id": "6b27c779",
   "metadata": {},
   "outputs": [],
   "source": [
    "candidatos_mais_votados_2020 = processar_candidatos_mais_votados(tabela_arquivo_2020)"
   ]
  },
  {
   "cell_type": "code",
   "execution_count": 57,
   "id": "8f2edb64",
   "metadata": {},
   "outputs": [
    {
     "data": {
      "text/html": [
       "<div>\n",
       "<style scoped>\n",
       "    .dataframe tbody tr th:only-of-type {\n",
       "        vertical-align: middle;\n",
       "    }\n",
       "\n",
       "    .dataframe tbody tr th {\n",
       "        vertical-align: top;\n",
       "    }\n",
       "\n",
       "    .dataframe thead th {\n",
       "        text-align: right;\n",
       "    }\n",
       "</style>\n",
       "<table border=\"1\" class=\"dataframe\">\n",
       "  <thead>\n",
       "    <tr style=\"text-align: right;\">\n",
       "      <th></th>\n",
       "      <th>NM_PARTIDO</th>\n",
       "      <th>NM_UE</th>\n",
       "      <th>QT_VOTOS_NOMINAIS_VALIDOS</th>\n",
       "      <th>NR_PARTIDO</th>\n",
       "    </tr>\n",
       "  </thead>\n",
       "  <tbody>\n",
       "    <tr>\n",
       "      <th>0</th>\n",
       "      <td>AVANTE</td>\n",
       "      <td>AIMORÉS</td>\n",
       "      <td>627</td>\n",
       "      <td>70</td>\n",
       "    </tr>\n",
       "    <tr>\n",
       "      <th>1</th>\n",
       "      <td>AVANTE</td>\n",
       "      <td>ALBERTINA</td>\n",
       "      <td>456</td>\n",
       "      <td>70</td>\n",
       "    </tr>\n",
       "    <tr>\n",
       "      <th>2</th>\n",
       "      <td>AVANTE</td>\n",
       "      <td>ALFENAS</td>\n",
       "      <td>1953</td>\n",
       "      <td>70</td>\n",
       "    </tr>\n",
       "    <tr>\n",
       "      <th>3</th>\n",
       "      <td>AVANTE</td>\n",
       "      <td>ALFREDO VASCONCELOS</td>\n",
       "      <td>672</td>\n",
       "      <td>70</td>\n",
       "    </tr>\n",
       "    <tr>\n",
       "      <th>4</th>\n",
       "      <td>AVANTE</td>\n",
       "      <td>ALTEROSA</td>\n",
       "      <td>2707</td>\n",
       "      <td>70</td>\n",
       "    </tr>\n",
       "    <tr>\n",
       "      <th>...</th>\n",
       "      <td>...</td>\n",
       "      <td>...</td>\n",
       "      <td>...</td>\n",
       "      <td>...</td>\n",
       "    </tr>\n",
       "    <tr>\n",
       "      <th>6264</th>\n",
       "      <td>Solidariedade</td>\n",
       "      <td>ÁGUAS VERMELHAS</td>\n",
       "      <td>76</td>\n",
       "      <td>77</td>\n",
       "    </tr>\n",
       "    <tr>\n",
       "      <th>6265</th>\n",
       "      <td>Unidade Popular</td>\n",
       "      <td>BELO HORIZONTE</td>\n",
       "      <td>726</td>\n",
       "      <td>80</td>\n",
       "    </tr>\n",
       "    <tr>\n",
       "      <th>6266</th>\n",
       "      <td>Unidade Popular</td>\n",
       "      <td>ITABIRITO</td>\n",
       "      <td>477</td>\n",
       "      <td>80</td>\n",
       "    </tr>\n",
       "    <tr>\n",
       "      <th>6267</th>\n",
       "      <td>Unidade Popular</td>\n",
       "      <td>NOVA LIMA</td>\n",
       "      <td>764</td>\n",
       "      <td>80</td>\n",
       "    </tr>\n",
       "    <tr>\n",
       "      <th>6268</th>\n",
       "      <td>União Brasil</td>\n",
       "      <td>BERTÓPOLIS</td>\n",
       "      <td>988</td>\n",
       "      <td>44</td>\n",
       "    </tr>\n",
       "  </tbody>\n",
       "</table>\n",
       "<p>6269 rows × 4 columns</p>\n",
       "</div>"
      ],
      "text/plain": [
       "           NM_PARTIDO                NM_UE  QT_VOTOS_NOMINAIS_VALIDOS  \\\n",
       "0              AVANTE              AIMORÉS                        627   \n",
       "1              AVANTE            ALBERTINA                        456   \n",
       "2              AVANTE              ALFENAS                       1953   \n",
       "3              AVANTE  ALFREDO VASCONCELOS                        672   \n",
       "4              AVANTE             ALTEROSA                       2707   \n",
       "...               ...                  ...                        ...   \n",
       "6264    Solidariedade      ÁGUAS VERMELHAS                         76   \n",
       "6265  Unidade Popular       BELO HORIZONTE                        726   \n",
       "6266  Unidade Popular            ITABIRITO                        477   \n",
       "6267  Unidade Popular            NOVA LIMA                        764   \n",
       "6268     União Brasil           BERTÓPOLIS                        988   \n",
       "\n",
       "      NR_PARTIDO  \n",
       "0             70  \n",
       "1             70  \n",
       "2             70  \n",
       "3             70  \n",
       "4             70  \n",
       "...          ...  \n",
       "6264          77  \n",
       "6265          80  \n",
       "6266          80  \n",
       "6267          80  \n",
       "6268          44  \n",
       "\n",
       "[6269 rows x 4 columns]"
      ]
     },
     "metadata": {},
     "output_type": "display_data"
    }
   ],
   "source": [
    "display(candidatos_mais_votados_2020)"
   ]
  },
  {
   "cell_type": "code",
   "execution_count": 58,
   "id": "568bdd03",
   "metadata": {},
   "outputs": [],
   "source": [
    "candidatos_mais_votados_2024 = processar_candidatos_mais_votados(tabela_arquivo_2024)"
   ]
  },
  {
   "cell_type": "code",
   "execution_count": 59,
   "id": "e988e138",
   "metadata": {},
   "outputs": [
    {
     "data": {
      "text/html": [
       "<div>\n",
       "<style scoped>\n",
       "    .dataframe tbody tr th:only-of-type {\n",
       "        vertical-align: middle;\n",
       "    }\n",
       "\n",
       "    .dataframe tbody tr th {\n",
       "        vertical-align: top;\n",
       "    }\n",
       "\n",
       "    .dataframe thead th {\n",
       "        text-align: right;\n",
       "    }\n",
       "</style>\n",
       "<table border=\"1\" class=\"dataframe\">\n",
       "  <thead>\n",
       "    <tr style=\"text-align: right;\">\n",
       "      <th></th>\n",
       "      <th>NM_PARTIDO</th>\n",
       "      <th>NM_UE</th>\n",
       "      <th>QT_VOTOS_NOMINAIS_VALIDOS</th>\n",
       "      <th>NR_PARTIDO</th>\n",
       "    </tr>\n",
       "  </thead>\n",
       "  <tbody>\n",
       "    <tr>\n",
       "      <th>0</th>\n",
       "      <td>AGIR</td>\n",
       "      <td>ALPINÓPOLIS</td>\n",
       "      <td>752</td>\n",
       "      <td>36</td>\n",
       "    </tr>\n",
       "    <tr>\n",
       "      <th>1</th>\n",
       "      <td>AGIR</td>\n",
       "      <td>ALVINÓPOLIS</td>\n",
       "      <td>758</td>\n",
       "      <td>36</td>\n",
       "    </tr>\n",
       "    <tr>\n",
       "      <th>2</th>\n",
       "      <td>AGIR</td>\n",
       "      <td>ANDRADAS</td>\n",
       "      <td>1186</td>\n",
       "      <td>36</td>\n",
       "    </tr>\n",
       "    <tr>\n",
       "      <th>3</th>\n",
       "      <td>AGIR</td>\n",
       "      <td>ARAXÁ</td>\n",
       "      <td>2387</td>\n",
       "      <td>36</td>\n",
       "    </tr>\n",
       "    <tr>\n",
       "      <th>4</th>\n",
       "      <td>AGIR</td>\n",
       "      <td>ARCOS</td>\n",
       "      <td>2288</td>\n",
       "      <td>36</td>\n",
       "    </tr>\n",
       "    <tr>\n",
       "      <th>...</th>\n",
       "      <td>...</td>\n",
       "      <td>...</td>\n",
       "      <td>...</td>\n",
       "      <td>...</td>\n",
       "    </tr>\n",
       "    <tr>\n",
       "      <th>8362</th>\n",
       "      <td>União Brasil</td>\n",
       "      <td>VIRGINÓPOLIS</td>\n",
       "      <td>526</td>\n",
       "      <td>44</td>\n",
       "    </tr>\n",
       "    <tr>\n",
       "      <th>8363</th>\n",
       "      <td>União Brasil</td>\n",
       "      <td>VIRGÍNIA</td>\n",
       "      <td>704</td>\n",
       "      <td>44</td>\n",
       "    </tr>\n",
       "    <tr>\n",
       "      <th>8364</th>\n",
       "      <td>União Brasil</td>\n",
       "      <td>VISCONDE DO RIO BRANCO</td>\n",
       "      <td>2103</td>\n",
       "      <td>44</td>\n",
       "    </tr>\n",
       "    <tr>\n",
       "      <th>8365</th>\n",
       "      <td>União Brasil</td>\n",
       "      <td>VIÇOSA</td>\n",
       "      <td>16346</td>\n",
       "      <td>44</td>\n",
       "    </tr>\n",
       "    <tr>\n",
       "      <th>8366</th>\n",
       "      <td>União Brasil</td>\n",
       "      <td>ÁGUAS VERMELHAS</td>\n",
       "      <td>2216</td>\n",
       "      <td>44</td>\n",
       "    </tr>\n",
       "  </tbody>\n",
       "</table>\n",
       "<p>8367 rows × 4 columns</p>\n",
       "</div>"
      ],
      "text/plain": [
       "        NM_PARTIDO                   NM_UE  QT_VOTOS_NOMINAIS_VALIDOS  \\\n",
       "0             AGIR             ALPINÓPOLIS                        752   \n",
       "1             AGIR             ALVINÓPOLIS                        758   \n",
       "2             AGIR                ANDRADAS                       1186   \n",
       "3             AGIR                   ARAXÁ                       2387   \n",
       "4             AGIR                   ARCOS                       2288   \n",
       "...            ...                     ...                        ...   \n",
       "8362  União Brasil            VIRGINÓPOLIS                        526   \n",
       "8363  União Brasil                VIRGÍNIA                        704   \n",
       "8364  União Brasil  VISCONDE DO RIO BRANCO                       2103   \n",
       "8365  União Brasil                  VIÇOSA                      16346   \n",
       "8366  União Brasil         ÁGUAS VERMELHAS                       2216   \n",
       "\n",
       "      NR_PARTIDO  \n",
       "0             36  \n",
       "1             36  \n",
       "2             36  \n",
       "3             36  \n",
       "4             36  \n",
       "...          ...  \n",
       "8362          44  \n",
       "8363          44  \n",
       "8364          44  \n",
       "8365          44  \n",
       "8366          44  \n",
       "\n",
       "[8367 rows x 4 columns]"
      ]
     },
     "metadata": {},
     "output_type": "display_data"
    }
   ],
   "source": [
    "display(candidatos_mais_votados_2024)"
   ]
  },
  {
   "cell_type": "markdown",
   "id": "25500071",
   "metadata": {},
   "source": [
    "## Unindo as tabelas dos candidatos e dos partidos\n",
    "### Assim podemos definir quais candidatos são de direita, esquerda ou centro"
   ]
  },
  {
   "cell_type": "code",
   "execution_count": 60,
   "id": "8e2b5b68",
   "metadata": {},
   "outputs": [],
   "source": [
    "espec_type = pd.CategoricalDtype(categories=['direita', 'centro', 'esquerda'], ordered=True)\n",
    "tabela_partidos['Espectro'] = tabela_partidos['Espectro'].astype(espec_type)"
   ]
  },
  {
   "cell_type": "code",
   "execution_count": 61,
   "id": "db68ddf0",
   "metadata": {},
   "outputs": [],
   "source": [
    "candidatos_mais_votados_2020 = candidatos_mais_votados_2020.\\\n",
    "merge(tabela_partidos[['NR_PARTIDO','Espectro']], left_on='NR_PARTIDO', right_on='NR_PARTIDO')"
   ]
  },
  {
   "cell_type": "code",
   "execution_count": 62,
   "id": "81b53992",
   "metadata": {},
   "outputs": [],
   "source": [
    "candidatos_mais_votados_2024 = candidatos_mais_votados_2024.\\\n",
    "merge(tabela_partidos[['NR_PARTIDO','Espectro']], left_on='NR_PARTIDO', right_on='NR_PARTIDO')"
   ]
  },
  {
   "cell_type": "markdown",
   "id": "5f1094cb",
   "metadata": {},
   "source": [
    "## Gráficos dos partidos mais votados nos anos de 2020 e 2024"
   ]
  },
  {
   "cell_type": "code",
   "execution_count": 63,
   "id": "187ef976",
   "metadata": {
    "scrolled": false
   },
   "outputs": [
    {
     "data": {
      "application/vnd.plotly.v1+json": {
       "config": {
        "plotlyServerURL": "https://plot.ly"
       },
       "data": [
        {
         "alignmentgroup": "True",
         "hovertemplate": "Partido=%{x}<br>Número de Municípios=%{y}<extra></extra>",
         "legendgroup": "Movimento Democrático Brasileiro",
         "marker": {
          "color": "#636efa",
          "pattern": {
           "shape": ""
          }
         },
         "name": "Movimento Democrático Brasileiro",
         "offsetgroup": "Movimento Democrático Brasileiro",
         "orientation": "v",
         "showlegend": true,
         "textposition": "auto",
         "type": "bar",
         "x": [
          "Movimento Democrático Brasileiro"
         ],
         "xaxis": "x",
         "y": [
          466
         ],
         "yaxis": "y"
        },
        {
         "alignmentgroup": "True",
         "hovertemplate": "Partido=%{x}<br>Número de Municípios=%{y}<extra></extra>",
         "legendgroup": "Partido Social Democrático",
         "marker": {
          "color": "#EF553B",
          "pattern": {
           "shape": ""
          }
         },
         "name": "Partido Social Democrático",
         "offsetgroup": "Partido Social Democrático",
         "orientation": "v",
         "showlegend": true,
         "textposition": "auto",
         "type": "bar",
         "x": [
          "Partido Social Democrático"
         ],
         "xaxis": "x",
         "y": [
          432
         ],
         "yaxis": "y"
        },
        {
         "alignmentgroup": "True",
         "hovertemplate": "Partido=%{x}<br>Número de Municípios=%{y}<extra></extra>",
         "legendgroup": "Democratas",
         "marker": {
          "color": "#00cc96",
          "pattern": {
           "shape": ""
          }
         },
         "name": "Democratas",
         "offsetgroup": "Democratas",
         "orientation": "v",
         "showlegend": true,
         "textposition": "auto",
         "type": "bar",
         "x": [
          "Democratas"
         ],
         "xaxis": "x",
         "y": [
          427
         ],
         "yaxis": "y"
        },
        {
         "alignmentgroup": "True",
         "hovertemplate": "Partido=%{x}<br>Número de Municípios=%{y}<extra></extra>",
         "legendgroup": "Partido da Social Democracia Brasileira",
         "marker": {
          "color": "#ab63fa",
          "pattern": {
           "shape": ""
          }
         },
         "name": "Partido da Social Democracia Brasileira",
         "offsetgroup": "Partido da Social Democracia Brasileira",
         "orientation": "v",
         "showlegend": true,
         "textposition": "auto",
         "type": "bar",
         "x": [
          "Partido da Social Democracia Brasileira"
         ],
         "xaxis": "x",
         "y": [
          415
         ],
         "yaxis": "y"
        },
        {
         "alignmentgroup": "True",
         "hovertemplate": "Partido=%{x}<br>Número de Municípios=%{y}<extra></extra>",
         "legendgroup": "Partido dos Trabalhadores",
         "marker": {
          "color": "#FFA15A",
          "pattern": {
           "shape": ""
          }
         },
         "name": "Partido dos Trabalhadores",
         "offsetgroup": "Partido dos Trabalhadores",
         "orientation": "v",
         "showlegend": true,
         "textposition": "auto",
         "type": "bar",
         "x": [
          "Partido dos Trabalhadores"
         ],
         "xaxis": "x",
         "y": [
          408
         ],
         "yaxis": "y"
        },
        {
         "alignmentgroup": "True",
         "hovertemplate": "Partido=%{x}<br>Número de Municípios=%{y}<extra></extra>",
         "legendgroup": "AVANTE",
         "marker": {
          "color": "#19d3f3",
          "pattern": {
           "shape": ""
          }
         },
         "name": "AVANTE",
         "offsetgroup": "AVANTE",
         "orientation": "v",
         "showlegend": true,
         "textposition": "auto",
         "type": "bar",
         "x": [
          "AVANTE"
         ],
         "xaxis": "x",
         "y": [
          351
         ],
         "yaxis": "y"
        },
        {
         "alignmentgroup": "True",
         "hovertemplate": "Partido=%{x}<br>Número de Municípios=%{y}<extra></extra>",
         "legendgroup": "PROGRESSISTAS",
         "marker": {
          "color": "#FF6692",
          "pattern": {
           "shape": ""
          }
         },
         "name": "PROGRESSISTAS",
         "offsetgroup": "PROGRESSISTAS",
         "orientation": "v",
         "showlegend": true,
         "textposition": "auto",
         "type": "bar",
         "x": [
          "PROGRESSISTAS"
         ],
         "xaxis": "x",
         "y": [
          301
         ],
         "yaxis": "y"
        },
        {
         "alignmentgroup": "True",
         "hovertemplate": "Partido=%{x}<br>Número de Municípios=%{y}<extra></extra>",
         "legendgroup": "Partido Trabalhista Brasileiro",
         "marker": {
          "color": "#B6E880",
          "pattern": {
           "shape": ""
          }
         },
         "name": "Partido Trabalhista Brasileiro",
         "offsetgroup": "Partido Trabalhista Brasileiro",
         "orientation": "v",
         "showlegend": true,
         "textposition": "auto",
         "type": "bar",
         "x": [
          "Partido Trabalhista Brasileiro"
         ],
         "xaxis": "x",
         "y": [
          300
         ],
         "yaxis": "y"
        },
        {
         "alignmentgroup": "True",
         "hovertemplate": "Partido=%{x}<br>Número de Municípios=%{y}<extra></extra>",
         "legendgroup": "Partido Democrático Trabalhista",
         "marker": {
          "color": "#FF97FF",
          "pattern": {
           "shape": ""
          }
         },
         "name": "Partido Democrático Trabalhista",
         "offsetgroup": "Partido Democrático Trabalhista",
         "orientation": "v",
         "showlegend": true,
         "textposition": "auto",
         "type": "bar",
         "x": [
          "Partido Democrático Trabalhista"
         ],
         "xaxis": "x",
         "y": [
          293
         ],
         "yaxis": "y"
        },
        {
         "alignmentgroup": "True",
         "hovertemplate": "Partido=%{x}<br>Número de Municípios=%{y}<extra></extra>",
         "legendgroup": "Partido Socialista Brasileiro",
         "marker": {
          "color": "#FECB52",
          "pattern": {
           "shape": ""
          }
         },
         "name": "Partido Socialista Brasileiro",
         "offsetgroup": "Partido Socialista Brasileiro",
         "orientation": "v",
         "showlegend": true,
         "textposition": "auto",
         "type": "bar",
         "x": [
          "Partido Socialista Brasileiro"
         ],
         "xaxis": "x",
         "y": [
          278
         ],
         "yaxis": "y"
        },
        {
         "alignmentgroup": "True",
         "hovertemplate": "Partido=%{x}<br>Número de Municípios=%{y}<extra></extra>",
         "legendgroup": "REPUBLICANOS",
         "marker": {
          "color": "#636efa",
          "pattern": {
           "shape": ""
          }
         },
         "name": "REPUBLICANOS",
         "offsetgroup": "REPUBLICANOS",
         "orientation": "v",
         "showlegend": true,
         "textposition": "auto",
         "type": "bar",
         "x": [
          "REPUBLICANOS"
         ],
         "xaxis": "x",
         "y": [
          276
         ],
         "yaxis": "y"
        },
        {
         "alignmentgroup": "True",
         "hovertemplate": "Partido=%{x}<br>Número de Municípios=%{y}<extra></extra>",
         "legendgroup": "Partido Liberal",
         "marker": {
          "color": "#EF553B",
          "pattern": {
           "shape": ""
          }
         },
         "name": "Partido Liberal",
         "offsetgroup": "Partido Liberal",
         "orientation": "v",
         "showlegend": true,
         "textposition": "auto",
         "type": "bar",
         "x": [
          "Partido Liberal"
         ],
         "xaxis": "x",
         "y": [
          266
         ],
         "yaxis": "y"
        },
        {
         "alignmentgroup": "True",
         "hovertemplate": "Partido=%{x}<br>Número de Municípios=%{y}<extra></extra>",
         "legendgroup": "Solidariedade",
         "marker": {
          "color": "#00cc96",
          "pattern": {
           "shape": ""
          }
         },
         "name": "Solidariedade",
         "offsetgroup": "Solidariedade",
         "orientation": "v",
         "showlegend": true,
         "textposition": "auto",
         "type": "bar",
         "x": [
          "Solidariedade"
         ],
         "xaxis": "x",
         "y": [
          243
         ],
         "yaxis": "y"
        },
        {
         "alignmentgroup": "True",
         "hovertemplate": "Partido=%{x}<br>Número de Municípios=%{y}<extra></extra>",
         "legendgroup": "Partido Social Liberal",
         "marker": {
          "color": "#ab63fa",
          "pattern": {
           "shape": ""
          }
         },
         "name": "Partido Social Liberal",
         "offsetgroup": "Partido Social Liberal",
         "orientation": "v",
         "showlegend": true,
         "textposition": "auto",
         "type": "bar",
         "x": [
          "Partido Social Liberal"
         ],
         "xaxis": "x",
         "y": [
          233
         ],
         "yaxis": "y"
        },
        {
         "alignmentgroup": "True",
         "hovertemplate": "Partido=%{x}<br>Número de Municípios=%{y}<extra></extra>",
         "legendgroup": "Patriota",
         "marker": {
          "color": "#FFA15A",
          "pattern": {
           "shape": ""
          }
         },
         "name": "Patriota",
         "offsetgroup": "Patriota",
         "orientation": "v",
         "showlegend": true,
         "textposition": "auto",
         "type": "bar",
         "x": [
          "Patriota"
         ],
         "xaxis": "x",
         "y": [
          222
         ],
         "yaxis": "y"
        },
        {
         "alignmentgroup": "True",
         "hovertemplate": "Partido=%{x}<br>Número de Municípios=%{y}<extra></extra>",
         "legendgroup": "Cidadania",
         "marker": {
          "color": "#19d3f3",
          "pattern": {
           "shape": ""
          }
         },
         "name": "Cidadania",
         "offsetgroup": "Cidadania",
         "orientation": "v",
         "showlegend": true,
         "textposition": "auto",
         "type": "bar",
         "x": [
          "Cidadania"
         ],
         "xaxis": "x",
         "y": [
          197
         ],
         "yaxis": "y"
        },
        {
         "alignmentgroup": "True",
         "hovertemplate": "Partido=%{x}<br>Número de Municípios=%{y}<extra></extra>",
         "legendgroup": "Partido Social Cristão",
         "marker": {
          "color": "#FF6692",
          "pattern": {
           "shape": ""
          }
         },
         "name": "Partido Social Cristão",
         "offsetgroup": "Partido Social Cristão",
         "orientation": "v",
         "showlegend": true,
         "textposition": "auto",
         "type": "bar",
         "x": [
          "Partido Social Cristão"
         ],
         "xaxis": "x",
         "y": [
          185
         ],
         "yaxis": "y"
        },
        {
         "alignmentgroup": "True",
         "hovertemplate": "Partido=%{x}<br>Número de Municípios=%{y}<extra></extra>",
         "legendgroup": "Podemos",
         "marker": {
          "color": "#B6E880",
          "pattern": {
           "shape": ""
          }
         },
         "name": "Podemos",
         "offsetgroup": "Podemos",
         "orientation": "v",
         "showlegend": true,
         "textposition": "auto",
         "type": "bar",
         "x": [
          "Podemos"
         ],
         "xaxis": "x",
         "y": [
          179
         ],
         "yaxis": "y"
        },
        {
         "alignmentgroup": "True",
         "hovertemplate": "Partido=%{x}<br>Número de Municípios=%{y}<extra></extra>",
         "legendgroup": "Partido Verde",
         "marker": {
          "color": "#FF97FF",
          "pattern": {
           "shape": ""
          }
         },
         "name": "Partido Verde",
         "offsetgroup": "Partido Verde",
         "orientation": "v",
         "showlegend": true,
         "textposition": "auto",
         "type": "bar",
         "x": [
          "Partido Verde"
         ],
         "xaxis": "x",
         "y": [
          174
         ],
         "yaxis": "y"
        },
        {
         "alignmentgroup": "True",
         "hovertemplate": "Partido=%{x}<br>Número de Municípios=%{y}<extra></extra>",
         "legendgroup": "Partido Republicano da Ordem Social",
         "marker": {
          "color": "#FECB52",
          "pattern": {
           "shape": ""
          }
         },
         "name": "Partido Republicano da Ordem Social",
         "offsetgroup": "Partido Republicano da Ordem Social",
         "orientation": "v",
         "showlegend": true,
         "textposition": "auto",
         "type": "bar",
         "x": [
          "Partido Republicano da Ordem Social"
         ],
         "xaxis": "x",
         "y": [
          96
         ],
         "yaxis": "y"
        },
        {
         "alignmentgroup": "True",
         "hovertemplate": "Partido=%{x}<br>Número de Municípios=%{y}<extra></extra>",
         "legendgroup": "Partido da Mobilização Nacional",
         "marker": {
          "color": "#636efa",
          "pattern": {
           "shape": ""
          }
         },
         "name": "Partido da Mobilização Nacional",
         "offsetgroup": "Partido da Mobilização Nacional",
         "orientation": "v",
         "showlegend": true,
         "textposition": "auto",
         "type": "bar",
         "x": [
          "Partido da Mobilização Nacional"
         ],
         "xaxis": "x",
         "y": [
          87
         ],
         "yaxis": "y"
        },
        {
         "alignmentgroup": "True",
         "hovertemplate": "Partido=%{x}<br>Número de Municípios=%{y}<extra></extra>",
         "legendgroup": "Partido Trabalhista Cristão",
         "marker": {
          "color": "#EF553B",
          "pattern": {
           "shape": ""
          }
         },
         "name": "Partido Trabalhista Cristão",
         "offsetgroup": "Partido Trabalhista Cristão",
         "orientation": "v",
         "showlegend": true,
         "textposition": "auto",
         "type": "bar",
         "x": [
          "Partido Trabalhista Cristão"
         ],
         "xaxis": "x",
         "y": [
          85
         ],
         "yaxis": "y"
        },
        {
         "alignmentgroup": "True",
         "hovertemplate": "Partido=%{x}<br>Número de Municípios=%{y}<extra></extra>",
         "legendgroup": "Partido Comunista do Brasil",
         "marker": {
          "color": "#00cc96",
          "pattern": {
           "shape": ""
          }
         },
         "name": "Partido Comunista do Brasil",
         "offsetgroup": "Partido Comunista do Brasil",
         "orientation": "v",
         "showlegend": true,
         "textposition": "auto",
         "type": "bar",
         "x": [
          "Partido Comunista do Brasil"
         ],
         "xaxis": "x",
         "y": [
          80
         ],
         "yaxis": "y"
        },
        {
         "alignmentgroup": "True",
         "hovertemplate": "Partido=%{x}<br>Número de Municípios=%{y}<extra></extra>",
         "legendgroup": "Rede Sustentabilidade",
         "marker": {
          "color": "#ab63fa",
          "pattern": {
           "shape": ""
          }
         },
         "name": "Rede Sustentabilidade",
         "offsetgroup": "Rede Sustentabilidade",
         "orientation": "v",
         "showlegend": true,
         "textposition": "auto",
         "type": "bar",
         "x": [
          "Rede Sustentabilidade"
         ],
         "xaxis": "x",
         "y": [
          72
         ],
         "yaxis": "y"
        },
        {
         "alignmentgroup": "True",
         "hovertemplate": "Partido=%{x}<br>Número de Municípios=%{y}<extra></extra>",
         "legendgroup": "Partido Renovador Trabalhista Brasileiro",
         "marker": {
          "color": "#FFA15A",
          "pattern": {
           "shape": ""
          }
         },
         "name": "Partido Renovador Trabalhista Brasileiro",
         "offsetgroup": "Partido Renovador Trabalhista Brasileiro",
         "orientation": "v",
         "showlegend": true,
         "textposition": "auto",
         "type": "bar",
         "x": [
          "Partido Renovador Trabalhista Brasileiro"
         ],
         "xaxis": "x",
         "y": [
          63
         ],
         "yaxis": "y"
        },
        {
         "alignmentgroup": "True",
         "hovertemplate": "Partido=%{x}<br>Número de Municípios=%{y}<extra></extra>",
         "legendgroup": "Partido Socialismo e Liberdade",
         "marker": {
          "color": "#19d3f3",
          "pattern": {
           "shape": ""
          }
         },
         "name": "Partido Socialismo e Liberdade",
         "offsetgroup": "Partido Socialismo e Liberdade",
         "orientation": "v",
         "showlegend": true,
         "textposition": "auto",
         "type": "bar",
         "x": [
          "Partido Socialismo e Liberdade"
         ],
         "xaxis": "x",
         "y": [
          51
         ],
         "yaxis": "y"
        },
        {
         "alignmentgroup": "True",
         "hovertemplate": "Partido=%{x}<br>Número de Municípios=%{y}<extra></extra>",
         "legendgroup": "Democracia Cristã",
         "marker": {
          "color": "#FF6692",
          "pattern": {
           "shape": ""
          }
         },
         "name": "Democracia Cristã",
         "offsetgroup": "Democracia Cristã",
         "orientation": "v",
         "showlegend": true,
         "textposition": "auto",
         "type": "bar",
         "x": [
          "Democracia Cristã"
         ],
         "xaxis": "x",
         "y": [
          41
         ],
         "yaxis": "y"
        },
        {
         "alignmentgroup": "True",
         "hovertemplate": "Partido=%{x}<br>Número de Municípios=%{y}<extra></extra>",
         "legendgroup": "Partido da Mulher Brasileira",
         "marker": {
          "color": "#B6E880",
          "pattern": {
           "shape": ""
          }
         },
         "name": "Partido da Mulher Brasileira",
         "offsetgroup": "Partido da Mulher Brasileira",
         "orientation": "v",
         "showlegend": true,
         "textposition": "auto",
         "type": "bar",
         "x": [
          "Partido da Mulher Brasileira"
         ],
         "xaxis": "x",
         "y": [
          23
         ],
         "yaxis": "y"
        },
        {
         "alignmentgroup": "True",
         "hovertemplate": "Partido=%{x}<br>Número de Municípios=%{y}<extra></extra>",
         "legendgroup": "Partido Socialista dos Trabalhadores Unificado",
         "marker": {
          "color": "#FF97FF",
          "pattern": {
           "shape": ""
          }
         },
         "name": "Partido Socialista dos Trabalhadores Unificado",
         "offsetgroup": "Partido Socialista dos Trabalhadores Unificado",
         "orientation": "v",
         "showlegend": true,
         "textposition": "auto",
         "type": "bar",
         "x": [
          "Partido Socialista dos Trabalhadores Unificado"
         ],
         "xaxis": "x",
         "y": [
          9
         ],
         "yaxis": "y"
        },
        {
         "alignmentgroup": "True",
         "hovertemplate": "Partido=%{x}<br>Número de Municípios=%{y}<extra></extra>",
         "legendgroup": "Partido Comunista Brasileiro",
         "marker": {
          "color": "#FECB52",
          "pattern": {
           "shape": ""
          }
         },
         "name": "Partido Comunista Brasileiro",
         "offsetgroup": "Partido Comunista Brasileiro",
         "orientation": "v",
         "showlegend": true,
         "textposition": "auto",
         "type": "bar",
         "x": [
          "Partido Comunista Brasileiro"
         ],
         "xaxis": "x",
         "y": [
          6
         ],
         "yaxis": "y"
        },
        {
         "alignmentgroup": "True",
         "hovertemplate": "Partido=%{x}<br>Número de Municípios=%{y}<extra></extra>",
         "legendgroup": "Partido Novo",
         "marker": {
          "color": "#636efa",
          "pattern": {
           "shape": ""
          }
         },
         "name": "Partido Novo",
         "offsetgroup": "Partido Novo",
         "orientation": "v",
         "showlegend": true,
         "textposition": "auto",
         "type": "bar",
         "x": [
          "Partido Novo"
         ],
         "xaxis": "x",
         "y": [
          5
         ],
         "yaxis": "y"
        },
        {
         "alignmentgroup": "True",
         "hovertemplate": "Partido=%{x}<br>Número de Municípios=%{y}<extra></extra>",
         "legendgroup": "Unidade Popular",
         "marker": {
          "color": "#EF553B",
          "pattern": {
           "shape": ""
          }
         },
         "name": "Unidade Popular",
         "offsetgroup": "Unidade Popular",
         "orientation": "v",
         "showlegend": true,
         "textposition": "auto",
         "type": "bar",
         "x": [
          "Unidade Popular"
         ],
         "xaxis": "x",
         "y": [
          3
         ],
         "yaxis": "y"
        },
        {
         "alignmentgroup": "True",
         "hovertemplate": "Partido=%{x}<br>Número de Municípios=%{y}<extra></extra>",
         "legendgroup": "Partido da Causa Operária",
         "marker": {
          "color": "#00cc96",
          "pattern": {
           "shape": ""
          }
         },
         "name": "Partido da Causa Operária",
         "offsetgroup": "Partido da Causa Operária",
         "orientation": "v",
         "showlegend": true,
         "textposition": "auto",
         "type": "bar",
         "x": [
          "Partido da Causa Operária"
         ],
         "xaxis": "x",
         "y": [
          1
         ],
         "yaxis": "y"
        },
        {
         "alignmentgroup": "True",
         "hovertemplate": "Partido=%{x}<br>Número de Municípios=%{y}<extra></extra>",
         "legendgroup": "União Brasil",
         "marker": {
          "color": "#ab63fa",
          "pattern": {
           "shape": ""
          }
         },
         "name": "União Brasil",
         "offsetgroup": "União Brasil",
         "orientation": "v",
         "showlegend": true,
         "textposition": "auto",
         "type": "bar",
         "x": [
          "União Brasil"
         ],
         "xaxis": "x",
         "y": [
          1
         ],
         "yaxis": "y"
        }
       ],
       "layout": {
        "barmode": "relative",
        "legend": {
         "title": {
          "text": "Partido"
         },
         "tracegroupgap": 0
        },
        "template": {
         "data": {
          "bar": [
           {
            "error_x": {
             "color": "#2a3f5f"
            },
            "error_y": {
             "color": "#2a3f5f"
            },
            "marker": {
             "line": {
              "color": "#E5ECF6",
              "width": 0.5
             },
             "pattern": {
              "fillmode": "overlay",
              "size": 10,
              "solidity": 0.2
             }
            },
            "type": "bar"
           }
          ],
          "barpolar": [
           {
            "marker": {
             "line": {
              "color": "#E5ECF6",
              "width": 0.5
             },
             "pattern": {
              "fillmode": "overlay",
              "size": 10,
              "solidity": 0.2
             }
            },
            "type": "barpolar"
           }
          ],
          "carpet": [
           {
            "aaxis": {
             "endlinecolor": "#2a3f5f",
             "gridcolor": "white",
             "linecolor": "white",
             "minorgridcolor": "white",
             "startlinecolor": "#2a3f5f"
            },
            "baxis": {
             "endlinecolor": "#2a3f5f",
             "gridcolor": "white",
             "linecolor": "white",
             "minorgridcolor": "white",
             "startlinecolor": "#2a3f5f"
            },
            "type": "carpet"
           }
          ],
          "choropleth": [
           {
            "colorbar": {
             "outlinewidth": 0,
             "ticks": ""
            },
            "type": "choropleth"
           }
          ],
          "contour": [
           {
            "colorbar": {
             "outlinewidth": 0,
             "ticks": ""
            },
            "colorscale": [
             [
              0,
              "#0d0887"
             ],
             [
              0.1111111111111111,
              "#46039f"
             ],
             [
              0.2222222222222222,
              "#7201a8"
             ],
             [
              0.3333333333333333,
              "#9c179e"
             ],
             [
              0.4444444444444444,
              "#bd3786"
             ],
             [
              0.5555555555555556,
              "#d8576b"
             ],
             [
              0.6666666666666666,
              "#ed7953"
             ],
             [
              0.7777777777777778,
              "#fb9f3a"
             ],
             [
              0.8888888888888888,
              "#fdca26"
             ],
             [
              1,
              "#f0f921"
             ]
            ],
            "type": "contour"
           }
          ],
          "contourcarpet": [
           {
            "colorbar": {
             "outlinewidth": 0,
             "ticks": ""
            },
            "type": "contourcarpet"
           }
          ],
          "heatmap": [
           {
            "colorbar": {
             "outlinewidth": 0,
             "ticks": ""
            },
            "colorscale": [
             [
              0,
              "#0d0887"
             ],
             [
              0.1111111111111111,
              "#46039f"
             ],
             [
              0.2222222222222222,
              "#7201a8"
             ],
             [
              0.3333333333333333,
              "#9c179e"
             ],
             [
              0.4444444444444444,
              "#bd3786"
             ],
             [
              0.5555555555555556,
              "#d8576b"
             ],
             [
              0.6666666666666666,
              "#ed7953"
             ],
             [
              0.7777777777777778,
              "#fb9f3a"
             ],
             [
              0.8888888888888888,
              "#fdca26"
             ],
             [
              1,
              "#f0f921"
             ]
            ],
            "type": "heatmap"
           }
          ],
          "heatmapgl": [
           {
            "colorbar": {
             "outlinewidth": 0,
             "ticks": ""
            },
            "colorscale": [
             [
              0,
              "#0d0887"
             ],
             [
              0.1111111111111111,
              "#46039f"
             ],
             [
              0.2222222222222222,
              "#7201a8"
             ],
             [
              0.3333333333333333,
              "#9c179e"
             ],
             [
              0.4444444444444444,
              "#bd3786"
             ],
             [
              0.5555555555555556,
              "#d8576b"
             ],
             [
              0.6666666666666666,
              "#ed7953"
             ],
             [
              0.7777777777777778,
              "#fb9f3a"
             ],
             [
              0.8888888888888888,
              "#fdca26"
             ],
             [
              1,
              "#f0f921"
             ]
            ],
            "type": "heatmapgl"
           }
          ],
          "histogram": [
           {
            "marker": {
             "pattern": {
              "fillmode": "overlay",
              "size": 10,
              "solidity": 0.2
             }
            },
            "type": "histogram"
           }
          ],
          "histogram2d": [
           {
            "colorbar": {
             "outlinewidth": 0,
             "ticks": ""
            },
            "colorscale": [
             [
              0,
              "#0d0887"
             ],
             [
              0.1111111111111111,
              "#46039f"
             ],
             [
              0.2222222222222222,
              "#7201a8"
             ],
             [
              0.3333333333333333,
              "#9c179e"
             ],
             [
              0.4444444444444444,
              "#bd3786"
             ],
             [
              0.5555555555555556,
              "#d8576b"
             ],
             [
              0.6666666666666666,
              "#ed7953"
             ],
             [
              0.7777777777777778,
              "#fb9f3a"
             ],
             [
              0.8888888888888888,
              "#fdca26"
             ],
             [
              1,
              "#f0f921"
             ]
            ],
            "type": "histogram2d"
           }
          ],
          "histogram2dcontour": [
           {
            "colorbar": {
             "outlinewidth": 0,
             "ticks": ""
            },
            "colorscale": [
             [
              0,
              "#0d0887"
             ],
             [
              0.1111111111111111,
              "#46039f"
             ],
             [
              0.2222222222222222,
              "#7201a8"
             ],
             [
              0.3333333333333333,
              "#9c179e"
             ],
             [
              0.4444444444444444,
              "#bd3786"
             ],
             [
              0.5555555555555556,
              "#d8576b"
             ],
             [
              0.6666666666666666,
              "#ed7953"
             ],
             [
              0.7777777777777778,
              "#fb9f3a"
             ],
             [
              0.8888888888888888,
              "#fdca26"
             ],
             [
              1,
              "#f0f921"
             ]
            ],
            "type": "histogram2dcontour"
           }
          ],
          "mesh3d": [
           {
            "colorbar": {
             "outlinewidth": 0,
             "ticks": ""
            },
            "type": "mesh3d"
           }
          ],
          "parcoords": [
           {
            "line": {
             "colorbar": {
              "outlinewidth": 0,
              "ticks": ""
             }
            },
            "type": "parcoords"
           }
          ],
          "pie": [
           {
            "automargin": true,
            "type": "pie"
           }
          ],
          "scatter": [
           {
            "fillpattern": {
             "fillmode": "overlay",
             "size": 10,
             "solidity": 0.2
            },
            "type": "scatter"
           }
          ],
          "scatter3d": [
           {
            "line": {
             "colorbar": {
              "outlinewidth": 0,
              "ticks": ""
             }
            },
            "marker": {
             "colorbar": {
              "outlinewidth": 0,
              "ticks": ""
             }
            },
            "type": "scatter3d"
           }
          ],
          "scattercarpet": [
           {
            "marker": {
             "colorbar": {
              "outlinewidth": 0,
              "ticks": ""
             }
            },
            "type": "scattercarpet"
           }
          ],
          "scattergeo": [
           {
            "marker": {
             "colorbar": {
              "outlinewidth": 0,
              "ticks": ""
             }
            },
            "type": "scattergeo"
           }
          ],
          "scattergl": [
           {
            "marker": {
             "colorbar": {
              "outlinewidth": 0,
              "ticks": ""
             }
            },
            "type": "scattergl"
           }
          ],
          "scattermapbox": [
           {
            "marker": {
             "colorbar": {
              "outlinewidth": 0,
              "ticks": ""
             }
            },
            "type": "scattermapbox"
           }
          ],
          "scatterpolar": [
           {
            "marker": {
             "colorbar": {
              "outlinewidth": 0,
              "ticks": ""
             }
            },
            "type": "scatterpolar"
           }
          ],
          "scatterpolargl": [
           {
            "marker": {
             "colorbar": {
              "outlinewidth": 0,
              "ticks": ""
             }
            },
            "type": "scatterpolargl"
           }
          ],
          "scatterternary": [
           {
            "marker": {
             "colorbar": {
              "outlinewidth": 0,
              "ticks": ""
             }
            },
            "type": "scatterternary"
           }
          ],
          "surface": [
           {
            "colorbar": {
             "outlinewidth": 0,
             "ticks": ""
            },
            "colorscale": [
             [
              0,
              "#0d0887"
             ],
             [
              0.1111111111111111,
              "#46039f"
             ],
             [
              0.2222222222222222,
              "#7201a8"
             ],
             [
              0.3333333333333333,
              "#9c179e"
             ],
             [
              0.4444444444444444,
              "#bd3786"
             ],
             [
              0.5555555555555556,
              "#d8576b"
             ],
             [
              0.6666666666666666,
              "#ed7953"
             ],
             [
              0.7777777777777778,
              "#fb9f3a"
             ],
             [
              0.8888888888888888,
              "#fdca26"
             ],
             [
              1,
              "#f0f921"
             ]
            ],
            "type": "surface"
           }
          ],
          "table": [
           {
            "cells": {
             "fill": {
              "color": "#EBF0F8"
             },
             "line": {
              "color": "white"
             }
            },
            "header": {
             "fill": {
              "color": "#C8D4E3"
             },
             "line": {
              "color": "white"
             }
            },
            "type": "table"
           }
          ]
         },
         "layout": {
          "annotationdefaults": {
           "arrowcolor": "#2a3f5f",
           "arrowhead": 0,
           "arrowwidth": 1
          },
          "autotypenumbers": "strict",
          "coloraxis": {
           "colorbar": {
            "outlinewidth": 0,
            "ticks": ""
           }
          },
          "colorscale": {
           "diverging": [
            [
             0,
             "#8e0152"
            ],
            [
             0.1,
             "#c51b7d"
            ],
            [
             0.2,
             "#de77ae"
            ],
            [
             0.3,
             "#f1b6da"
            ],
            [
             0.4,
             "#fde0ef"
            ],
            [
             0.5,
             "#f7f7f7"
            ],
            [
             0.6,
             "#e6f5d0"
            ],
            [
             0.7,
             "#b8e186"
            ],
            [
             0.8,
             "#7fbc41"
            ],
            [
             0.9,
             "#4d9221"
            ],
            [
             1,
             "#276419"
            ]
           ],
           "sequential": [
            [
             0,
             "#0d0887"
            ],
            [
             0.1111111111111111,
             "#46039f"
            ],
            [
             0.2222222222222222,
             "#7201a8"
            ],
            [
             0.3333333333333333,
             "#9c179e"
            ],
            [
             0.4444444444444444,
             "#bd3786"
            ],
            [
             0.5555555555555556,
             "#d8576b"
            ],
            [
             0.6666666666666666,
             "#ed7953"
            ],
            [
             0.7777777777777778,
             "#fb9f3a"
            ],
            [
             0.8888888888888888,
             "#fdca26"
            ],
            [
             1,
             "#f0f921"
            ]
           ],
           "sequentialminus": [
            [
             0,
             "#0d0887"
            ],
            [
             0.1111111111111111,
             "#46039f"
            ],
            [
             0.2222222222222222,
             "#7201a8"
            ],
            [
             0.3333333333333333,
             "#9c179e"
            ],
            [
             0.4444444444444444,
             "#bd3786"
            ],
            [
             0.5555555555555556,
             "#d8576b"
            ],
            [
             0.6666666666666666,
             "#ed7953"
            ],
            [
             0.7777777777777778,
             "#fb9f3a"
            ],
            [
             0.8888888888888888,
             "#fdca26"
            ],
            [
             1,
             "#f0f921"
            ]
           ]
          },
          "colorway": [
           "#636efa",
           "#EF553B",
           "#00cc96",
           "#ab63fa",
           "#FFA15A",
           "#19d3f3",
           "#FF6692",
           "#B6E880",
           "#FF97FF",
           "#FECB52"
          ],
          "font": {
           "color": "#2a3f5f"
          },
          "geo": {
           "bgcolor": "white",
           "lakecolor": "white",
           "landcolor": "#E5ECF6",
           "showlakes": true,
           "showland": true,
           "subunitcolor": "white"
          },
          "hoverlabel": {
           "align": "left"
          },
          "hovermode": "closest",
          "mapbox": {
           "style": "light"
          },
          "paper_bgcolor": "white",
          "plot_bgcolor": "#E5ECF6",
          "polar": {
           "angularaxis": {
            "gridcolor": "white",
            "linecolor": "white",
            "ticks": ""
           },
           "bgcolor": "#E5ECF6",
           "radialaxis": {
            "gridcolor": "white",
            "linecolor": "white",
            "ticks": ""
           }
          },
          "scene": {
           "xaxis": {
            "backgroundcolor": "#E5ECF6",
            "gridcolor": "white",
            "gridwidth": 2,
            "linecolor": "white",
            "showbackground": true,
            "ticks": "",
            "zerolinecolor": "white"
           },
           "yaxis": {
            "backgroundcolor": "#E5ECF6",
            "gridcolor": "white",
            "gridwidth": 2,
            "linecolor": "white",
            "showbackground": true,
            "ticks": "",
            "zerolinecolor": "white"
           },
           "zaxis": {
            "backgroundcolor": "#E5ECF6",
            "gridcolor": "white",
            "gridwidth": 2,
            "linecolor": "white",
            "showbackground": true,
            "ticks": "",
            "zerolinecolor": "white"
           }
          },
          "shapedefaults": {
           "line": {
            "color": "#2a3f5f"
           }
          },
          "ternary": {
           "aaxis": {
            "gridcolor": "white",
            "linecolor": "white",
            "ticks": ""
           },
           "baxis": {
            "gridcolor": "white",
            "linecolor": "white",
            "ticks": ""
           },
           "bgcolor": "#E5ECF6",
           "caxis": {
            "gridcolor": "white",
            "linecolor": "white",
            "ticks": ""
           }
          },
          "title": {
           "x": 0.05
          },
          "xaxis": {
           "automargin": true,
           "gridcolor": "white",
           "linecolor": "white",
           "ticks": "",
           "title": {
            "standoff": 15
           },
           "zerolinecolor": "white",
           "zerolinewidth": 2
          },
          "yaxis": {
           "automargin": true,
           "gridcolor": "white",
           "linecolor": "white",
           "ticks": "",
           "title": {
            "standoff": 15
           },
           "zerolinecolor": "white",
           "zerolinewidth": 2
          }
         }
        },
        "title": {
         "text": "Partidos mais votados em 2020"
        },
        "xaxis": {
         "anchor": "y",
         "categoryarray": [
          "Movimento Democrático Brasileiro",
          "Partido Social Democrático",
          "Democratas",
          "Partido da Social Democracia Brasileira",
          "Partido dos Trabalhadores",
          "AVANTE",
          "PROGRESSISTAS",
          "Partido Trabalhista Brasileiro",
          "Partido Democrático Trabalhista",
          "Partido Socialista Brasileiro",
          "REPUBLICANOS",
          "Partido Liberal",
          "Solidariedade",
          "Partido Social Liberal",
          "Patriota",
          "Cidadania",
          "Partido Social Cristão",
          "Podemos",
          "Partido Verde",
          "Partido Republicano da Ordem Social",
          "Partido da Mobilização Nacional",
          "Partido Trabalhista Cristão",
          "Partido Comunista do Brasil",
          "Rede Sustentabilidade",
          "Partido Renovador Trabalhista Brasileiro",
          "Partido Socialismo e Liberdade",
          "Democracia Cristã",
          "Partido da Mulher Brasileira",
          "Partido Socialista dos Trabalhadores Unificado",
          "Partido Comunista Brasileiro",
          "Partido Novo",
          "Unidade Popular",
          "Partido da Causa Operária",
          "União Brasil"
         ],
         "categoryorder": "array",
         "domain": [
          0,
          1
         ],
         "title": {
          "text": "Partido"
         }
        },
        "yaxis": {
         "anchor": "x",
         "domain": [
          0,
          1
         ],
         "title": {
          "text": "Número de Municípios"
         }
        }
       }
      },
      "text/html": [
       "<div>                            <div id=\"7da9033d-2038-47d7-8c0c-34a462cfdc1e\" class=\"plotly-graph-div\" style=\"height:525px; width:100%;\"></div>            <script type=\"text/javascript\">                require([\"plotly\"], function(Plotly) {                    window.PLOTLYENV=window.PLOTLYENV || {};                                    if (document.getElementById(\"7da9033d-2038-47d7-8c0c-34a462cfdc1e\")) {                    Plotly.newPlot(                        \"7da9033d-2038-47d7-8c0c-34a462cfdc1e\",                        [{\"alignmentgroup\":\"True\",\"hovertemplate\":\"Partido=%{x}\\u003cbr\\u003eN\\u00famero de Munic\\u00edpios=%{y}\\u003cextra\\u003e\\u003c\\u002fextra\\u003e\",\"legendgroup\":\"Movimento Democr\\u00e1tico Brasileiro\",\"marker\":{\"color\":\"#636efa\",\"pattern\":{\"shape\":\"\"}},\"name\":\"Movimento Democr\\u00e1tico Brasileiro\",\"offsetgroup\":\"Movimento Democr\\u00e1tico Brasileiro\",\"orientation\":\"v\",\"showlegend\":true,\"textposition\":\"auto\",\"x\":[\"Movimento Democr\\u00e1tico Brasileiro\"],\"xaxis\":\"x\",\"y\":[466],\"yaxis\":\"y\",\"type\":\"bar\"},{\"alignmentgroup\":\"True\",\"hovertemplate\":\"Partido=%{x}\\u003cbr\\u003eN\\u00famero de Munic\\u00edpios=%{y}\\u003cextra\\u003e\\u003c\\u002fextra\\u003e\",\"legendgroup\":\"Partido Social Democr\\u00e1tico\",\"marker\":{\"color\":\"#EF553B\",\"pattern\":{\"shape\":\"\"}},\"name\":\"Partido Social Democr\\u00e1tico\",\"offsetgroup\":\"Partido Social Democr\\u00e1tico\",\"orientation\":\"v\",\"showlegend\":true,\"textposition\":\"auto\",\"x\":[\"Partido Social Democr\\u00e1tico\"],\"xaxis\":\"x\",\"y\":[432],\"yaxis\":\"y\",\"type\":\"bar\"},{\"alignmentgroup\":\"True\",\"hovertemplate\":\"Partido=%{x}\\u003cbr\\u003eN\\u00famero de Munic\\u00edpios=%{y}\\u003cextra\\u003e\\u003c\\u002fextra\\u003e\",\"legendgroup\":\"Democratas\",\"marker\":{\"color\":\"#00cc96\",\"pattern\":{\"shape\":\"\"}},\"name\":\"Democratas\",\"offsetgroup\":\"Democratas\",\"orientation\":\"v\",\"showlegend\":true,\"textposition\":\"auto\",\"x\":[\"Democratas\"],\"xaxis\":\"x\",\"y\":[427],\"yaxis\":\"y\",\"type\":\"bar\"},{\"alignmentgroup\":\"True\",\"hovertemplate\":\"Partido=%{x}\\u003cbr\\u003eN\\u00famero de Munic\\u00edpios=%{y}\\u003cextra\\u003e\\u003c\\u002fextra\\u003e\",\"legendgroup\":\"Partido da Social Democracia Brasileira\",\"marker\":{\"color\":\"#ab63fa\",\"pattern\":{\"shape\":\"\"}},\"name\":\"Partido da Social Democracia Brasileira\",\"offsetgroup\":\"Partido da Social Democracia Brasileira\",\"orientation\":\"v\",\"showlegend\":true,\"textposition\":\"auto\",\"x\":[\"Partido da Social Democracia Brasileira\"],\"xaxis\":\"x\",\"y\":[415],\"yaxis\":\"y\",\"type\":\"bar\"},{\"alignmentgroup\":\"True\",\"hovertemplate\":\"Partido=%{x}\\u003cbr\\u003eN\\u00famero de Munic\\u00edpios=%{y}\\u003cextra\\u003e\\u003c\\u002fextra\\u003e\",\"legendgroup\":\"Partido dos Trabalhadores\",\"marker\":{\"color\":\"#FFA15A\",\"pattern\":{\"shape\":\"\"}},\"name\":\"Partido dos Trabalhadores\",\"offsetgroup\":\"Partido dos Trabalhadores\",\"orientation\":\"v\",\"showlegend\":true,\"textposition\":\"auto\",\"x\":[\"Partido dos Trabalhadores\"],\"xaxis\":\"x\",\"y\":[408],\"yaxis\":\"y\",\"type\":\"bar\"},{\"alignmentgroup\":\"True\",\"hovertemplate\":\"Partido=%{x}\\u003cbr\\u003eN\\u00famero de Munic\\u00edpios=%{y}\\u003cextra\\u003e\\u003c\\u002fextra\\u003e\",\"legendgroup\":\"AVANTE\",\"marker\":{\"color\":\"#19d3f3\",\"pattern\":{\"shape\":\"\"}},\"name\":\"AVANTE\",\"offsetgroup\":\"AVANTE\",\"orientation\":\"v\",\"showlegend\":true,\"textposition\":\"auto\",\"x\":[\"AVANTE\"],\"xaxis\":\"x\",\"y\":[351],\"yaxis\":\"y\",\"type\":\"bar\"},{\"alignmentgroup\":\"True\",\"hovertemplate\":\"Partido=%{x}\\u003cbr\\u003eN\\u00famero de Munic\\u00edpios=%{y}\\u003cextra\\u003e\\u003c\\u002fextra\\u003e\",\"legendgroup\":\"PROGRESSISTAS\",\"marker\":{\"color\":\"#FF6692\",\"pattern\":{\"shape\":\"\"}},\"name\":\"PROGRESSISTAS\",\"offsetgroup\":\"PROGRESSISTAS\",\"orientation\":\"v\",\"showlegend\":true,\"textposition\":\"auto\",\"x\":[\"PROGRESSISTAS\"],\"xaxis\":\"x\",\"y\":[301],\"yaxis\":\"y\",\"type\":\"bar\"},{\"alignmentgroup\":\"True\",\"hovertemplate\":\"Partido=%{x}\\u003cbr\\u003eN\\u00famero de Munic\\u00edpios=%{y}\\u003cextra\\u003e\\u003c\\u002fextra\\u003e\",\"legendgroup\":\"Partido Trabalhista Brasileiro\",\"marker\":{\"color\":\"#B6E880\",\"pattern\":{\"shape\":\"\"}},\"name\":\"Partido Trabalhista Brasileiro\",\"offsetgroup\":\"Partido Trabalhista Brasileiro\",\"orientation\":\"v\",\"showlegend\":true,\"textposition\":\"auto\",\"x\":[\"Partido Trabalhista Brasileiro\"],\"xaxis\":\"x\",\"y\":[300],\"yaxis\":\"y\",\"type\":\"bar\"},{\"alignmentgroup\":\"True\",\"hovertemplate\":\"Partido=%{x}\\u003cbr\\u003eN\\u00famero de Munic\\u00edpios=%{y}\\u003cextra\\u003e\\u003c\\u002fextra\\u003e\",\"legendgroup\":\"Partido Democr\\u00e1tico Trabalhista\",\"marker\":{\"color\":\"#FF97FF\",\"pattern\":{\"shape\":\"\"}},\"name\":\"Partido Democr\\u00e1tico Trabalhista\",\"offsetgroup\":\"Partido Democr\\u00e1tico Trabalhista\",\"orientation\":\"v\",\"showlegend\":true,\"textposition\":\"auto\",\"x\":[\"Partido Democr\\u00e1tico Trabalhista\"],\"xaxis\":\"x\",\"y\":[293],\"yaxis\":\"y\",\"type\":\"bar\"},{\"alignmentgroup\":\"True\",\"hovertemplate\":\"Partido=%{x}\\u003cbr\\u003eN\\u00famero de Munic\\u00edpios=%{y}\\u003cextra\\u003e\\u003c\\u002fextra\\u003e\",\"legendgroup\":\"Partido Socialista Brasileiro\",\"marker\":{\"color\":\"#FECB52\",\"pattern\":{\"shape\":\"\"}},\"name\":\"Partido Socialista Brasileiro\",\"offsetgroup\":\"Partido Socialista Brasileiro\",\"orientation\":\"v\",\"showlegend\":true,\"textposition\":\"auto\",\"x\":[\"Partido Socialista Brasileiro\"],\"xaxis\":\"x\",\"y\":[278],\"yaxis\":\"y\",\"type\":\"bar\"},{\"alignmentgroup\":\"True\",\"hovertemplate\":\"Partido=%{x}\\u003cbr\\u003eN\\u00famero de Munic\\u00edpios=%{y}\\u003cextra\\u003e\\u003c\\u002fextra\\u003e\",\"legendgroup\":\"REPUBLICANOS\",\"marker\":{\"color\":\"#636efa\",\"pattern\":{\"shape\":\"\"}},\"name\":\"REPUBLICANOS\",\"offsetgroup\":\"REPUBLICANOS\",\"orientation\":\"v\",\"showlegend\":true,\"textposition\":\"auto\",\"x\":[\"REPUBLICANOS\"],\"xaxis\":\"x\",\"y\":[276],\"yaxis\":\"y\",\"type\":\"bar\"},{\"alignmentgroup\":\"True\",\"hovertemplate\":\"Partido=%{x}\\u003cbr\\u003eN\\u00famero de Munic\\u00edpios=%{y}\\u003cextra\\u003e\\u003c\\u002fextra\\u003e\",\"legendgroup\":\"Partido Liberal\",\"marker\":{\"color\":\"#EF553B\",\"pattern\":{\"shape\":\"\"}},\"name\":\"Partido Liberal\",\"offsetgroup\":\"Partido Liberal\",\"orientation\":\"v\",\"showlegend\":true,\"textposition\":\"auto\",\"x\":[\"Partido Liberal\"],\"xaxis\":\"x\",\"y\":[266],\"yaxis\":\"y\",\"type\":\"bar\"},{\"alignmentgroup\":\"True\",\"hovertemplate\":\"Partido=%{x}\\u003cbr\\u003eN\\u00famero de Munic\\u00edpios=%{y}\\u003cextra\\u003e\\u003c\\u002fextra\\u003e\",\"legendgroup\":\"Solidariedade\",\"marker\":{\"color\":\"#00cc96\",\"pattern\":{\"shape\":\"\"}},\"name\":\"Solidariedade\",\"offsetgroup\":\"Solidariedade\",\"orientation\":\"v\",\"showlegend\":true,\"textposition\":\"auto\",\"x\":[\"Solidariedade\"],\"xaxis\":\"x\",\"y\":[243],\"yaxis\":\"y\",\"type\":\"bar\"},{\"alignmentgroup\":\"True\",\"hovertemplate\":\"Partido=%{x}\\u003cbr\\u003eN\\u00famero de Munic\\u00edpios=%{y}\\u003cextra\\u003e\\u003c\\u002fextra\\u003e\",\"legendgroup\":\"Partido Social Liberal\",\"marker\":{\"color\":\"#ab63fa\",\"pattern\":{\"shape\":\"\"}},\"name\":\"Partido Social Liberal\",\"offsetgroup\":\"Partido Social Liberal\",\"orientation\":\"v\",\"showlegend\":true,\"textposition\":\"auto\",\"x\":[\"Partido Social Liberal\"],\"xaxis\":\"x\",\"y\":[233],\"yaxis\":\"y\",\"type\":\"bar\"},{\"alignmentgroup\":\"True\",\"hovertemplate\":\"Partido=%{x}\\u003cbr\\u003eN\\u00famero de Munic\\u00edpios=%{y}\\u003cextra\\u003e\\u003c\\u002fextra\\u003e\",\"legendgroup\":\"Patriota\",\"marker\":{\"color\":\"#FFA15A\",\"pattern\":{\"shape\":\"\"}},\"name\":\"Patriota\",\"offsetgroup\":\"Patriota\",\"orientation\":\"v\",\"showlegend\":true,\"textposition\":\"auto\",\"x\":[\"Patriota\"],\"xaxis\":\"x\",\"y\":[222],\"yaxis\":\"y\",\"type\":\"bar\"},{\"alignmentgroup\":\"True\",\"hovertemplate\":\"Partido=%{x}\\u003cbr\\u003eN\\u00famero de Munic\\u00edpios=%{y}\\u003cextra\\u003e\\u003c\\u002fextra\\u003e\",\"legendgroup\":\"Cidadania\",\"marker\":{\"color\":\"#19d3f3\",\"pattern\":{\"shape\":\"\"}},\"name\":\"Cidadania\",\"offsetgroup\":\"Cidadania\",\"orientation\":\"v\",\"showlegend\":true,\"textposition\":\"auto\",\"x\":[\"Cidadania\"],\"xaxis\":\"x\",\"y\":[197],\"yaxis\":\"y\",\"type\":\"bar\"},{\"alignmentgroup\":\"True\",\"hovertemplate\":\"Partido=%{x}\\u003cbr\\u003eN\\u00famero de Munic\\u00edpios=%{y}\\u003cextra\\u003e\\u003c\\u002fextra\\u003e\",\"legendgroup\":\"Partido Social Crist\\u00e3o\",\"marker\":{\"color\":\"#FF6692\",\"pattern\":{\"shape\":\"\"}},\"name\":\"Partido Social Crist\\u00e3o\",\"offsetgroup\":\"Partido Social Crist\\u00e3o\",\"orientation\":\"v\",\"showlegend\":true,\"textposition\":\"auto\",\"x\":[\"Partido Social Crist\\u00e3o\"],\"xaxis\":\"x\",\"y\":[185],\"yaxis\":\"y\",\"type\":\"bar\"},{\"alignmentgroup\":\"True\",\"hovertemplate\":\"Partido=%{x}\\u003cbr\\u003eN\\u00famero de Munic\\u00edpios=%{y}\\u003cextra\\u003e\\u003c\\u002fextra\\u003e\",\"legendgroup\":\"Podemos\",\"marker\":{\"color\":\"#B6E880\",\"pattern\":{\"shape\":\"\"}},\"name\":\"Podemos\",\"offsetgroup\":\"Podemos\",\"orientation\":\"v\",\"showlegend\":true,\"textposition\":\"auto\",\"x\":[\"Podemos\"],\"xaxis\":\"x\",\"y\":[179],\"yaxis\":\"y\",\"type\":\"bar\"},{\"alignmentgroup\":\"True\",\"hovertemplate\":\"Partido=%{x}\\u003cbr\\u003eN\\u00famero de Munic\\u00edpios=%{y}\\u003cextra\\u003e\\u003c\\u002fextra\\u003e\",\"legendgroup\":\"Partido Verde\",\"marker\":{\"color\":\"#FF97FF\",\"pattern\":{\"shape\":\"\"}},\"name\":\"Partido Verde\",\"offsetgroup\":\"Partido Verde\",\"orientation\":\"v\",\"showlegend\":true,\"textposition\":\"auto\",\"x\":[\"Partido Verde\"],\"xaxis\":\"x\",\"y\":[174],\"yaxis\":\"y\",\"type\":\"bar\"},{\"alignmentgroup\":\"True\",\"hovertemplate\":\"Partido=%{x}\\u003cbr\\u003eN\\u00famero de Munic\\u00edpios=%{y}\\u003cextra\\u003e\\u003c\\u002fextra\\u003e\",\"legendgroup\":\"Partido Republicano da Ordem Social\",\"marker\":{\"color\":\"#FECB52\",\"pattern\":{\"shape\":\"\"}},\"name\":\"Partido Republicano da Ordem Social\",\"offsetgroup\":\"Partido Republicano da Ordem Social\",\"orientation\":\"v\",\"showlegend\":true,\"textposition\":\"auto\",\"x\":[\"Partido Republicano da Ordem Social\"],\"xaxis\":\"x\",\"y\":[96],\"yaxis\":\"y\",\"type\":\"bar\"},{\"alignmentgroup\":\"True\",\"hovertemplate\":\"Partido=%{x}\\u003cbr\\u003eN\\u00famero de Munic\\u00edpios=%{y}\\u003cextra\\u003e\\u003c\\u002fextra\\u003e\",\"legendgroup\":\"Partido da Mobiliza\\u00e7\\u00e3o Nacional\",\"marker\":{\"color\":\"#636efa\",\"pattern\":{\"shape\":\"\"}},\"name\":\"Partido da Mobiliza\\u00e7\\u00e3o Nacional\",\"offsetgroup\":\"Partido da Mobiliza\\u00e7\\u00e3o Nacional\",\"orientation\":\"v\",\"showlegend\":true,\"textposition\":\"auto\",\"x\":[\"Partido da Mobiliza\\u00e7\\u00e3o Nacional\"],\"xaxis\":\"x\",\"y\":[87],\"yaxis\":\"y\",\"type\":\"bar\"},{\"alignmentgroup\":\"True\",\"hovertemplate\":\"Partido=%{x}\\u003cbr\\u003eN\\u00famero de Munic\\u00edpios=%{y}\\u003cextra\\u003e\\u003c\\u002fextra\\u003e\",\"legendgroup\":\"Partido Trabalhista Crist\\u00e3o\",\"marker\":{\"color\":\"#EF553B\",\"pattern\":{\"shape\":\"\"}},\"name\":\"Partido Trabalhista Crist\\u00e3o\",\"offsetgroup\":\"Partido Trabalhista Crist\\u00e3o\",\"orientation\":\"v\",\"showlegend\":true,\"textposition\":\"auto\",\"x\":[\"Partido Trabalhista Crist\\u00e3o\"],\"xaxis\":\"x\",\"y\":[85],\"yaxis\":\"y\",\"type\":\"bar\"},{\"alignmentgroup\":\"True\",\"hovertemplate\":\"Partido=%{x}\\u003cbr\\u003eN\\u00famero de Munic\\u00edpios=%{y}\\u003cextra\\u003e\\u003c\\u002fextra\\u003e\",\"legendgroup\":\"Partido Comunista do Brasil\",\"marker\":{\"color\":\"#00cc96\",\"pattern\":{\"shape\":\"\"}},\"name\":\"Partido Comunista do Brasil\",\"offsetgroup\":\"Partido Comunista do Brasil\",\"orientation\":\"v\",\"showlegend\":true,\"textposition\":\"auto\",\"x\":[\"Partido Comunista do Brasil\"],\"xaxis\":\"x\",\"y\":[80],\"yaxis\":\"y\",\"type\":\"bar\"},{\"alignmentgroup\":\"True\",\"hovertemplate\":\"Partido=%{x}\\u003cbr\\u003eN\\u00famero de Munic\\u00edpios=%{y}\\u003cextra\\u003e\\u003c\\u002fextra\\u003e\",\"legendgroup\":\"Rede Sustentabilidade\",\"marker\":{\"color\":\"#ab63fa\",\"pattern\":{\"shape\":\"\"}},\"name\":\"Rede Sustentabilidade\",\"offsetgroup\":\"Rede Sustentabilidade\",\"orientation\":\"v\",\"showlegend\":true,\"textposition\":\"auto\",\"x\":[\"Rede Sustentabilidade\"],\"xaxis\":\"x\",\"y\":[72],\"yaxis\":\"y\",\"type\":\"bar\"},{\"alignmentgroup\":\"True\",\"hovertemplate\":\"Partido=%{x}\\u003cbr\\u003eN\\u00famero de Munic\\u00edpios=%{y}\\u003cextra\\u003e\\u003c\\u002fextra\\u003e\",\"legendgroup\":\"Partido Renovador Trabalhista Brasileiro\",\"marker\":{\"color\":\"#FFA15A\",\"pattern\":{\"shape\":\"\"}},\"name\":\"Partido Renovador Trabalhista Brasileiro\",\"offsetgroup\":\"Partido Renovador Trabalhista Brasileiro\",\"orientation\":\"v\",\"showlegend\":true,\"textposition\":\"auto\",\"x\":[\"Partido Renovador Trabalhista Brasileiro\"],\"xaxis\":\"x\",\"y\":[63],\"yaxis\":\"y\",\"type\":\"bar\"},{\"alignmentgroup\":\"True\",\"hovertemplate\":\"Partido=%{x}\\u003cbr\\u003eN\\u00famero de Munic\\u00edpios=%{y}\\u003cextra\\u003e\\u003c\\u002fextra\\u003e\",\"legendgroup\":\"Partido Socialismo e Liberdade\",\"marker\":{\"color\":\"#19d3f3\",\"pattern\":{\"shape\":\"\"}},\"name\":\"Partido Socialismo e Liberdade\",\"offsetgroup\":\"Partido Socialismo e Liberdade\",\"orientation\":\"v\",\"showlegend\":true,\"textposition\":\"auto\",\"x\":[\"Partido Socialismo e Liberdade\"],\"xaxis\":\"x\",\"y\":[51],\"yaxis\":\"y\",\"type\":\"bar\"},{\"alignmentgroup\":\"True\",\"hovertemplate\":\"Partido=%{x}\\u003cbr\\u003eN\\u00famero de Munic\\u00edpios=%{y}\\u003cextra\\u003e\\u003c\\u002fextra\\u003e\",\"legendgroup\":\"Democracia Crist\\u00e3\",\"marker\":{\"color\":\"#FF6692\",\"pattern\":{\"shape\":\"\"}},\"name\":\"Democracia Crist\\u00e3\",\"offsetgroup\":\"Democracia Crist\\u00e3\",\"orientation\":\"v\",\"showlegend\":true,\"textposition\":\"auto\",\"x\":[\"Democracia Crist\\u00e3\"],\"xaxis\":\"x\",\"y\":[41],\"yaxis\":\"y\",\"type\":\"bar\"},{\"alignmentgroup\":\"True\",\"hovertemplate\":\"Partido=%{x}\\u003cbr\\u003eN\\u00famero de Munic\\u00edpios=%{y}\\u003cextra\\u003e\\u003c\\u002fextra\\u003e\",\"legendgroup\":\"Partido da Mulher Brasileira\",\"marker\":{\"color\":\"#B6E880\",\"pattern\":{\"shape\":\"\"}},\"name\":\"Partido da Mulher Brasileira\",\"offsetgroup\":\"Partido da Mulher Brasileira\",\"orientation\":\"v\",\"showlegend\":true,\"textposition\":\"auto\",\"x\":[\"Partido da Mulher Brasileira\"],\"xaxis\":\"x\",\"y\":[23],\"yaxis\":\"y\",\"type\":\"bar\"},{\"alignmentgroup\":\"True\",\"hovertemplate\":\"Partido=%{x}\\u003cbr\\u003eN\\u00famero de Munic\\u00edpios=%{y}\\u003cextra\\u003e\\u003c\\u002fextra\\u003e\",\"legendgroup\":\"Partido Socialista dos Trabalhadores Unificado\",\"marker\":{\"color\":\"#FF97FF\",\"pattern\":{\"shape\":\"\"}},\"name\":\"Partido Socialista dos Trabalhadores Unificado\",\"offsetgroup\":\"Partido Socialista dos Trabalhadores Unificado\",\"orientation\":\"v\",\"showlegend\":true,\"textposition\":\"auto\",\"x\":[\"Partido Socialista dos Trabalhadores Unificado\"],\"xaxis\":\"x\",\"y\":[9],\"yaxis\":\"y\",\"type\":\"bar\"},{\"alignmentgroup\":\"True\",\"hovertemplate\":\"Partido=%{x}\\u003cbr\\u003eN\\u00famero de Munic\\u00edpios=%{y}\\u003cextra\\u003e\\u003c\\u002fextra\\u003e\",\"legendgroup\":\"Partido Comunista Brasileiro\",\"marker\":{\"color\":\"#FECB52\",\"pattern\":{\"shape\":\"\"}},\"name\":\"Partido Comunista Brasileiro\",\"offsetgroup\":\"Partido Comunista Brasileiro\",\"orientation\":\"v\",\"showlegend\":true,\"textposition\":\"auto\",\"x\":[\"Partido Comunista Brasileiro\"],\"xaxis\":\"x\",\"y\":[6],\"yaxis\":\"y\",\"type\":\"bar\"},{\"alignmentgroup\":\"True\",\"hovertemplate\":\"Partido=%{x}\\u003cbr\\u003eN\\u00famero de Munic\\u00edpios=%{y}\\u003cextra\\u003e\\u003c\\u002fextra\\u003e\",\"legendgroup\":\"Partido Novo\",\"marker\":{\"color\":\"#636efa\",\"pattern\":{\"shape\":\"\"}},\"name\":\"Partido Novo\",\"offsetgroup\":\"Partido Novo\",\"orientation\":\"v\",\"showlegend\":true,\"textposition\":\"auto\",\"x\":[\"Partido Novo\"],\"xaxis\":\"x\",\"y\":[5],\"yaxis\":\"y\",\"type\":\"bar\"},{\"alignmentgroup\":\"True\",\"hovertemplate\":\"Partido=%{x}\\u003cbr\\u003eN\\u00famero de Munic\\u00edpios=%{y}\\u003cextra\\u003e\\u003c\\u002fextra\\u003e\",\"legendgroup\":\"Unidade Popular\",\"marker\":{\"color\":\"#EF553B\",\"pattern\":{\"shape\":\"\"}},\"name\":\"Unidade Popular\",\"offsetgroup\":\"Unidade Popular\",\"orientation\":\"v\",\"showlegend\":true,\"textposition\":\"auto\",\"x\":[\"Unidade Popular\"],\"xaxis\":\"x\",\"y\":[3],\"yaxis\":\"y\",\"type\":\"bar\"},{\"alignmentgroup\":\"True\",\"hovertemplate\":\"Partido=%{x}\\u003cbr\\u003eN\\u00famero de Munic\\u00edpios=%{y}\\u003cextra\\u003e\\u003c\\u002fextra\\u003e\",\"legendgroup\":\"Partido da Causa Oper\\u00e1ria\",\"marker\":{\"color\":\"#00cc96\",\"pattern\":{\"shape\":\"\"}},\"name\":\"Partido da Causa Oper\\u00e1ria\",\"offsetgroup\":\"Partido da Causa Oper\\u00e1ria\",\"orientation\":\"v\",\"showlegend\":true,\"textposition\":\"auto\",\"x\":[\"Partido da Causa Oper\\u00e1ria\"],\"xaxis\":\"x\",\"y\":[1],\"yaxis\":\"y\",\"type\":\"bar\"},{\"alignmentgroup\":\"True\",\"hovertemplate\":\"Partido=%{x}\\u003cbr\\u003eN\\u00famero de Munic\\u00edpios=%{y}\\u003cextra\\u003e\\u003c\\u002fextra\\u003e\",\"legendgroup\":\"Uni\\u00e3o Brasil\",\"marker\":{\"color\":\"#ab63fa\",\"pattern\":{\"shape\":\"\"}},\"name\":\"Uni\\u00e3o Brasil\",\"offsetgroup\":\"Uni\\u00e3o Brasil\",\"orientation\":\"v\",\"showlegend\":true,\"textposition\":\"auto\",\"x\":[\"Uni\\u00e3o Brasil\"],\"xaxis\":\"x\",\"y\":[1],\"yaxis\":\"y\",\"type\":\"bar\"}],                        {\"template\":{\"data\":{\"histogram2dcontour\":[{\"type\":\"histogram2dcontour\",\"colorbar\":{\"outlinewidth\":0,\"ticks\":\"\"},\"colorscale\":[[0.0,\"#0d0887\"],[0.1111111111111111,\"#46039f\"],[0.2222222222222222,\"#7201a8\"],[0.3333333333333333,\"#9c179e\"],[0.4444444444444444,\"#bd3786\"],[0.5555555555555556,\"#d8576b\"],[0.6666666666666666,\"#ed7953\"],[0.7777777777777778,\"#fb9f3a\"],[0.8888888888888888,\"#fdca26\"],[1.0,\"#f0f921\"]]}],\"choropleth\":[{\"type\":\"choropleth\",\"colorbar\":{\"outlinewidth\":0,\"ticks\":\"\"}}],\"histogram2d\":[{\"type\":\"histogram2d\",\"colorbar\":{\"outlinewidth\":0,\"ticks\":\"\"},\"colorscale\":[[0.0,\"#0d0887\"],[0.1111111111111111,\"#46039f\"],[0.2222222222222222,\"#7201a8\"],[0.3333333333333333,\"#9c179e\"],[0.4444444444444444,\"#bd3786\"],[0.5555555555555556,\"#d8576b\"],[0.6666666666666666,\"#ed7953\"],[0.7777777777777778,\"#fb9f3a\"],[0.8888888888888888,\"#fdca26\"],[1.0,\"#f0f921\"]]}],\"heatmap\":[{\"type\":\"heatmap\",\"colorbar\":{\"outlinewidth\":0,\"ticks\":\"\"},\"colorscale\":[[0.0,\"#0d0887\"],[0.1111111111111111,\"#46039f\"],[0.2222222222222222,\"#7201a8\"],[0.3333333333333333,\"#9c179e\"],[0.4444444444444444,\"#bd3786\"],[0.5555555555555556,\"#d8576b\"],[0.6666666666666666,\"#ed7953\"],[0.7777777777777778,\"#fb9f3a\"],[0.8888888888888888,\"#fdca26\"],[1.0,\"#f0f921\"]]}],\"heatmapgl\":[{\"type\":\"heatmapgl\",\"colorbar\":{\"outlinewidth\":0,\"ticks\":\"\"},\"colorscale\":[[0.0,\"#0d0887\"],[0.1111111111111111,\"#46039f\"],[0.2222222222222222,\"#7201a8\"],[0.3333333333333333,\"#9c179e\"],[0.4444444444444444,\"#bd3786\"],[0.5555555555555556,\"#d8576b\"],[0.6666666666666666,\"#ed7953\"],[0.7777777777777778,\"#fb9f3a\"],[0.8888888888888888,\"#fdca26\"],[1.0,\"#f0f921\"]]}],\"contourcarpet\":[{\"type\":\"contourcarpet\",\"colorbar\":{\"outlinewidth\":0,\"ticks\":\"\"}}],\"contour\":[{\"type\":\"contour\",\"colorbar\":{\"outlinewidth\":0,\"ticks\":\"\"},\"colorscale\":[[0.0,\"#0d0887\"],[0.1111111111111111,\"#46039f\"],[0.2222222222222222,\"#7201a8\"],[0.3333333333333333,\"#9c179e\"],[0.4444444444444444,\"#bd3786\"],[0.5555555555555556,\"#d8576b\"],[0.6666666666666666,\"#ed7953\"],[0.7777777777777778,\"#fb9f3a\"],[0.8888888888888888,\"#fdca26\"],[1.0,\"#f0f921\"]]}],\"surface\":[{\"type\":\"surface\",\"colorbar\":{\"outlinewidth\":0,\"ticks\":\"\"},\"colorscale\":[[0.0,\"#0d0887\"],[0.1111111111111111,\"#46039f\"],[0.2222222222222222,\"#7201a8\"],[0.3333333333333333,\"#9c179e\"],[0.4444444444444444,\"#bd3786\"],[0.5555555555555556,\"#d8576b\"],[0.6666666666666666,\"#ed7953\"],[0.7777777777777778,\"#fb9f3a\"],[0.8888888888888888,\"#fdca26\"],[1.0,\"#f0f921\"]]}],\"mesh3d\":[{\"type\":\"mesh3d\",\"colorbar\":{\"outlinewidth\":0,\"ticks\":\"\"}}],\"scatter\":[{\"fillpattern\":{\"fillmode\":\"overlay\",\"size\":10,\"solidity\":0.2},\"type\":\"scatter\"}],\"parcoords\":[{\"type\":\"parcoords\",\"line\":{\"colorbar\":{\"outlinewidth\":0,\"ticks\":\"\"}}}],\"scatterpolargl\":[{\"type\":\"scatterpolargl\",\"marker\":{\"colorbar\":{\"outlinewidth\":0,\"ticks\":\"\"}}}],\"bar\":[{\"error_x\":{\"color\":\"#2a3f5f\"},\"error_y\":{\"color\":\"#2a3f5f\"},\"marker\":{\"line\":{\"color\":\"#E5ECF6\",\"width\":0.5},\"pattern\":{\"fillmode\":\"overlay\",\"size\":10,\"solidity\":0.2}},\"type\":\"bar\"}],\"scattergeo\":[{\"type\":\"scattergeo\",\"marker\":{\"colorbar\":{\"outlinewidth\":0,\"ticks\":\"\"}}}],\"scatterpolar\":[{\"type\":\"scatterpolar\",\"marker\":{\"colorbar\":{\"outlinewidth\":0,\"ticks\":\"\"}}}],\"histogram\":[{\"marker\":{\"pattern\":{\"fillmode\":\"overlay\",\"size\":10,\"solidity\":0.2}},\"type\":\"histogram\"}],\"scattergl\":[{\"type\":\"scattergl\",\"marker\":{\"colorbar\":{\"outlinewidth\":0,\"ticks\":\"\"}}}],\"scatter3d\":[{\"type\":\"scatter3d\",\"line\":{\"colorbar\":{\"outlinewidth\":0,\"ticks\":\"\"}},\"marker\":{\"colorbar\":{\"outlinewidth\":0,\"ticks\":\"\"}}}],\"scattermapbox\":[{\"type\":\"scattermapbox\",\"marker\":{\"colorbar\":{\"outlinewidth\":0,\"ticks\":\"\"}}}],\"scatterternary\":[{\"type\":\"scatterternary\",\"marker\":{\"colorbar\":{\"outlinewidth\":0,\"ticks\":\"\"}}}],\"scattercarpet\":[{\"type\":\"scattercarpet\",\"marker\":{\"colorbar\":{\"outlinewidth\":0,\"ticks\":\"\"}}}],\"carpet\":[{\"aaxis\":{\"endlinecolor\":\"#2a3f5f\",\"gridcolor\":\"white\",\"linecolor\":\"white\",\"minorgridcolor\":\"white\",\"startlinecolor\":\"#2a3f5f\"},\"baxis\":{\"endlinecolor\":\"#2a3f5f\",\"gridcolor\":\"white\",\"linecolor\":\"white\",\"minorgridcolor\":\"white\",\"startlinecolor\":\"#2a3f5f\"},\"type\":\"carpet\"}],\"table\":[{\"cells\":{\"fill\":{\"color\":\"#EBF0F8\"},\"line\":{\"color\":\"white\"}},\"header\":{\"fill\":{\"color\":\"#C8D4E3\"},\"line\":{\"color\":\"white\"}},\"type\":\"table\"}],\"barpolar\":[{\"marker\":{\"line\":{\"color\":\"#E5ECF6\",\"width\":0.5},\"pattern\":{\"fillmode\":\"overlay\",\"size\":10,\"solidity\":0.2}},\"type\":\"barpolar\"}],\"pie\":[{\"automargin\":true,\"type\":\"pie\"}]},\"layout\":{\"autotypenumbers\":\"strict\",\"colorway\":[\"#636efa\",\"#EF553B\",\"#00cc96\",\"#ab63fa\",\"#FFA15A\",\"#19d3f3\",\"#FF6692\",\"#B6E880\",\"#FF97FF\",\"#FECB52\"],\"font\":{\"color\":\"#2a3f5f\"},\"hovermode\":\"closest\",\"hoverlabel\":{\"align\":\"left\"},\"paper_bgcolor\":\"white\",\"plot_bgcolor\":\"#E5ECF6\",\"polar\":{\"bgcolor\":\"#E5ECF6\",\"angularaxis\":{\"gridcolor\":\"white\",\"linecolor\":\"white\",\"ticks\":\"\"},\"radialaxis\":{\"gridcolor\":\"white\",\"linecolor\":\"white\",\"ticks\":\"\"}},\"ternary\":{\"bgcolor\":\"#E5ECF6\",\"aaxis\":{\"gridcolor\":\"white\",\"linecolor\":\"white\",\"ticks\":\"\"},\"baxis\":{\"gridcolor\":\"white\",\"linecolor\":\"white\",\"ticks\":\"\"},\"caxis\":{\"gridcolor\":\"white\",\"linecolor\":\"white\",\"ticks\":\"\"}},\"coloraxis\":{\"colorbar\":{\"outlinewidth\":0,\"ticks\":\"\"}},\"colorscale\":{\"sequential\":[[0.0,\"#0d0887\"],[0.1111111111111111,\"#46039f\"],[0.2222222222222222,\"#7201a8\"],[0.3333333333333333,\"#9c179e\"],[0.4444444444444444,\"#bd3786\"],[0.5555555555555556,\"#d8576b\"],[0.6666666666666666,\"#ed7953\"],[0.7777777777777778,\"#fb9f3a\"],[0.8888888888888888,\"#fdca26\"],[1.0,\"#f0f921\"]],\"sequentialminus\":[[0.0,\"#0d0887\"],[0.1111111111111111,\"#46039f\"],[0.2222222222222222,\"#7201a8\"],[0.3333333333333333,\"#9c179e\"],[0.4444444444444444,\"#bd3786\"],[0.5555555555555556,\"#d8576b\"],[0.6666666666666666,\"#ed7953\"],[0.7777777777777778,\"#fb9f3a\"],[0.8888888888888888,\"#fdca26\"],[1.0,\"#f0f921\"]],\"diverging\":[[0,\"#8e0152\"],[0.1,\"#c51b7d\"],[0.2,\"#de77ae\"],[0.3,\"#f1b6da\"],[0.4,\"#fde0ef\"],[0.5,\"#f7f7f7\"],[0.6,\"#e6f5d0\"],[0.7,\"#b8e186\"],[0.8,\"#7fbc41\"],[0.9,\"#4d9221\"],[1,\"#276419\"]]},\"xaxis\":{\"gridcolor\":\"white\",\"linecolor\":\"white\",\"ticks\":\"\",\"title\":{\"standoff\":15},\"zerolinecolor\":\"white\",\"automargin\":true,\"zerolinewidth\":2},\"yaxis\":{\"gridcolor\":\"white\",\"linecolor\":\"white\",\"ticks\":\"\",\"title\":{\"standoff\":15},\"zerolinecolor\":\"white\",\"automargin\":true,\"zerolinewidth\":2},\"scene\":{\"xaxis\":{\"backgroundcolor\":\"#E5ECF6\",\"gridcolor\":\"white\",\"linecolor\":\"white\",\"showbackground\":true,\"ticks\":\"\",\"zerolinecolor\":\"white\",\"gridwidth\":2},\"yaxis\":{\"backgroundcolor\":\"#E5ECF6\",\"gridcolor\":\"white\",\"linecolor\":\"white\",\"showbackground\":true,\"ticks\":\"\",\"zerolinecolor\":\"white\",\"gridwidth\":2},\"zaxis\":{\"backgroundcolor\":\"#E5ECF6\",\"gridcolor\":\"white\",\"linecolor\":\"white\",\"showbackground\":true,\"ticks\":\"\",\"zerolinecolor\":\"white\",\"gridwidth\":2}},\"shapedefaults\":{\"line\":{\"color\":\"#2a3f5f\"}},\"annotationdefaults\":{\"arrowcolor\":\"#2a3f5f\",\"arrowhead\":0,\"arrowwidth\":1},\"geo\":{\"bgcolor\":\"white\",\"landcolor\":\"#E5ECF6\",\"subunitcolor\":\"white\",\"showland\":true,\"showlakes\":true,\"lakecolor\":\"white\"},\"title\":{\"x\":0.05},\"mapbox\":{\"style\":\"light\"}}},\"xaxis\":{\"anchor\":\"y\",\"domain\":[0.0,1.0],\"title\":{\"text\":\"Partido\"},\"categoryorder\":\"array\",\"categoryarray\":[\"Movimento Democr\\u00e1tico Brasileiro\",\"Partido Social Democr\\u00e1tico\",\"Democratas\",\"Partido da Social Democracia Brasileira\",\"Partido dos Trabalhadores\",\"AVANTE\",\"PROGRESSISTAS\",\"Partido Trabalhista Brasileiro\",\"Partido Democr\\u00e1tico Trabalhista\",\"Partido Socialista Brasileiro\",\"REPUBLICANOS\",\"Partido Liberal\",\"Solidariedade\",\"Partido Social Liberal\",\"Patriota\",\"Cidadania\",\"Partido Social Crist\\u00e3o\",\"Podemos\",\"Partido Verde\",\"Partido Republicano da Ordem Social\",\"Partido da Mobiliza\\u00e7\\u00e3o Nacional\",\"Partido Trabalhista Crist\\u00e3o\",\"Partido Comunista do Brasil\",\"Rede Sustentabilidade\",\"Partido Renovador Trabalhista Brasileiro\",\"Partido Socialismo e Liberdade\",\"Democracia Crist\\u00e3\",\"Partido da Mulher Brasileira\",\"Partido Socialista dos Trabalhadores Unificado\",\"Partido Comunista Brasileiro\",\"Partido Novo\",\"Unidade Popular\",\"Partido da Causa Oper\\u00e1ria\",\"Uni\\u00e3o Brasil\"]},\"yaxis\":{\"anchor\":\"x\",\"domain\":[0.0,1.0],\"title\":{\"text\":\"N\\u00famero de Munic\\u00edpios\"}},\"legend\":{\"title\":{\"text\":\"Partido\"},\"tracegroupgap\":0},\"title\":{\"text\":\"Partidos mais votados em 2020\"},\"barmode\":\"relative\"},                        {\"responsive\": true}                    ).then(function(){\n",
       "                            \n",
       "var gd = document.getElementById('7da9033d-2038-47d7-8c0c-34a462cfdc1e');\n",
       "var x = new MutationObserver(function (mutations, observer) {{\n",
       "        var display = window.getComputedStyle(gd).display;\n",
       "        if (!display || display === 'none') {{\n",
       "            console.log([gd, 'removed!']);\n",
       "            Plotly.purge(gd);\n",
       "            observer.disconnect();\n",
       "        }}\n",
       "}});\n",
       "\n",
       "// Listen for the removal of the full notebook cells\n",
       "var notebookContainer = gd.closest('#notebook-container');\n",
       "if (notebookContainer) {{\n",
       "    x.observe(notebookContainer, {childList: true});\n",
       "}}\n",
       "\n",
       "// Listen for the clearing of the current output cell\n",
       "var outputEl = gd.closest('.output');\n",
       "if (outputEl) {{\n",
       "    x.observe(outputEl, {childList: true});\n",
       "}}\n",
       "\n",
       "                        })                };                });            </script>        </div>"
      ]
     },
     "metadata": {},
     "output_type": "display_data"
    }
   ],
   "source": [
    "gerar_grafico_partidos_mais_votados(candidatos_mais_votados_2020, 2020)"
   ]
  },
  {
   "cell_type": "code",
   "execution_count": 64,
   "id": "2e812d0c",
   "metadata": {},
   "outputs": [
    {
     "data": {
      "application/vnd.plotly.v1+json": {
       "config": {
        "plotlyServerURL": "https://plot.ly"
       },
       "data": [
        {
         "alignmentgroup": "True",
         "hovertemplate": "Partido=%{x}<br>Número de Municípios=%{y}<extra></extra>",
         "legendgroup": "Partido Social Democrático",
         "marker": {
          "color": "#636efa",
          "pattern": {
           "shape": ""
          }
         },
         "name": "Partido Social Democrático",
         "offsetgroup": "Partido Social Democrático",
         "orientation": "v",
         "showlegend": true,
         "textposition": "auto",
         "type": "bar",
         "x": [
          "Partido Social Democrático"
         ],
         "xaxis": "x",
         "y": [
          585
         ],
         "yaxis": "y"
        },
        {
         "alignmentgroup": "True",
         "hovertemplate": "Partido=%{x}<br>Número de Municípios=%{y}<extra></extra>",
         "legendgroup": "Partido dos Trabalhadores",
         "marker": {
          "color": "#EF553B",
          "pattern": {
           "shape": ""
          }
         },
         "name": "Partido dos Trabalhadores",
         "offsetgroup": "Partido dos Trabalhadores",
         "orientation": "v",
         "showlegend": true,
         "textposition": "auto",
         "type": "bar",
         "x": [
          "Partido dos Trabalhadores"
         ],
         "xaxis": "x",
         "y": [
          568
         ],
         "yaxis": "y"
        },
        {
         "alignmentgroup": "True",
         "hovertemplate": "Partido=%{x}<br>Número de Municípios=%{y}<extra></extra>",
         "legendgroup": "Partido Verde",
         "marker": {
          "color": "#00cc96",
          "pattern": {
           "shape": ""
          }
         },
         "name": "Partido Verde",
         "offsetgroup": "Partido Verde",
         "orientation": "v",
         "showlegend": true,
         "textposition": "auto",
         "type": "bar",
         "x": [
          "Partido Verde"
         ],
         "xaxis": "x",
         "y": [
          556
         ],
         "yaxis": "y"
        },
        {
         "alignmentgroup": "True",
         "hovertemplate": "Partido=%{x}<br>Número de Municípios=%{y}<extra></extra>",
         "legendgroup": "Partido Comunista do Brasil",
         "marker": {
          "color": "#ab63fa",
          "pattern": {
           "shape": ""
          }
         },
         "name": "Partido Comunista do Brasil",
         "offsetgroup": "Partido Comunista do Brasil",
         "orientation": "v",
         "showlegend": true,
         "textposition": "auto",
         "type": "bar",
         "x": [
          "Partido Comunista do Brasil"
         ],
         "xaxis": "x",
         "y": [
          556
         ],
         "yaxis": "y"
        },
        {
         "alignmentgroup": "True",
         "hovertemplate": "Partido=%{x}<br>Número de Municípios=%{y}<extra></extra>",
         "legendgroup": "Movimento Democrático Brasileiro",
         "marker": {
          "color": "#FFA15A",
          "pattern": {
           "shape": ""
          }
         },
         "name": "Movimento Democrático Brasileiro",
         "offsetgroup": "Movimento Democrático Brasileiro",
         "orientation": "v",
         "showlegend": true,
         "textposition": "auto",
         "type": "bar",
         "x": [
          "Movimento Democrático Brasileiro"
         ],
         "xaxis": "x",
         "y": [
          523
         ],
         "yaxis": "y"
        },
        {
         "alignmentgroup": "True",
         "hovertemplate": "Partido=%{x}<br>Número de Municípios=%{y}<extra></extra>",
         "legendgroup": "PROGRESSISTAS",
         "marker": {
          "color": "#19d3f3",
          "pattern": {
           "shape": ""
          }
         },
         "name": "PROGRESSISTAS",
         "offsetgroup": "PROGRESSISTAS",
         "orientation": "v",
         "showlegend": true,
         "textposition": "auto",
         "type": "bar",
         "x": [
          "PROGRESSISTAS"
         ],
         "xaxis": "x",
         "y": [
          472
         ],
         "yaxis": "y"
        },
        {
         "alignmentgroup": "True",
         "hovertemplate": "Partido=%{x}<br>Número de Municípios=%{y}<extra></extra>",
         "legendgroup": "REPUBLICANOS",
         "marker": {
          "color": "#FF6692",
          "pattern": {
           "shape": ""
          }
         },
         "name": "REPUBLICANOS",
         "offsetgroup": "REPUBLICANOS",
         "orientation": "v",
         "showlegend": true,
         "textposition": "auto",
         "type": "bar",
         "x": [
          "REPUBLICANOS"
         ],
         "xaxis": "x",
         "y": [
          471
         ],
         "yaxis": "y"
        },
        {
         "alignmentgroup": "True",
         "hovertemplate": "Partido=%{x}<br>Número de Municípios=%{y}<extra></extra>",
         "legendgroup": "Partido Liberal",
         "marker": {
          "color": "#B6E880",
          "pattern": {
           "shape": ""
          }
         },
         "name": "Partido Liberal",
         "offsetgroup": "Partido Liberal",
         "orientation": "v",
         "showlegend": true,
         "textposition": "auto",
         "type": "bar",
         "x": [
          "Partido Liberal"
         ],
         "xaxis": "x",
         "y": [
          466
         ],
         "yaxis": "y"
        },
        {
         "alignmentgroup": "True",
         "hovertemplate": "Partido=%{x}<br>Número de Municípios=%{y}<extra></extra>",
         "legendgroup": "União Brasil",
         "marker": {
          "color": "#FF97FF",
          "pattern": {
           "shape": ""
          }
         },
         "name": "União Brasil",
         "offsetgroup": "União Brasil",
         "orientation": "v",
         "showlegend": true,
         "textposition": "auto",
         "type": "bar",
         "x": [
          "União Brasil"
         ],
         "xaxis": "x",
         "y": [
          463
         ],
         "yaxis": "y"
        },
        {
         "alignmentgroup": "True",
         "hovertemplate": "Partido=%{x}<br>Número de Municípios=%{y}<extra></extra>",
         "legendgroup": "Partido da Social Democracia Brasileira",
         "marker": {
          "color": "#FECB52",
          "pattern": {
           "shape": ""
          }
         },
         "name": "Partido da Social Democracia Brasileira",
         "offsetgroup": "Partido da Social Democracia Brasileira",
         "orientation": "v",
         "showlegend": true,
         "textposition": "auto",
         "type": "bar",
         "x": [
          "Partido da Social Democracia Brasileira"
         ],
         "xaxis": "x",
         "y": [
          438
         ],
         "yaxis": "y"
        },
        {
         "alignmentgroup": "True",
         "hovertemplate": "Partido=%{x}<br>Número de Municípios=%{y}<extra></extra>",
         "legendgroup": "Cidadania",
         "marker": {
          "color": "#636efa",
          "pattern": {
           "shape": ""
          }
         },
         "name": "Cidadania",
         "offsetgroup": "Cidadania",
         "orientation": "v",
         "showlegend": true,
         "textposition": "auto",
         "type": "bar",
         "x": [
          "Cidadania"
         ],
         "xaxis": "x",
         "y": [
          434
         ],
         "yaxis": "y"
        },
        {
         "alignmentgroup": "True",
         "hovertemplate": "Partido=%{x}<br>Número de Municípios=%{y}<extra></extra>",
         "legendgroup": "AVANTE",
         "marker": {
          "color": "#EF553B",
          "pattern": {
           "shape": ""
          }
         },
         "name": "AVANTE",
         "offsetgroup": "AVANTE",
         "orientation": "v",
         "showlegend": true,
         "textposition": "auto",
         "type": "bar",
         "x": [
          "AVANTE"
         ],
         "xaxis": "x",
         "y": [
          398
         ],
         "yaxis": "y"
        },
        {
         "alignmentgroup": "True",
         "hovertemplate": "Partido=%{x}<br>Número de Municípios=%{y}<extra></extra>",
         "legendgroup": "Partido Democrático Trabalhista",
         "marker": {
          "color": "#00cc96",
          "pattern": {
           "shape": ""
          }
         },
         "name": "Partido Democrático Trabalhista",
         "offsetgroup": "Partido Democrático Trabalhista",
         "orientation": "v",
         "showlegend": true,
         "textposition": "auto",
         "type": "bar",
         "x": [
          "Partido Democrático Trabalhista"
         ],
         "xaxis": "x",
         "y": [
          346
         ],
         "yaxis": "y"
        },
        {
         "alignmentgroup": "True",
         "hovertemplate": "Partido=%{x}<br>Número de Municípios=%{y}<extra></extra>",
         "legendgroup": "Partido Renovação Democrática",
         "marker": {
          "color": "#ab63fa",
          "pattern": {
           "shape": ""
          }
         },
         "name": "Partido Renovação Democrática",
         "offsetgroup": "Partido Renovação Democrática",
         "orientation": "v",
         "showlegend": true,
         "textposition": "auto",
         "type": "bar",
         "x": [
          "Partido Renovação Democrática"
         ],
         "xaxis": "x",
         "y": [
          331
         ],
         "yaxis": "y"
        },
        {
         "alignmentgroup": "True",
         "hovertemplate": "Partido=%{x}<br>Número de Municípios=%{y}<extra></extra>",
         "legendgroup": "Partido Socialista Brasileiro",
         "marker": {
          "color": "#FFA15A",
          "pattern": {
           "shape": ""
          }
         },
         "name": "Partido Socialista Brasileiro",
         "offsetgroup": "Partido Socialista Brasileiro",
         "orientation": "v",
         "showlegend": true,
         "textposition": "auto",
         "type": "bar",
         "x": [
          "Partido Socialista Brasileiro"
         ],
         "xaxis": "x",
         "y": [
          307
         ],
         "yaxis": "y"
        },
        {
         "alignmentgroup": "True",
         "hovertemplate": "Partido=%{x}<br>Número de Municípios=%{y}<extra></extra>",
         "legendgroup": "Solidariedade",
         "marker": {
          "color": "#19d3f3",
          "pattern": {
           "shape": ""
          }
         },
         "name": "Solidariedade",
         "offsetgroup": "Solidariedade",
         "orientation": "v",
         "showlegend": true,
         "textposition": "auto",
         "type": "bar",
         "x": [
          "Solidariedade"
         ],
         "xaxis": "x",
         "y": [
          292
         ],
         "yaxis": "y"
        },
        {
         "alignmentgroup": "True",
         "hovertemplate": "Partido=%{x}<br>Número de Municípios=%{y}<extra></extra>",
         "legendgroup": "Podemos",
         "marker": {
          "color": "#FF6692",
          "pattern": {
           "shape": ""
          }
         },
         "name": "Podemos",
         "offsetgroup": "Podemos",
         "orientation": "v",
         "showlegend": true,
         "textposition": "auto",
         "type": "bar",
         "x": [
          "Podemos"
         ],
         "xaxis": "x",
         "y": [
          250
         ],
         "yaxis": "y"
        },
        {
         "alignmentgroup": "True",
         "hovertemplate": "Partido=%{x}<br>Número de Municípios=%{y}<extra></extra>",
         "legendgroup": "Mobilização Nacional",
         "marker": {
          "color": "#B6E880",
          "pattern": {
           "shape": ""
          }
         },
         "name": "Mobilização Nacional",
         "offsetgroup": "Mobilização Nacional",
         "orientation": "v",
         "showlegend": true,
         "textposition": "auto",
         "type": "bar",
         "x": [
          "Mobilização Nacional"
         ],
         "xaxis": "x",
         "y": [
          245
         ],
         "yaxis": "y"
        },
        {
         "alignmentgroup": "True",
         "hovertemplate": "Partido=%{x}<br>Número de Municípios=%{y}<extra></extra>",
         "legendgroup": "Rede Sustentabilidade",
         "marker": {
          "color": "#FF97FF",
          "pattern": {
           "shape": ""
          }
         },
         "name": "Rede Sustentabilidade",
         "offsetgroup": "Rede Sustentabilidade",
         "orientation": "v",
         "showlegend": true,
         "textposition": "auto",
         "type": "bar",
         "x": [
          "Rede Sustentabilidade"
         ],
         "xaxis": "x",
         "y": [
          139
         ],
         "yaxis": "y"
        },
        {
         "alignmentgroup": "True",
         "hovertemplate": "Partido=%{x}<br>Número de Municípios=%{y}<extra></extra>",
         "legendgroup": "Partido Socialismo e Liberdade",
         "marker": {
          "color": "#FECB52",
          "pattern": {
           "shape": ""
          }
         },
         "name": "Partido Socialismo e Liberdade",
         "offsetgroup": "Partido Socialismo e Liberdade",
         "orientation": "v",
         "showlegend": true,
         "textposition": "auto",
         "type": "bar",
         "x": [
          "Partido Socialismo e Liberdade"
         ],
         "xaxis": "x",
         "y": [
          132
         ],
         "yaxis": "y"
        },
        {
         "alignmentgroup": "True",
         "hovertemplate": "Partido=%{x}<br>Número de Municípios=%{y}<extra></extra>",
         "legendgroup": "Partido Novo",
         "marker": {
          "color": "#636efa",
          "pattern": {
           "shape": ""
          }
         },
         "name": "Partido Novo",
         "offsetgroup": "Partido Novo",
         "orientation": "v",
         "showlegend": true,
         "textposition": "auto",
         "type": "bar",
         "x": [
          "Partido Novo"
         ],
         "xaxis": "x",
         "y": [
          127
         ],
         "yaxis": "y"
        },
        {
         "alignmentgroup": "True",
         "hovertemplate": "Partido=%{x}<br>Número de Municípios=%{y}<extra></extra>",
         "legendgroup": "AGIR",
         "marker": {
          "color": "#EF553B",
          "pattern": {
           "shape": ""
          }
         },
         "name": "AGIR",
         "offsetgroup": "AGIR",
         "orientation": "v",
         "showlegend": true,
         "textposition": "auto",
         "type": "bar",
         "x": [
          "AGIR"
         ],
         "xaxis": "x",
         "y": [
          100
         ],
         "yaxis": "y"
        },
        {
         "alignmentgroup": "True",
         "hovertemplate": "Partido=%{x}<br>Número de Municípios=%{y}<extra></extra>",
         "legendgroup": "Democracia Cristã",
         "marker": {
          "color": "#00cc96",
          "pattern": {
           "shape": ""
          }
         },
         "name": "Democracia Cristã",
         "offsetgroup": "Democracia Cristã",
         "orientation": "v",
         "showlegend": true,
         "textposition": "auto",
         "type": "bar",
         "x": [
          "Democracia Cristã"
         ],
         "xaxis": "x",
         "y": [
          57
         ],
         "yaxis": "y"
        },
        {
         "alignmentgroup": "True",
         "hovertemplate": "Partido=%{x}<br>Número de Municípios=%{y}<extra></extra>",
         "legendgroup": "Partido da Mulher Brasileira",
         "marker": {
          "color": "#ab63fa",
          "pattern": {
           "shape": ""
          }
         },
         "name": "Partido da Mulher Brasileira",
         "offsetgroup": "Partido da Mulher Brasileira",
         "orientation": "v",
         "showlegend": true,
         "textposition": "auto",
         "type": "bar",
         "x": [
          "Partido da Mulher Brasileira"
         ],
         "xaxis": "x",
         "y": [
          47
         ],
         "yaxis": "y"
        },
        {
         "alignmentgroup": "True",
         "hovertemplate": "Partido=%{x}<br>Número de Municípios=%{y}<extra></extra>",
         "legendgroup": "Partido Renovador Trabalhista Brasileiro",
         "marker": {
          "color": "#FFA15A",
          "pattern": {
           "shape": ""
          }
         },
         "name": "Partido Renovador Trabalhista Brasileiro",
         "offsetgroup": "Partido Renovador Trabalhista Brasileiro",
         "orientation": "v",
         "showlegend": true,
         "textposition": "auto",
         "type": "bar",
         "x": [
          "Partido Renovador Trabalhista Brasileiro"
         ],
         "xaxis": "x",
         "y": [
          45
         ],
         "yaxis": "y"
        },
        {
         "alignmentgroup": "True",
         "hovertemplate": "Partido=%{x}<br>Número de Municípios=%{y}<extra></extra>",
         "legendgroup": "Partido Socialista dos Trabalhadores Unificado",
         "marker": {
          "color": "#19d3f3",
          "pattern": {
           "shape": ""
          }
         },
         "name": "Partido Socialista dos Trabalhadores Unificado",
         "offsetgroup": "Partido Socialista dos Trabalhadores Unificado",
         "orientation": "v",
         "showlegend": true,
         "textposition": "auto",
         "type": "bar",
         "x": [
          "Partido Socialista dos Trabalhadores Unificado"
         ],
         "xaxis": "x",
         "y": [
          10
         ],
         "yaxis": "y"
        },
        {
         "alignmentgroup": "True",
         "hovertemplate": "Partido=%{x}<br>Número de Municípios=%{y}<extra></extra>",
         "legendgroup": "Partido da Causa Operária",
         "marker": {
          "color": "#FF6692",
          "pattern": {
           "shape": ""
          }
         },
         "name": "Partido da Causa Operária",
         "offsetgroup": "Partido da Causa Operária",
         "orientation": "v",
         "showlegend": true,
         "textposition": "auto",
         "type": "bar",
         "x": [
          "Partido da Causa Operária"
         ],
         "xaxis": "x",
         "y": [
          4
         ],
         "yaxis": "y"
        },
        {
         "alignmentgroup": "True",
         "hovertemplate": "Partido=%{x}<br>Número de Municípios=%{y}<extra></extra>",
         "legendgroup": "Unidade Popular",
         "marker": {
          "color": "#B6E880",
          "pattern": {
           "shape": ""
          }
         },
         "name": "Unidade Popular",
         "offsetgroup": "Unidade Popular",
         "orientation": "v",
         "showlegend": true,
         "textposition": "auto",
         "type": "bar",
         "x": [
          "Unidade Popular"
         ],
         "xaxis": "x",
         "y": [
          3
         ],
         "yaxis": "y"
        },
        {
         "alignmentgroup": "True",
         "hovertemplate": "Partido=%{x}<br>Número de Municípios=%{y}<extra></extra>",
         "legendgroup": "Partido Comunista Brasileiro",
         "marker": {
          "color": "#FF97FF",
          "pattern": {
           "shape": ""
          }
         },
         "name": "Partido Comunista Brasileiro",
         "offsetgroup": "Partido Comunista Brasileiro",
         "orientation": "v",
         "showlegend": true,
         "textposition": "auto",
         "type": "bar",
         "x": [
          "Partido Comunista Brasileiro"
         ],
         "xaxis": "x",
         "y": [
          2
         ],
         "yaxis": "y"
        }
       ],
       "layout": {
        "barmode": "relative",
        "legend": {
         "title": {
          "text": "Partido"
         },
         "tracegroupgap": 0
        },
        "template": {
         "data": {
          "bar": [
           {
            "error_x": {
             "color": "#2a3f5f"
            },
            "error_y": {
             "color": "#2a3f5f"
            },
            "marker": {
             "line": {
              "color": "#E5ECF6",
              "width": 0.5
             },
             "pattern": {
              "fillmode": "overlay",
              "size": 10,
              "solidity": 0.2
             }
            },
            "type": "bar"
           }
          ],
          "barpolar": [
           {
            "marker": {
             "line": {
              "color": "#E5ECF6",
              "width": 0.5
             },
             "pattern": {
              "fillmode": "overlay",
              "size": 10,
              "solidity": 0.2
             }
            },
            "type": "barpolar"
           }
          ],
          "carpet": [
           {
            "aaxis": {
             "endlinecolor": "#2a3f5f",
             "gridcolor": "white",
             "linecolor": "white",
             "minorgridcolor": "white",
             "startlinecolor": "#2a3f5f"
            },
            "baxis": {
             "endlinecolor": "#2a3f5f",
             "gridcolor": "white",
             "linecolor": "white",
             "minorgridcolor": "white",
             "startlinecolor": "#2a3f5f"
            },
            "type": "carpet"
           }
          ],
          "choropleth": [
           {
            "colorbar": {
             "outlinewidth": 0,
             "ticks": ""
            },
            "type": "choropleth"
           }
          ],
          "contour": [
           {
            "colorbar": {
             "outlinewidth": 0,
             "ticks": ""
            },
            "colorscale": [
             [
              0,
              "#0d0887"
             ],
             [
              0.1111111111111111,
              "#46039f"
             ],
             [
              0.2222222222222222,
              "#7201a8"
             ],
             [
              0.3333333333333333,
              "#9c179e"
             ],
             [
              0.4444444444444444,
              "#bd3786"
             ],
             [
              0.5555555555555556,
              "#d8576b"
             ],
             [
              0.6666666666666666,
              "#ed7953"
             ],
             [
              0.7777777777777778,
              "#fb9f3a"
             ],
             [
              0.8888888888888888,
              "#fdca26"
             ],
             [
              1,
              "#f0f921"
             ]
            ],
            "type": "contour"
           }
          ],
          "contourcarpet": [
           {
            "colorbar": {
             "outlinewidth": 0,
             "ticks": ""
            },
            "type": "contourcarpet"
           }
          ],
          "heatmap": [
           {
            "colorbar": {
             "outlinewidth": 0,
             "ticks": ""
            },
            "colorscale": [
             [
              0,
              "#0d0887"
             ],
             [
              0.1111111111111111,
              "#46039f"
             ],
             [
              0.2222222222222222,
              "#7201a8"
             ],
             [
              0.3333333333333333,
              "#9c179e"
             ],
             [
              0.4444444444444444,
              "#bd3786"
             ],
             [
              0.5555555555555556,
              "#d8576b"
             ],
             [
              0.6666666666666666,
              "#ed7953"
             ],
             [
              0.7777777777777778,
              "#fb9f3a"
             ],
             [
              0.8888888888888888,
              "#fdca26"
             ],
             [
              1,
              "#f0f921"
             ]
            ],
            "type": "heatmap"
           }
          ],
          "heatmapgl": [
           {
            "colorbar": {
             "outlinewidth": 0,
             "ticks": ""
            },
            "colorscale": [
             [
              0,
              "#0d0887"
             ],
             [
              0.1111111111111111,
              "#46039f"
             ],
             [
              0.2222222222222222,
              "#7201a8"
             ],
             [
              0.3333333333333333,
              "#9c179e"
             ],
             [
              0.4444444444444444,
              "#bd3786"
             ],
             [
              0.5555555555555556,
              "#d8576b"
             ],
             [
              0.6666666666666666,
              "#ed7953"
             ],
             [
              0.7777777777777778,
              "#fb9f3a"
             ],
             [
              0.8888888888888888,
              "#fdca26"
             ],
             [
              1,
              "#f0f921"
             ]
            ],
            "type": "heatmapgl"
           }
          ],
          "histogram": [
           {
            "marker": {
             "pattern": {
              "fillmode": "overlay",
              "size": 10,
              "solidity": 0.2
             }
            },
            "type": "histogram"
           }
          ],
          "histogram2d": [
           {
            "colorbar": {
             "outlinewidth": 0,
             "ticks": ""
            },
            "colorscale": [
             [
              0,
              "#0d0887"
             ],
             [
              0.1111111111111111,
              "#46039f"
             ],
             [
              0.2222222222222222,
              "#7201a8"
             ],
             [
              0.3333333333333333,
              "#9c179e"
             ],
             [
              0.4444444444444444,
              "#bd3786"
             ],
             [
              0.5555555555555556,
              "#d8576b"
             ],
             [
              0.6666666666666666,
              "#ed7953"
             ],
             [
              0.7777777777777778,
              "#fb9f3a"
             ],
             [
              0.8888888888888888,
              "#fdca26"
             ],
             [
              1,
              "#f0f921"
             ]
            ],
            "type": "histogram2d"
           }
          ],
          "histogram2dcontour": [
           {
            "colorbar": {
             "outlinewidth": 0,
             "ticks": ""
            },
            "colorscale": [
             [
              0,
              "#0d0887"
             ],
             [
              0.1111111111111111,
              "#46039f"
             ],
             [
              0.2222222222222222,
              "#7201a8"
             ],
             [
              0.3333333333333333,
              "#9c179e"
             ],
             [
              0.4444444444444444,
              "#bd3786"
             ],
             [
              0.5555555555555556,
              "#d8576b"
             ],
             [
              0.6666666666666666,
              "#ed7953"
             ],
             [
              0.7777777777777778,
              "#fb9f3a"
             ],
             [
              0.8888888888888888,
              "#fdca26"
             ],
             [
              1,
              "#f0f921"
             ]
            ],
            "type": "histogram2dcontour"
           }
          ],
          "mesh3d": [
           {
            "colorbar": {
             "outlinewidth": 0,
             "ticks": ""
            },
            "type": "mesh3d"
           }
          ],
          "parcoords": [
           {
            "line": {
             "colorbar": {
              "outlinewidth": 0,
              "ticks": ""
             }
            },
            "type": "parcoords"
           }
          ],
          "pie": [
           {
            "automargin": true,
            "type": "pie"
           }
          ],
          "scatter": [
           {
            "fillpattern": {
             "fillmode": "overlay",
             "size": 10,
             "solidity": 0.2
            },
            "type": "scatter"
           }
          ],
          "scatter3d": [
           {
            "line": {
             "colorbar": {
              "outlinewidth": 0,
              "ticks": ""
             }
            },
            "marker": {
             "colorbar": {
              "outlinewidth": 0,
              "ticks": ""
             }
            },
            "type": "scatter3d"
           }
          ],
          "scattercarpet": [
           {
            "marker": {
             "colorbar": {
              "outlinewidth": 0,
              "ticks": ""
             }
            },
            "type": "scattercarpet"
           }
          ],
          "scattergeo": [
           {
            "marker": {
             "colorbar": {
              "outlinewidth": 0,
              "ticks": ""
             }
            },
            "type": "scattergeo"
           }
          ],
          "scattergl": [
           {
            "marker": {
             "colorbar": {
              "outlinewidth": 0,
              "ticks": ""
             }
            },
            "type": "scattergl"
           }
          ],
          "scattermapbox": [
           {
            "marker": {
             "colorbar": {
              "outlinewidth": 0,
              "ticks": ""
             }
            },
            "type": "scattermapbox"
           }
          ],
          "scatterpolar": [
           {
            "marker": {
             "colorbar": {
              "outlinewidth": 0,
              "ticks": ""
             }
            },
            "type": "scatterpolar"
           }
          ],
          "scatterpolargl": [
           {
            "marker": {
             "colorbar": {
              "outlinewidth": 0,
              "ticks": ""
             }
            },
            "type": "scatterpolargl"
           }
          ],
          "scatterternary": [
           {
            "marker": {
             "colorbar": {
              "outlinewidth": 0,
              "ticks": ""
             }
            },
            "type": "scatterternary"
           }
          ],
          "surface": [
           {
            "colorbar": {
             "outlinewidth": 0,
             "ticks": ""
            },
            "colorscale": [
             [
              0,
              "#0d0887"
             ],
             [
              0.1111111111111111,
              "#46039f"
             ],
             [
              0.2222222222222222,
              "#7201a8"
             ],
             [
              0.3333333333333333,
              "#9c179e"
             ],
             [
              0.4444444444444444,
              "#bd3786"
             ],
             [
              0.5555555555555556,
              "#d8576b"
             ],
             [
              0.6666666666666666,
              "#ed7953"
             ],
             [
              0.7777777777777778,
              "#fb9f3a"
             ],
             [
              0.8888888888888888,
              "#fdca26"
             ],
             [
              1,
              "#f0f921"
             ]
            ],
            "type": "surface"
           }
          ],
          "table": [
           {
            "cells": {
             "fill": {
              "color": "#EBF0F8"
             },
             "line": {
              "color": "white"
             }
            },
            "header": {
             "fill": {
              "color": "#C8D4E3"
             },
             "line": {
              "color": "white"
             }
            },
            "type": "table"
           }
          ]
         },
         "layout": {
          "annotationdefaults": {
           "arrowcolor": "#2a3f5f",
           "arrowhead": 0,
           "arrowwidth": 1
          },
          "autotypenumbers": "strict",
          "coloraxis": {
           "colorbar": {
            "outlinewidth": 0,
            "ticks": ""
           }
          },
          "colorscale": {
           "diverging": [
            [
             0,
             "#8e0152"
            ],
            [
             0.1,
             "#c51b7d"
            ],
            [
             0.2,
             "#de77ae"
            ],
            [
             0.3,
             "#f1b6da"
            ],
            [
             0.4,
             "#fde0ef"
            ],
            [
             0.5,
             "#f7f7f7"
            ],
            [
             0.6,
             "#e6f5d0"
            ],
            [
             0.7,
             "#b8e186"
            ],
            [
             0.8,
             "#7fbc41"
            ],
            [
             0.9,
             "#4d9221"
            ],
            [
             1,
             "#276419"
            ]
           ],
           "sequential": [
            [
             0,
             "#0d0887"
            ],
            [
             0.1111111111111111,
             "#46039f"
            ],
            [
             0.2222222222222222,
             "#7201a8"
            ],
            [
             0.3333333333333333,
             "#9c179e"
            ],
            [
             0.4444444444444444,
             "#bd3786"
            ],
            [
             0.5555555555555556,
             "#d8576b"
            ],
            [
             0.6666666666666666,
             "#ed7953"
            ],
            [
             0.7777777777777778,
             "#fb9f3a"
            ],
            [
             0.8888888888888888,
             "#fdca26"
            ],
            [
             1,
             "#f0f921"
            ]
           ],
           "sequentialminus": [
            [
             0,
             "#0d0887"
            ],
            [
             0.1111111111111111,
             "#46039f"
            ],
            [
             0.2222222222222222,
             "#7201a8"
            ],
            [
             0.3333333333333333,
             "#9c179e"
            ],
            [
             0.4444444444444444,
             "#bd3786"
            ],
            [
             0.5555555555555556,
             "#d8576b"
            ],
            [
             0.6666666666666666,
             "#ed7953"
            ],
            [
             0.7777777777777778,
             "#fb9f3a"
            ],
            [
             0.8888888888888888,
             "#fdca26"
            ],
            [
             1,
             "#f0f921"
            ]
           ]
          },
          "colorway": [
           "#636efa",
           "#EF553B",
           "#00cc96",
           "#ab63fa",
           "#FFA15A",
           "#19d3f3",
           "#FF6692",
           "#B6E880",
           "#FF97FF",
           "#FECB52"
          ],
          "font": {
           "color": "#2a3f5f"
          },
          "geo": {
           "bgcolor": "white",
           "lakecolor": "white",
           "landcolor": "#E5ECF6",
           "showlakes": true,
           "showland": true,
           "subunitcolor": "white"
          },
          "hoverlabel": {
           "align": "left"
          },
          "hovermode": "closest",
          "mapbox": {
           "style": "light"
          },
          "paper_bgcolor": "white",
          "plot_bgcolor": "#E5ECF6",
          "polar": {
           "angularaxis": {
            "gridcolor": "white",
            "linecolor": "white",
            "ticks": ""
           },
           "bgcolor": "#E5ECF6",
           "radialaxis": {
            "gridcolor": "white",
            "linecolor": "white",
            "ticks": ""
           }
          },
          "scene": {
           "xaxis": {
            "backgroundcolor": "#E5ECF6",
            "gridcolor": "white",
            "gridwidth": 2,
            "linecolor": "white",
            "showbackground": true,
            "ticks": "",
            "zerolinecolor": "white"
           },
           "yaxis": {
            "backgroundcolor": "#E5ECF6",
            "gridcolor": "white",
            "gridwidth": 2,
            "linecolor": "white",
            "showbackground": true,
            "ticks": "",
            "zerolinecolor": "white"
           },
           "zaxis": {
            "backgroundcolor": "#E5ECF6",
            "gridcolor": "white",
            "gridwidth": 2,
            "linecolor": "white",
            "showbackground": true,
            "ticks": "",
            "zerolinecolor": "white"
           }
          },
          "shapedefaults": {
           "line": {
            "color": "#2a3f5f"
           }
          },
          "ternary": {
           "aaxis": {
            "gridcolor": "white",
            "linecolor": "white",
            "ticks": ""
           },
           "baxis": {
            "gridcolor": "white",
            "linecolor": "white",
            "ticks": ""
           },
           "bgcolor": "#E5ECF6",
           "caxis": {
            "gridcolor": "white",
            "linecolor": "white",
            "ticks": ""
           }
          },
          "title": {
           "x": 0.05
          },
          "xaxis": {
           "automargin": true,
           "gridcolor": "white",
           "linecolor": "white",
           "ticks": "",
           "title": {
            "standoff": 15
           },
           "zerolinecolor": "white",
           "zerolinewidth": 2
          },
          "yaxis": {
           "automargin": true,
           "gridcolor": "white",
           "linecolor": "white",
           "ticks": "",
           "title": {
            "standoff": 15
           },
           "zerolinecolor": "white",
           "zerolinewidth": 2
          }
         }
        },
        "title": {
         "text": "Partidos mais votados em 2024"
        },
        "xaxis": {
         "anchor": "y",
         "categoryarray": [
          "Partido Social Democrático",
          "Partido dos Trabalhadores",
          "Partido Verde",
          "Partido Comunista do Brasil",
          "Movimento Democrático Brasileiro",
          "PROGRESSISTAS",
          "REPUBLICANOS",
          "Partido Liberal",
          "União Brasil",
          "Partido da Social Democracia Brasileira",
          "Cidadania",
          "AVANTE",
          "Partido Democrático Trabalhista",
          "Partido Renovação Democrática",
          "Partido Socialista Brasileiro",
          "Solidariedade",
          "Podemos",
          "Mobilização Nacional",
          "Rede Sustentabilidade",
          "Partido Socialismo e Liberdade",
          "Partido Novo",
          "AGIR",
          "Democracia Cristã",
          "Partido da Mulher Brasileira",
          "Partido Renovador Trabalhista Brasileiro",
          "Partido Socialista dos Trabalhadores Unificado",
          "Partido da Causa Operária",
          "Unidade Popular",
          "Partido Comunista Brasileiro"
         ],
         "categoryorder": "array",
         "domain": [
          0,
          1
         ],
         "title": {
          "text": "Partido"
         }
        },
        "yaxis": {
         "anchor": "x",
         "domain": [
          0,
          1
         ],
         "title": {
          "text": "Número de Municípios"
         }
        }
       }
      },
      "text/html": [
       "<div>                            <div id=\"69114af6-d5a9-4ba3-86be-7495bdcc5487\" class=\"plotly-graph-div\" style=\"height:525px; width:100%;\"></div>            <script type=\"text/javascript\">                require([\"plotly\"], function(Plotly) {                    window.PLOTLYENV=window.PLOTLYENV || {};                                    if (document.getElementById(\"69114af6-d5a9-4ba3-86be-7495bdcc5487\")) {                    Plotly.newPlot(                        \"69114af6-d5a9-4ba3-86be-7495bdcc5487\",                        [{\"alignmentgroup\":\"True\",\"hovertemplate\":\"Partido=%{x}\\u003cbr\\u003eN\\u00famero de Munic\\u00edpios=%{y}\\u003cextra\\u003e\\u003c\\u002fextra\\u003e\",\"legendgroup\":\"Partido Social Democr\\u00e1tico\",\"marker\":{\"color\":\"#636efa\",\"pattern\":{\"shape\":\"\"}},\"name\":\"Partido Social Democr\\u00e1tico\",\"offsetgroup\":\"Partido Social Democr\\u00e1tico\",\"orientation\":\"v\",\"showlegend\":true,\"textposition\":\"auto\",\"x\":[\"Partido Social Democr\\u00e1tico\"],\"xaxis\":\"x\",\"y\":[585],\"yaxis\":\"y\",\"type\":\"bar\"},{\"alignmentgroup\":\"True\",\"hovertemplate\":\"Partido=%{x}\\u003cbr\\u003eN\\u00famero de Munic\\u00edpios=%{y}\\u003cextra\\u003e\\u003c\\u002fextra\\u003e\",\"legendgroup\":\"Partido dos Trabalhadores\",\"marker\":{\"color\":\"#EF553B\",\"pattern\":{\"shape\":\"\"}},\"name\":\"Partido dos Trabalhadores\",\"offsetgroup\":\"Partido dos Trabalhadores\",\"orientation\":\"v\",\"showlegend\":true,\"textposition\":\"auto\",\"x\":[\"Partido dos Trabalhadores\"],\"xaxis\":\"x\",\"y\":[568],\"yaxis\":\"y\",\"type\":\"bar\"},{\"alignmentgroup\":\"True\",\"hovertemplate\":\"Partido=%{x}\\u003cbr\\u003eN\\u00famero de Munic\\u00edpios=%{y}\\u003cextra\\u003e\\u003c\\u002fextra\\u003e\",\"legendgroup\":\"Partido Verde\",\"marker\":{\"color\":\"#00cc96\",\"pattern\":{\"shape\":\"\"}},\"name\":\"Partido Verde\",\"offsetgroup\":\"Partido Verde\",\"orientation\":\"v\",\"showlegend\":true,\"textposition\":\"auto\",\"x\":[\"Partido Verde\"],\"xaxis\":\"x\",\"y\":[556],\"yaxis\":\"y\",\"type\":\"bar\"},{\"alignmentgroup\":\"True\",\"hovertemplate\":\"Partido=%{x}\\u003cbr\\u003eN\\u00famero de Munic\\u00edpios=%{y}\\u003cextra\\u003e\\u003c\\u002fextra\\u003e\",\"legendgroup\":\"Partido Comunista do Brasil\",\"marker\":{\"color\":\"#ab63fa\",\"pattern\":{\"shape\":\"\"}},\"name\":\"Partido Comunista do Brasil\",\"offsetgroup\":\"Partido Comunista do Brasil\",\"orientation\":\"v\",\"showlegend\":true,\"textposition\":\"auto\",\"x\":[\"Partido Comunista do Brasil\"],\"xaxis\":\"x\",\"y\":[556],\"yaxis\":\"y\",\"type\":\"bar\"},{\"alignmentgroup\":\"True\",\"hovertemplate\":\"Partido=%{x}\\u003cbr\\u003eN\\u00famero de Munic\\u00edpios=%{y}\\u003cextra\\u003e\\u003c\\u002fextra\\u003e\",\"legendgroup\":\"Movimento Democr\\u00e1tico Brasileiro\",\"marker\":{\"color\":\"#FFA15A\",\"pattern\":{\"shape\":\"\"}},\"name\":\"Movimento Democr\\u00e1tico Brasileiro\",\"offsetgroup\":\"Movimento Democr\\u00e1tico Brasileiro\",\"orientation\":\"v\",\"showlegend\":true,\"textposition\":\"auto\",\"x\":[\"Movimento Democr\\u00e1tico Brasileiro\"],\"xaxis\":\"x\",\"y\":[523],\"yaxis\":\"y\",\"type\":\"bar\"},{\"alignmentgroup\":\"True\",\"hovertemplate\":\"Partido=%{x}\\u003cbr\\u003eN\\u00famero de Munic\\u00edpios=%{y}\\u003cextra\\u003e\\u003c\\u002fextra\\u003e\",\"legendgroup\":\"PROGRESSISTAS\",\"marker\":{\"color\":\"#19d3f3\",\"pattern\":{\"shape\":\"\"}},\"name\":\"PROGRESSISTAS\",\"offsetgroup\":\"PROGRESSISTAS\",\"orientation\":\"v\",\"showlegend\":true,\"textposition\":\"auto\",\"x\":[\"PROGRESSISTAS\"],\"xaxis\":\"x\",\"y\":[472],\"yaxis\":\"y\",\"type\":\"bar\"},{\"alignmentgroup\":\"True\",\"hovertemplate\":\"Partido=%{x}\\u003cbr\\u003eN\\u00famero de Munic\\u00edpios=%{y}\\u003cextra\\u003e\\u003c\\u002fextra\\u003e\",\"legendgroup\":\"REPUBLICANOS\",\"marker\":{\"color\":\"#FF6692\",\"pattern\":{\"shape\":\"\"}},\"name\":\"REPUBLICANOS\",\"offsetgroup\":\"REPUBLICANOS\",\"orientation\":\"v\",\"showlegend\":true,\"textposition\":\"auto\",\"x\":[\"REPUBLICANOS\"],\"xaxis\":\"x\",\"y\":[471],\"yaxis\":\"y\",\"type\":\"bar\"},{\"alignmentgroup\":\"True\",\"hovertemplate\":\"Partido=%{x}\\u003cbr\\u003eN\\u00famero de Munic\\u00edpios=%{y}\\u003cextra\\u003e\\u003c\\u002fextra\\u003e\",\"legendgroup\":\"Partido Liberal\",\"marker\":{\"color\":\"#B6E880\",\"pattern\":{\"shape\":\"\"}},\"name\":\"Partido Liberal\",\"offsetgroup\":\"Partido Liberal\",\"orientation\":\"v\",\"showlegend\":true,\"textposition\":\"auto\",\"x\":[\"Partido Liberal\"],\"xaxis\":\"x\",\"y\":[466],\"yaxis\":\"y\",\"type\":\"bar\"},{\"alignmentgroup\":\"True\",\"hovertemplate\":\"Partido=%{x}\\u003cbr\\u003eN\\u00famero de Munic\\u00edpios=%{y}\\u003cextra\\u003e\\u003c\\u002fextra\\u003e\",\"legendgroup\":\"Uni\\u00e3o Brasil\",\"marker\":{\"color\":\"#FF97FF\",\"pattern\":{\"shape\":\"\"}},\"name\":\"Uni\\u00e3o Brasil\",\"offsetgroup\":\"Uni\\u00e3o Brasil\",\"orientation\":\"v\",\"showlegend\":true,\"textposition\":\"auto\",\"x\":[\"Uni\\u00e3o Brasil\"],\"xaxis\":\"x\",\"y\":[463],\"yaxis\":\"y\",\"type\":\"bar\"},{\"alignmentgroup\":\"True\",\"hovertemplate\":\"Partido=%{x}\\u003cbr\\u003eN\\u00famero de Munic\\u00edpios=%{y}\\u003cextra\\u003e\\u003c\\u002fextra\\u003e\",\"legendgroup\":\"Partido da Social Democracia Brasileira\",\"marker\":{\"color\":\"#FECB52\",\"pattern\":{\"shape\":\"\"}},\"name\":\"Partido da Social Democracia Brasileira\",\"offsetgroup\":\"Partido da Social Democracia Brasileira\",\"orientation\":\"v\",\"showlegend\":true,\"textposition\":\"auto\",\"x\":[\"Partido da Social Democracia Brasileira\"],\"xaxis\":\"x\",\"y\":[438],\"yaxis\":\"y\",\"type\":\"bar\"},{\"alignmentgroup\":\"True\",\"hovertemplate\":\"Partido=%{x}\\u003cbr\\u003eN\\u00famero de Munic\\u00edpios=%{y}\\u003cextra\\u003e\\u003c\\u002fextra\\u003e\",\"legendgroup\":\"Cidadania\",\"marker\":{\"color\":\"#636efa\",\"pattern\":{\"shape\":\"\"}},\"name\":\"Cidadania\",\"offsetgroup\":\"Cidadania\",\"orientation\":\"v\",\"showlegend\":true,\"textposition\":\"auto\",\"x\":[\"Cidadania\"],\"xaxis\":\"x\",\"y\":[434],\"yaxis\":\"y\",\"type\":\"bar\"},{\"alignmentgroup\":\"True\",\"hovertemplate\":\"Partido=%{x}\\u003cbr\\u003eN\\u00famero de Munic\\u00edpios=%{y}\\u003cextra\\u003e\\u003c\\u002fextra\\u003e\",\"legendgroup\":\"AVANTE\",\"marker\":{\"color\":\"#EF553B\",\"pattern\":{\"shape\":\"\"}},\"name\":\"AVANTE\",\"offsetgroup\":\"AVANTE\",\"orientation\":\"v\",\"showlegend\":true,\"textposition\":\"auto\",\"x\":[\"AVANTE\"],\"xaxis\":\"x\",\"y\":[398],\"yaxis\":\"y\",\"type\":\"bar\"},{\"alignmentgroup\":\"True\",\"hovertemplate\":\"Partido=%{x}\\u003cbr\\u003eN\\u00famero de Munic\\u00edpios=%{y}\\u003cextra\\u003e\\u003c\\u002fextra\\u003e\",\"legendgroup\":\"Partido Democr\\u00e1tico Trabalhista\",\"marker\":{\"color\":\"#00cc96\",\"pattern\":{\"shape\":\"\"}},\"name\":\"Partido Democr\\u00e1tico Trabalhista\",\"offsetgroup\":\"Partido Democr\\u00e1tico Trabalhista\",\"orientation\":\"v\",\"showlegend\":true,\"textposition\":\"auto\",\"x\":[\"Partido Democr\\u00e1tico Trabalhista\"],\"xaxis\":\"x\",\"y\":[346],\"yaxis\":\"y\",\"type\":\"bar\"},{\"alignmentgroup\":\"True\",\"hovertemplate\":\"Partido=%{x}\\u003cbr\\u003eN\\u00famero de Munic\\u00edpios=%{y}\\u003cextra\\u003e\\u003c\\u002fextra\\u003e\",\"legendgroup\":\"Partido Renova\\u00e7\\u00e3o Democr\\u00e1tica\",\"marker\":{\"color\":\"#ab63fa\",\"pattern\":{\"shape\":\"\"}},\"name\":\"Partido Renova\\u00e7\\u00e3o Democr\\u00e1tica\",\"offsetgroup\":\"Partido Renova\\u00e7\\u00e3o Democr\\u00e1tica\",\"orientation\":\"v\",\"showlegend\":true,\"textposition\":\"auto\",\"x\":[\"Partido Renova\\u00e7\\u00e3o Democr\\u00e1tica\"],\"xaxis\":\"x\",\"y\":[331],\"yaxis\":\"y\",\"type\":\"bar\"},{\"alignmentgroup\":\"True\",\"hovertemplate\":\"Partido=%{x}\\u003cbr\\u003eN\\u00famero de Munic\\u00edpios=%{y}\\u003cextra\\u003e\\u003c\\u002fextra\\u003e\",\"legendgroup\":\"Partido Socialista Brasileiro\",\"marker\":{\"color\":\"#FFA15A\",\"pattern\":{\"shape\":\"\"}},\"name\":\"Partido Socialista Brasileiro\",\"offsetgroup\":\"Partido Socialista Brasileiro\",\"orientation\":\"v\",\"showlegend\":true,\"textposition\":\"auto\",\"x\":[\"Partido Socialista Brasileiro\"],\"xaxis\":\"x\",\"y\":[307],\"yaxis\":\"y\",\"type\":\"bar\"},{\"alignmentgroup\":\"True\",\"hovertemplate\":\"Partido=%{x}\\u003cbr\\u003eN\\u00famero de Munic\\u00edpios=%{y}\\u003cextra\\u003e\\u003c\\u002fextra\\u003e\",\"legendgroup\":\"Solidariedade\",\"marker\":{\"color\":\"#19d3f3\",\"pattern\":{\"shape\":\"\"}},\"name\":\"Solidariedade\",\"offsetgroup\":\"Solidariedade\",\"orientation\":\"v\",\"showlegend\":true,\"textposition\":\"auto\",\"x\":[\"Solidariedade\"],\"xaxis\":\"x\",\"y\":[292],\"yaxis\":\"y\",\"type\":\"bar\"},{\"alignmentgroup\":\"True\",\"hovertemplate\":\"Partido=%{x}\\u003cbr\\u003eN\\u00famero de Munic\\u00edpios=%{y}\\u003cextra\\u003e\\u003c\\u002fextra\\u003e\",\"legendgroup\":\"Podemos\",\"marker\":{\"color\":\"#FF6692\",\"pattern\":{\"shape\":\"\"}},\"name\":\"Podemos\",\"offsetgroup\":\"Podemos\",\"orientation\":\"v\",\"showlegend\":true,\"textposition\":\"auto\",\"x\":[\"Podemos\"],\"xaxis\":\"x\",\"y\":[250],\"yaxis\":\"y\",\"type\":\"bar\"},{\"alignmentgroup\":\"True\",\"hovertemplate\":\"Partido=%{x}\\u003cbr\\u003eN\\u00famero de Munic\\u00edpios=%{y}\\u003cextra\\u003e\\u003c\\u002fextra\\u003e\",\"legendgroup\":\"Mobiliza\\u00e7\\u00e3o Nacional\",\"marker\":{\"color\":\"#B6E880\",\"pattern\":{\"shape\":\"\"}},\"name\":\"Mobiliza\\u00e7\\u00e3o Nacional\",\"offsetgroup\":\"Mobiliza\\u00e7\\u00e3o Nacional\",\"orientation\":\"v\",\"showlegend\":true,\"textposition\":\"auto\",\"x\":[\"Mobiliza\\u00e7\\u00e3o Nacional\"],\"xaxis\":\"x\",\"y\":[245],\"yaxis\":\"y\",\"type\":\"bar\"},{\"alignmentgroup\":\"True\",\"hovertemplate\":\"Partido=%{x}\\u003cbr\\u003eN\\u00famero de Munic\\u00edpios=%{y}\\u003cextra\\u003e\\u003c\\u002fextra\\u003e\",\"legendgroup\":\"Rede Sustentabilidade\",\"marker\":{\"color\":\"#FF97FF\",\"pattern\":{\"shape\":\"\"}},\"name\":\"Rede Sustentabilidade\",\"offsetgroup\":\"Rede Sustentabilidade\",\"orientation\":\"v\",\"showlegend\":true,\"textposition\":\"auto\",\"x\":[\"Rede Sustentabilidade\"],\"xaxis\":\"x\",\"y\":[139],\"yaxis\":\"y\",\"type\":\"bar\"},{\"alignmentgroup\":\"True\",\"hovertemplate\":\"Partido=%{x}\\u003cbr\\u003eN\\u00famero de Munic\\u00edpios=%{y}\\u003cextra\\u003e\\u003c\\u002fextra\\u003e\",\"legendgroup\":\"Partido Socialismo e Liberdade\",\"marker\":{\"color\":\"#FECB52\",\"pattern\":{\"shape\":\"\"}},\"name\":\"Partido Socialismo e Liberdade\",\"offsetgroup\":\"Partido Socialismo e Liberdade\",\"orientation\":\"v\",\"showlegend\":true,\"textposition\":\"auto\",\"x\":[\"Partido Socialismo e Liberdade\"],\"xaxis\":\"x\",\"y\":[132],\"yaxis\":\"y\",\"type\":\"bar\"},{\"alignmentgroup\":\"True\",\"hovertemplate\":\"Partido=%{x}\\u003cbr\\u003eN\\u00famero de Munic\\u00edpios=%{y}\\u003cextra\\u003e\\u003c\\u002fextra\\u003e\",\"legendgroup\":\"Partido Novo\",\"marker\":{\"color\":\"#636efa\",\"pattern\":{\"shape\":\"\"}},\"name\":\"Partido Novo\",\"offsetgroup\":\"Partido Novo\",\"orientation\":\"v\",\"showlegend\":true,\"textposition\":\"auto\",\"x\":[\"Partido Novo\"],\"xaxis\":\"x\",\"y\":[127],\"yaxis\":\"y\",\"type\":\"bar\"},{\"alignmentgroup\":\"True\",\"hovertemplate\":\"Partido=%{x}\\u003cbr\\u003eN\\u00famero de Munic\\u00edpios=%{y}\\u003cextra\\u003e\\u003c\\u002fextra\\u003e\",\"legendgroup\":\"AGIR\",\"marker\":{\"color\":\"#EF553B\",\"pattern\":{\"shape\":\"\"}},\"name\":\"AGIR\",\"offsetgroup\":\"AGIR\",\"orientation\":\"v\",\"showlegend\":true,\"textposition\":\"auto\",\"x\":[\"AGIR\"],\"xaxis\":\"x\",\"y\":[100],\"yaxis\":\"y\",\"type\":\"bar\"},{\"alignmentgroup\":\"True\",\"hovertemplate\":\"Partido=%{x}\\u003cbr\\u003eN\\u00famero de Munic\\u00edpios=%{y}\\u003cextra\\u003e\\u003c\\u002fextra\\u003e\",\"legendgroup\":\"Democracia Crist\\u00e3\",\"marker\":{\"color\":\"#00cc96\",\"pattern\":{\"shape\":\"\"}},\"name\":\"Democracia Crist\\u00e3\",\"offsetgroup\":\"Democracia Crist\\u00e3\",\"orientation\":\"v\",\"showlegend\":true,\"textposition\":\"auto\",\"x\":[\"Democracia Crist\\u00e3\"],\"xaxis\":\"x\",\"y\":[57],\"yaxis\":\"y\",\"type\":\"bar\"},{\"alignmentgroup\":\"True\",\"hovertemplate\":\"Partido=%{x}\\u003cbr\\u003eN\\u00famero de Munic\\u00edpios=%{y}\\u003cextra\\u003e\\u003c\\u002fextra\\u003e\",\"legendgroup\":\"Partido da Mulher Brasileira\",\"marker\":{\"color\":\"#ab63fa\",\"pattern\":{\"shape\":\"\"}},\"name\":\"Partido da Mulher Brasileira\",\"offsetgroup\":\"Partido da Mulher Brasileira\",\"orientation\":\"v\",\"showlegend\":true,\"textposition\":\"auto\",\"x\":[\"Partido da Mulher Brasileira\"],\"xaxis\":\"x\",\"y\":[47],\"yaxis\":\"y\",\"type\":\"bar\"},{\"alignmentgroup\":\"True\",\"hovertemplate\":\"Partido=%{x}\\u003cbr\\u003eN\\u00famero de Munic\\u00edpios=%{y}\\u003cextra\\u003e\\u003c\\u002fextra\\u003e\",\"legendgroup\":\"Partido Renovador Trabalhista Brasileiro\",\"marker\":{\"color\":\"#FFA15A\",\"pattern\":{\"shape\":\"\"}},\"name\":\"Partido Renovador Trabalhista Brasileiro\",\"offsetgroup\":\"Partido Renovador Trabalhista Brasileiro\",\"orientation\":\"v\",\"showlegend\":true,\"textposition\":\"auto\",\"x\":[\"Partido Renovador Trabalhista Brasileiro\"],\"xaxis\":\"x\",\"y\":[45],\"yaxis\":\"y\",\"type\":\"bar\"},{\"alignmentgroup\":\"True\",\"hovertemplate\":\"Partido=%{x}\\u003cbr\\u003eN\\u00famero de Munic\\u00edpios=%{y}\\u003cextra\\u003e\\u003c\\u002fextra\\u003e\",\"legendgroup\":\"Partido Socialista dos Trabalhadores Unificado\",\"marker\":{\"color\":\"#19d3f3\",\"pattern\":{\"shape\":\"\"}},\"name\":\"Partido Socialista dos Trabalhadores Unificado\",\"offsetgroup\":\"Partido Socialista dos Trabalhadores Unificado\",\"orientation\":\"v\",\"showlegend\":true,\"textposition\":\"auto\",\"x\":[\"Partido Socialista dos Trabalhadores Unificado\"],\"xaxis\":\"x\",\"y\":[10],\"yaxis\":\"y\",\"type\":\"bar\"},{\"alignmentgroup\":\"True\",\"hovertemplate\":\"Partido=%{x}\\u003cbr\\u003eN\\u00famero de Munic\\u00edpios=%{y}\\u003cextra\\u003e\\u003c\\u002fextra\\u003e\",\"legendgroup\":\"Partido da Causa Oper\\u00e1ria\",\"marker\":{\"color\":\"#FF6692\",\"pattern\":{\"shape\":\"\"}},\"name\":\"Partido da Causa Oper\\u00e1ria\",\"offsetgroup\":\"Partido da Causa Oper\\u00e1ria\",\"orientation\":\"v\",\"showlegend\":true,\"textposition\":\"auto\",\"x\":[\"Partido da Causa Oper\\u00e1ria\"],\"xaxis\":\"x\",\"y\":[4],\"yaxis\":\"y\",\"type\":\"bar\"},{\"alignmentgroup\":\"True\",\"hovertemplate\":\"Partido=%{x}\\u003cbr\\u003eN\\u00famero de Munic\\u00edpios=%{y}\\u003cextra\\u003e\\u003c\\u002fextra\\u003e\",\"legendgroup\":\"Unidade Popular\",\"marker\":{\"color\":\"#B6E880\",\"pattern\":{\"shape\":\"\"}},\"name\":\"Unidade Popular\",\"offsetgroup\":\"Unidade Popular\",\"orientation\":\"v\",\"showlegend\":true,\"textposition\":\"auto\",\"x\":[\"Unidade Popular\"],\"xaxis\":\"x\",\"y\":[3],\"yaxis\":\"y\",\"type\":\"bar\"},{\"alignmentgroup\":\"True\",\"hovertemplate\":\"Partido=%{x}\\u003cbr\\u003eN\\u00famero de Munic\\u00edpios=%{y}\\u003cextra\\u003e\\u003c\\u002fextra\\u003e\",\"legendgroup\":\"Partido Comunista Brasileiro\",\"marker\":{\"color\":\"#FF97FF\",\"pattern\":{\"shape\":\"\"}},\"name\":\"Partido Comunista Brasileiro\",\"offsetgroup\":\"Partido Comunista Brasileiro\",\"orientation\":\"v\",\"showlegend\":true,\"textposition\":\"auto\",\"x\":[\"Partido Comunista Brasileiro\"],\"xaxis\":\"x\",\"y\":[2],\"yaxis\":\"y\",\"type\":\"bar\"}],                        {\"template\":{\"data\":{\"histogram2dcontour\":[{\"type\":\"histogram2dcontour\",\"colorbar\":{\"outlinewidth\":0,\"ticks\":\"\"},\"colorscale\":[[0.0,\"#0d0887\"],[0.1111111111111111,\"#46039f\"],[0.2222222222222222,\"#7201a8\"],[0.3333333333333333,\"#9c179e\"],[0.4444444444444444,\"#bd3786\"],[0.5555555555555556,\"#d8576b\"],[0.6666666666666666,\"#ed7953\"],[0.7777777777777778,\"#fb9f3a\"],[0.8888888888888888,\"#fdca26\"],[1.0,\"#f0f921\"]]}],\"choropleth\":[{\"type\":\"choropleth\",\"colorbar\":{\"outlinewidth\":0,\"ticks\":\"\"}}],\"histogram2d\":[{\"type\":\"histogram2d\",\"colorbar\":{\"outlinewidth\":0,\"ticks\":\"\"},\"colorscale\":[[0.0,\"#0d0887\"],[0.1111111111111111,\"#46039f\"],[0.2222222222222222,\"#7201a8\"],[0.3333333333333333,\"#9c179e\"],[0.4444444444444444,\"#bd3786\"],[0.5555555555555556,\"#d8576b\"],[0.6666666666666666,\"#ed7953\"],[0.7777777777777778,\"#fb9f3a\"],[0.8888888888888888,\"#fdca26\"],[1.0,\"#f0f921\"]]}],\"heatmap\":[{\"type\":\"heatmap\",\"colorbar\":{\"outlinewidth\":0,\"ticks\":\"\"},\"colorscale\":[[0.0,\"#0d0887\"],[0.1111111111111111,\"#46039f\"],[0.2222222222222222,\"#7201a8\"],[0.3333333333333333,\"#9c179e\"],[0.4444444444444444,\"#bd3786\"],[0.5555555555555556,\"#d8576b\"],[0.6666666666666666,\"#ed7953\"],[0.7777777777777778,\"#fb9f3a\"],[0.8888888888888888,\"#fdca26\"],[1.0,\"#f0f921\"]]}],\"heatmapgl\":[{\"type\":\"heatmapgl\",\"colorbar\":{\"outlinewidth\":0,\"ticks\":\"\"},\"colorscale\":[[0.0,\"#0d0887\"],[0.1111111111111111,\"#46039f\"],[0.2222222222222222,\"#7201a8\"],[0.3333333333333333,\"#9c179e\"],[0.4444444444444444,\"#bd3786\"],[0.5555555555555556,\"#d8576b\"],[0.6666666666666666,\"#ed7953\"],[0.7777777777777778,\"#fb9f3a\"],[0.8888888888888888,\"#fdca26\"],[1.0,\"#f0f921\"]]}],\"contourcarpet\":[{\"type\":\"contourcarpet\",\"colorbar\":{\"outlinewidth\":0,\"ticks\":\"\"}}],\"contour\":[{\"type\":\"contour\",\"colorbar\":{\"outlinewidth\":0,\"ticks\":\"\"},\"colorscale\":[[0.0,\"#0d0887\"],[0.1111111111111111,\"#46039f\"],[0.2222222222222222,\"#7201a8\"],[0.3333333333333333,\"#9c179e\"],[0.4444444444444444,\"#bd3786\"],[0.5555555555555556,\"#d8576b\"],[0.6666666666666666,\"#ed7953\"],[0.7777777777777778,\"#fb9f3a\"],[0.8888888888888888,\"#fdca26\"],[1.0,\"#f0f921\"]]}],\"surface\":[{\"type\":\"surface\",\"colorbar\":{\"outlinewidth\":0,\"ticks\":\"\"},\"colorscale\":[[0.0,\"#0d0887\"],[0.1111111111111111,\"#46039f\"],[0.2222222222222222,\"#7201a8\"],[0.3333333333333333,\"#9c179e\"],[0.4444444444444444,\"#bd3786\"],[0.5555555555555556,\"#d8576b\"],[0.6666666666666666,\"#ed7953\"],[0.7777777777777778,\"#fb9f3a\"],[0.8888888888888888,\"#fdca26\"],[1.0,\"#f0f921\"]]}],\"mesh3d\":[{\"type\":\"mesh3d\",\"colorbar\":{\"outlinewidth\":0,\"ticks\":\"\"}}],\"scatter\":[{\"fillpattern\":{\"fillmode\":\"overlay\",\"size\":10,\"solidity\":0.2},\"type\":\"scatter\"}],\"parcoords\":[{\"type\":\"parcoords\",\"line\":{\"colorbar\":{\"outlinewidth\":0,\"ticks\":\"\"}}}],\"scatterpolargl\":[{\"type\":\"scatterpolargl\",\"marker\":{\"colorbar\":{\"outlinewidth\":0,\"ticks\":\"\"}}}],\"bar\":[{\"error_x\":{\"color\":\"#2a3f5f\"},\"error_y\":{\"color\":\"#2a3f5f\"},\"marker\":{\"line\":{\"color\":\"#E5ECF6\",\"width\":0.5},\"pattern\":{\"fillmode\":\"overlay\",\"size\":10,\"solidity\":0.2}},\"type\":\"bar\"}],\"scattergeo\":[{\"type\":\"scattergeo\",\"marker\":{\"colorbar\":{\"outlinewidth\":0,\"ticks\":\"\"}}}],\"scatterpolar\":[{\"type\":\"scatterpolar\",\"marker\":{\"colorbar\":{\"outlinewidth\":0,\"ticks\":\"\"}}}],\"histogram\":[{\"marker\":{\"pattern\":{\"fillmode\":\"overlay\",\"size\":10,\"solidity\":0.2}},\"type\":\"histogram\"}],\"scattergl\":[{\"type\":\"scattergl\",\"marker\":{\"colorbar\":{\"outlinewidth\":0,\"ticks\":\"\"}}}],\"scatter3d\":[{\"type\":\"scatter3d\",\"line\":{\"colorbar\":{\"outlinewidth\":0,\"ticks\":\"\"}},\"marker\":{\"colorbar\":{\"outlinewidth\":0,\"ticks\":\"\"}}}],\"scattermapbox\":[{\"type\":\"scattermapbox\",\"marker\":{\"colorbar\":{\"outlinewidth\":0,\"ticks\":\"\"}}}],\"scatterternary\":[{\"type\":\"scatterternary\",\"marker\":{\"colorbar\":{\"outlinewidth\":0,\"ticks\":\"\"}}}],\"scattercarpet\":[{\"type\":\"scattercarpet\",\"marker\":{\"colorbar\":{\"outlinewidth\":0,\"ticks\":\"\"}}}],\"carpet\":[{\"aaxis\":{\"endlinecolor\":\"#2a3f5f\",\"gridcolor\":\"white\",\"linecolor\":\"white\",\"minorgridcolor\":\"white\",\"startlinecolor\":\"#2a3f5f\"},\"baxis\":{\"endlinecolor\":\"#2a3f5f\",\"gridcolor\":\"white\",\"linecolor\":\"white\",\"minorgridcolor\":\"white\",\"startlinecolor\":\"#2a3f5f\"},\"type\":\"carpet\"}],\"table\":[{\"cells\":{\"fill\":{\"color\":\"#EBF0F8\"},\"line\":{\"color\":\"white\"}},\"header\":{\"fill\":{\"color\":\"#C8D4E3\"},\"line\":{\"color\":\"white\"}},\"type\":\"table\"}],\"barpolar\":[{\"marker\":{\"line\":{\"color\":\"#E5ECF6\",\"width\":0.5},\"pattern\":{\"fillmode\":\"overlay\",\"size\":10,\"solidity\":0.2}},\"type\":\"barpolar\"}],\"pie\":[{\"automargin\":true,\"type\":\"pie\"}]},\"layout\":{\"autotypenumbers\":\"strict\",\"colorway\":[\"#636efa\",\"#EF553B\",\"#00cc96\",\"#ab63fa\",\"#FFA15A\",\"#19d3f3\",\"#FF6692\",\"#B6E880\",\"#FF97FF\",\"#FECB52\"],\"font\":{\"color\":\"#2a3f5f\"},\"hovermode\":\"closest\",\"hoverlabel\":{\"align\":\"left\"},\"paper_bgcolor\":\"white\",\"plot_bgcolor\":\"#E5ECF6\",\"polar\":{\"bgcolor\":\"#E5ECF6\",\"angularaxis\":{\"gridcolor\":\"white\",\"linecolor\":\"white\",\"ticks\":\"\"},\"radialaxis\":{\"gridcolor\":\"white\",\"linecolor\":\"white\",\"ticks\":\"\"}},\"ternary\":{\"bgcolor\":\"#E5ECF6\",\"aaxis\":{\"gridcolor\":\"white\",\"linecolor\":\"white\",\"ticks\":\"\"},\"baxis\":{\"gridcolor\":\"white\",\"linecolor\":\"white\",\"ticks\":\"\"},\"caxis\":{\"gridcolor\":\"white\",\"linecolor\":\"white\",\"ticks\":\"\"}},\"coloraxis\":{\"colorbar\":{\"outlinewidth\":0,\"ticks\":\"\"}},\"colorscale\":{\"sequential\":[[0.0,\"#0d0887\"],[0.1111111111111111,\"#46039f\"],[0.2222222222222222,\"#7201a8\"],[0.3333333333333333,\"#9c179e\"],[0.4444444444444444,\"#bd3786\"],[0.5555555555555556,\"#d8576b\"],[0.6666666666666666,\"#ed7953\"],[0.7777777777777778,\"#fb9f3a\"],[0.8888888888888888,\"#fdca26\"],[1.0,\"#f0f921\"]],\"sequentialminus\":[[0.0,\"#0d0887\"],[0.1111111111111111,\"#46039f\"],[0.2222222222222222,\"#7201a8\"],[0.3333333333333333,\"#9c179e\"],[0.4444444444444444,\"#bd3786\"],[0.5555555555555556,\"#d8576b\"],[0.6666666666666666,\"#ed7953\"],[0.7777777777777778,\"#fb9f3a\"],[0.8888888888888888,\"#fdca26\"],[1.0,\"#f0f921\"]],\"diverging\":[[0,\"#8e0152\"],[0.1,\"#c51b7d\"],[0.2,\"#de77ae\"],[0.3,\"#f1b6da\"],[0.4,\"#fde0ef\"],[0.5,\"#f7f7f7\"],[0.6,\"#e6f5d0\"],[0.7,\"#b8e186\"],[0.8,\"#7fbc41\"],[0.9,\"#4d9221\"],[1,\"#276419\"]]},\"xaxis\":{\"gridcolor\":\"white\",\"linecolor\":\"white\",\"ticks\":\"\",\"title\":{\"standoff\":15},\"zerolinecolor\":\"white\",\"automargin\":true,\"zerolinewidth\":2},\"yaxis\":{\"gridcolor\":\"white\",\"linecolor\":\"white\",\"ticks\":\"\",\"title\":{\"standoff\":15},\"zerolinecolor\":\"white\",\"automargin\":true,\"zerolinewidth\":2},\"scene\":{\"xaxis\":{\"backgroundcolor\":\"#E5ECF6\",\"gridcolor\":\"white\",\"linecolor\":\"white\",\"showbackground\":true,\"ticks\":\"\",\"zerolinecolor\":\"white\",\"gridwidth\":2},\"yaxis\":{\"backgroundcolor\":\"#E5ECF6\",\"gridcolor\":\"white\",\"linecolor\":\"white\",\"showbackground\":true,\"ticks\":\"\",\"zerolinecolor\":\"white\",\"gridwidth\":2},\"zaxis\":{\"backgroundcolor\":\"#E5ECF6\",\"gridcolor\":\"white\",\"linecolor\":\"white\",\"showbackground\":true,\"ticks\":\"\",\"zerolinecolor\":\"white\",\"gridwidth\":2}},\"shapedefaults\":{\"line\":{\"color\":\"#2a3f5f\"}},\"annotationdefaults\":{\"arrowcolor\":\"#2a3f5f\",\"arrowhead\":0,\"arrowwidth\":1},\"geo\":{\"bgcolor\":\"white\",\"landcolor\":\"#E5ECF6\",\"subunitcolor\":\"white\",\"showland\":true,\"showlakes\":true,\"lakecolor\":\"white\"},\"title\":{\"x\":0.05},\"mapbox\":{\"style\":\"light\"}}},\"xaxis\":{\"anchor\":\"y\",\"domain\":[0.0,1.0],\"title\":{\"text\":\"Partido\"},\"categoryorder\":\"array\",\"categoryarray\":[\"Partido Social Democr\\u00e1tico\",\"Partido dos Trabalhadores\",\"Partido Verde\",\"Partido Comunista do Brasil\",\"Movimento Democr\\u00e1tico Brasileiro\",\"PROGRESSISTAS\",\"REPUBLICANOS\",\"Partido Liberal\",\"Uni\\u00e3o Brasil\",\"Partido da Social Democracia Brasileira\",\"Cidadania\",\"AVANTE\",\"Partido Democr\\u00e1tico Trabalhista\",\"Partido Renova\\u00e7\\u00e3o Democr\\u00e1tica\",\"Partido Socialista Brasileiro\",\"Solidariedade\",\"Podemos\",\"Mobiliza\\u00e7\\u00e3o Nacional\",\"Rede Sustentabilidade\",\"Partido Socialismo e Liberdade\",\"Partido Novo\",\"AGIR\",\"Democracia Crist\\u00e3\",\"Partido da Mulher Brasileira\",\"Partido Renovador Trabalhista Brasileiro\",\"Partido Socialista dos Trabalhadores Unificado\",\"Partido da Causa Oper\\u00e1ria\",\"Unidade Popular\",\"Partido Comunista Brasileiro\"]},\"yaxis\":{\"anchor\":\"x\",\"domain\":[0.0,1.0],\"title\":{\"text\":\"N\\u00famero de Munic\\u00edpios\"}},\"legend\":{\"title\":{\"text\":\"Partido\"},\"tracegroupgap\":0},\"title\":{\"text\":\"Partidos mais votados em 2024\"},\"barmode\":\"relative\"},                        {\"responsive\": true}                    ).then(function(){\n",
       "                            \n",
       "var gd = document.getElementById('69114af6-d5a9-4ba3-86be-7495bdcc5487');\n",
       "var x = new MutationObserver(function (mutations, observer) {{\n",
       "        var display = window.getComputedStyle(gd).display;\n",
       "        if (!display || display === 'none') {{\n",
       "            console.log([gd, 'removed!']);\n",
       "            Plotly.purge(gd);\n",
       "            observer.disconnect();\n",
       "        }}\n",
       "}});\n",
       "\n",
       "// Listen for the removal of the full notebook cells\n",
       "var notebookContainer = gd.closest('#notebook-container');\n",
       "if (notebookContainer) {{\n",
       "    x.observe(notebookContainer, {childList: true});\n",
       "}}\n",
       "\n",
       "// Listen for the clearing of the current output cell\n",
       "var outputEl = gd.closest('.output');\n",
       "if (outputEl) {{\n",
       "    x.observe(outputEl, {childList: true});\n",
       "}}\n",
       "\n",
       "                        })                };                });            </script>        </div>"
      ]
     },
     "metadata": {},
     "output_type": "display_data"
    }
   ],
   "source": [
    "gerar_grafico_partidos_mais_votados(candidatos_mais_votados_2024, 2024)"
   ]
  },
  {
   "cell_type": "markdown",
   "id": "96cd6c2a",
   "metadata": {},
   "source": [
    "## Quem venceu mais: Esquerda ou Direita?\n"
   ]
  },
  {
   "cell_type": "code",
   "execution_count": 65,
   "id": "a5e59eb0",
   "metadata": {},
   "outputs": [
    {
     "name": "stdout",
     "output_type": "stream",
     "text": [
      "Requirement already satisfied: pyogrio in c:\\users\\marce\\appdata\\local\\programs\\python\\python311\\lib\\site-packages (0.10.0)\n",
      "Requirement already satisfied: certifi in c:\\users\\marce\\appdata\\local\\programs\\python\\python311\\lib\\site-packages (from pyogrio) (2023.7.22)\n",
      "Requirement already satisfied: numpy in c:\\users\\marce\\appdata\\local\\programs\\python\\python311\\lib\\site-packages (from pyogrio) (2.1.2)\n",
      "Requirement already satisfied: packaging in c:\\users\\marce\\appdata\\local\\programs\\python\\python311\\lib\\site-packages (from pyogrio) (23.1)\n"
     ]
    }
   ],
   "source": [
    "!pip install pyogrio"
   ]
  },
  {
   "cell_type": "code",
   "execution_count": 66,
   "id": "a381a77d",
   "metadata": {},
   "outputs": [],
   "source": [
    "df = pd.read_csv(arquivo_municipios)"
   ]
  },
  {
   "cell_type": "code",
   "execution_count": 67,
   "id": "0ed6ed1e",
   "metadata": {},
   "outputs": [],
   "source": [
    "gdf = gpd.GeoDataFrame(\n",
    "    df, geometry=gpd.points_from_xy(df.longitude, df.latitude)\n",
    ")"
   ]
  },
  {
   "cell_type": "code",
   "execution_count": 68,
   "id": "64c7cee6",
   "metadata": {},
   "outputs": [
    {
     "name": "stdout",
     "output_type": "stream",
     "text": [
      "1     ABADIA DOS DOURADOS\n",
      "3                  ABAETÉ\n",
      "12             ABRE CAMPO\n",
      "15                ACAIACA\n",
      "29                AÇUCENA\n",
      "Name: nome, dtype: object\n"
     ]
    }
   ],
   "source": [
    "df_mg = df[df['codigo_uf'] == 31]\n",
    "\n",
    "# Converter ambos para string, por exemplo\n",
    "df_mg.loc[:, 'nome'] = df_mg['nome'].astype(str)\n",
    "candidatos_mais_votados_2024.loc[:, 'NM_UE'] = candidatos_mais_votados_2024['NM_UE'].astype(str)\n",
    "\n",
    "# Usar .loc[] para modificar o campo 'nome' diretamente no DataFrame original\n",
    "df_mg.loc[:, 'nome'] = df_mg['nome'].str.upper()\n",
    "\n",
    "# Verificar se a conversão para maiúsculo foi aplicada\n",
    "print(df_mg['nome'].head())\n"
   ]
  },
  {
   "cell_type": "code",
   "execution_count": 69,
   "id": "8b207636",
   "metadata": {},
   "outputs": [],
   "source": [
    "candidatos_mais_votados_2020_geo_df = df_mg.merge(candidatos_mais_votados_2020, left_on='nome', right_on='NM_UE')\n",
    "candidatos_mais_votados_2024_geo_df = df_mg.merge(candidatos_mais_votados_2024, left_on='nome', right_on='NM_UE')"
   ]
  },
  {
   "cell_type": "code",
   "execution_count": 70,
   "id": "71667eb4",
   "metadata": {},
   "outputs": [],
   "source": [
    "candidatos_mais_votados_2020_geo_df['geometry'] = candidatos_mais_votados_2020_geo_df.apply(lambda x: Point(x['longitude'], x['latitude']), axis=1)\n",
    "candidatos_mais_votados_2024_geo_df['geometry'] = candidatos_mais_votados_2024_geo_df.apply(lambda x: Point(x['longitude'], x['latitude']), axis=1)"
   ]
  },
  {
   "cell_type": "code",
   "execution_count": 71,
   "id": "fdd95d54",
   "metadata": {},
   "outputs": [
    {
     "name": "stdout",
     "output_type": "stream",
     "text": [
      "Index(['codigo_ibge', 'nome', 'latitude', 'longitude', 'capital', 'codigo_uf',\n",
      "       'NM_PARTIDO', 'NM_UE', 'QT_VOTOS_NOMINAIS_VALIDOS', 'NR_PARTIDO',\n",
      "       'Espectro', 'geometry'],\n",
      "      dtype='object')\n",
      "<class 'geopandas.geodataframe.GeoDataFrame'>\n",
      "   codigo_ibge                 nome  latitude  longitude  capital  codigo_uf  \\\n",
      "0      3100104  ABADIA DOS DOURADOS  -18.4831   -47.3916        0         31   \n",
      "1      3100104  ABADIA DOS DOURADOS  -18.4831   -47.3916        0         31   \n",
      "2      3100104  ABADIA DOS DOURADOS  -18.4831   -47.3916        0         31   \n",
      "3      3100104  ABADIA DOS DOURADOS  -18.4831   -47.3916        0         31   \n",
      "4      3100104  ABADIA DOS DOURADOS  -18.4831   -47.3916        0         31   \n",
      "\n",
      "                                NM_PARTIDO                NM_UE  \\\n",
      "0                                Cidadania  ABADIA DOS DOURADOS   \n",
      "1                               Democratas  ABADIA DOS DOURADOS   \n",
      "2                   Partido Social Cristão  ABADIA DOS DOURADOS   \n",
      "3           Partido Trabalhista Brasileiro  ABADIA DOS DOURADOS   \n",
      "4  Partido da Social Democracia Brasileira  ABADIA DOS DOURADOS   \n",
      "\n",
      "   QT_VOTOS_NOMINAIS_VALIDOS  NR_PARTIDO  Espectro                   geometry  \n",
      "0                       2044          23  esquerda  POINT (-47.3916 -18.4831)  \n",
      "1                       1403          25   direita  POINT (-47.3916 -18.4831)  \n",
      "2                        472          20   direita  POINT (-47.3916 -18.4831)  \n",
      "3                       1046          14   direita  POINT (-47.3916 -18.4831)  \n",
      "4                        987          45    centro  POINT (-47.3916 -18.4831)  \n"
     ]
    }
   ],
   "source": [
    "candidatos_mais_votados_2020.columns = candidatos_mais_votados_2020.columns.str.strip()\n",
    "\n",
    "print(candidatos_mais_votados_2020_geo_df.columns) \n",
    "\n",
    "try:\n",
    "    candidatos_mais_votados_2020_geo_df = gpd.GeoDataFrame(candidatos_mais_votados_2020_geo_df, geometry='geometry')\n",
    "    print(type(candidatos_mais_votados_2020_geo_df))  # Verifique o tipo\n",
    "    print(candidatos_mais_votados_2020_geo_df.head())  # Verifique as primeiras linhas\n",
    "except ValueError as e:\n",
    "    print(\"Erro ao criar o GeoDataFrame:\", e)"
   ]
  },
  {
   "cell_type": "code",
   "execution_count": 72,
   "id": "cff3dac0",
   "metadata": {},
   "outputs": [],
   "source": [
    "candidatos_mais_votados_2020_geo_df = gpd.GeoDataFrame(candidatos_mais_votados_2020_geo_df, geometry='geometry')\n",
    "candidatos_mais_votados_2024_geo_df = gpd.GeoDataFrame(candidatos_mais_votados_2024_geo_df, geometry='geometry')"
   ]
  },
  {
   "cell_type": "code",
   "execution_count": 73,
   "id": "c8ab4bb2",
   "metadata": {},
   "outputs": [],
   "source": [
    "# Remover linhas com geometrias vazias\n",
    "candidatos_mais_votados_2020_geo_df = candidatos_mais_votados_2020_geo_df[~candidatos_mais_votados_2020_geo_df['geometry'].is_empty]\n",
    "candidatos_mais_votados_2020_geo_df = candidatos_mais_votados_2020_geo_df[candidatos_mais_votados_2020_geo_df.is_valid]\n",
    "\n",
    "candidatos_mais_votados_2024_geo_df = candidatos_mais_votados_2024_geo_df[~candidatos_mais_votados_2024_geo_df['geometry'].is_empty]\n",
    "candidatos_mais_votados_2024_geo_df = candidatos_mais_votados_2024_geo_df[candidatos_mais_votados_2024_geo_df.is_valid]"
   ]
  },
  {
   "cell_type": "code",
   "execution_count": 74,
   "id": "26bc5ba5",
   "metadata": {
    "scrolled": false
   },
   "outputs": [
    {
     "name": "stderr",
     "output_type": "stream",
     "text": [
      "C:\\Users\\marce\\AppData\\Local\\Temp\\ipykernel_14828\\1066555661.py:40: UserWarning:\n",
      "\n",
      "The GeoSeries you are attempting to plot is composed of empty geometries. Nothing has been displayed.\n",
      "\n"
     ]
    },
    {
     "data": {
      "image/png": "[encoded data removed]",
      "text/plain": [
       "<Figure size 1200x800 with 1 Axes>"
      ]
     },
     "metadata": {},
     "output_type": "display_data"
    }
   ],
   "source": [
    "plot_mapa(candidatos_mais_votados_2020_geo_df, 2020)"
   ]
  },
  {
   "cell_type": "code",
   "execution_count": 75,
   "id": "48493578",
   "metadata": {},
   "outputs": [
    {
     "name": "stderr",
     "output_type": "stream",
     "text": [
      "C:\\Users\\marce\\AppData\\Local\\Temp\\ipykernel_14828\\1066555661.py:40: UserWarning:\n",
      "\n",
      "The GeoSeries you are attempting to plot is composed of empty geometries. Nothing has been displayed.\n",
      "\n"
     ]
    },
    {
     "data": {
      "image/png": "[encoded data removed]",
      "text/plain": [
       "<Figure size 1200x800 with 1 Axes>"
      ]
     },
     "metadata": {},
     "output_type": "display_data"
    }
   ],
   "source": [
    "plot_mapa(candidatos_mais_votados_2024_geo_df, 2024)"
   ]
  }
 ],
 "metadata": {
  "kernelspec": {
   "display_name": "Python 3 (ipykernel)",
   "language": "python",
   "name": "python3"
  },
  "language_info": {
   "codemirror_mode": {
    "name": "ipython",
    "version": 3
   },
   "file_extension": ".py",
   "mimetype": "text/x-python",
   "name": "python",
   "nbconvert_exporter": "python",
   "pygments_lexer": "ipython3",
   "version": "3.11.3"
  }
 },
 "nbformat": 4,
 "nbformat_minor": 5
}
