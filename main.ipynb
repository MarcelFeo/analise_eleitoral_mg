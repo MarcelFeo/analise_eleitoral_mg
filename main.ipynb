{
 "cells": [
  {
   "cell_type": "markdown",
   "id": "6cb6d958",
   "metadata": {},
   "source": [
    "# Estudo sobre as eleições municipais de 2020 e 2024 no estado de Minas Gerais"
   ]
  },
  {
   "cell_type": "markdown",
   "id": "ad161094",
   "metadata": {},
   "source": [
    "## Instalando e importando os pacotes necessários"
   ]
  },
  {
   "cell_type": "code",
   "execution_count": 5,
   "id": "9cfb0e38",
   "metadata": {},
   "outputs": [
    {
     "name": "stdout",
     "output_type": "stream",
     "text": [
      "Requirement already satisfied: plotly in c:\\users\\marce\\appdata\\local\\programs\\python\\python311\\lib\\site-packages (5.24.1)\n",
      "Requirement already satisfied: geopandas in c:\\users\\marce\\appdata\\local\\programs\\python\\python311\\lib\\site-packages (1.0.1)\n",
      "Requirement already satisfied: matplotlib in c:\\users\\marce\\appdata\\local\\programs\\python\\python311\\lib\\site-packages (3.9.2)\n",
      "Requirement already satisfied: pandas in c:\\users\\marce\\appdata\\local\\programs\\python\\python311\\lib\\site-packages (2.2.3)\n",
      "Requirement already satisfied: tenacity>=6.2.0 in c:\\users\\marce\\appdata\\local\\programs\\python\\python311\\lib\\site-packages (from plotly) (9.0.0)\n",
      "Requirement already satisfied: packaging in c:\\users\\marce\\appdata\\local\\programs\\python\\python311\\lib\\site-packages (from plotly) (23.1)\n",
      "Requirement already satisfied: numpy>=1.22 in c:\\users\\marce\\appdata\\local\\programs\\python\\python311\\lib\\site-packages (from geopandas) (2.1.2)\n",
      "Requirement already satisfied: pyogrio>=0.7.2 in c:\\users\\marce\\appdata\\local\\programs\\python\\python311\\lib\\site-packages (from geopandas) (0.10.0)\n",
      "Requirement already satisfied: pyproj>=3.3.0 in c:\\users\\marce\\appdata\\local\\programs\\python\\python311\\lib\\site-packages (from geopandas) (3.7.0)\n",
      "Requirement already satisfied: shapely>=2.0.0 in c:\\users\\marce\\appdata\\local\\programs\\python\\python311\\lib\\site-packages (from geopandas) (2.0.6)\n",
      "Requirement already satisfied: contourpy>=1.0.1 in c:\\users\\marce\\appdata\\local\\programs\\python\\python311\\lib\\site-packages (from matplotlib) (1.3.0)\n",
      "Requirement already satisfied: cycler>=0.10 in c:\\users\\marce\\appdata\\local\\programs\\python\\python311\\lib\\site-packages (from matplotlib) (0.12.1)\n",
      "Requirement already satisfied: fonttools>=4.22.0 in c:\\users\\marce\\appdata\\local\\programs\\python\\python311\\lib\\site-packages (from matplotlib) (4.54.1)\n",
      "Requirement already satisfied: kiwisolver>=1.3.1 in c:\\users\\marce\\appdata\\local\\programs\\python\\python311\\lib\\site-packages (from matplotlib) (1.4.7)\n",
      "Requirement already satisfied: pillow>=8 in c:\\users\\marce\\appdata\\local\\programs\\python\\python311\\lib\\site-packages (from matplotlib) (10.4.0)\n",
      "Requirement already satisfied: pyparsing>=2.3.1 in c:\\users\\marce\\appdata\\local\\programs\\python\\python311\\lib\\site-packages (from matplotlib) (3.1.4)\n",
      "Requirement already satisfied: python-dateutil>=2.7 in c:\\users\\marce\\appdata\\local\\programs\\python\\python311\\lib\\site-packages (from matplotlib) (2.8.2)\n",
      "Requirement already satisfied: pytz>=2020.1 in c:\\users\\marce\\appdata\\local\\programs\\python\\python311\\lib\\site-packages (from pandas) (2024.2)\n",
      "Requirement already satisfied: tzdata>=2022.7 in c:\\users\\marce\\appdata\\local\\programs\\python\\python311\\lib\\site-packages (from pandas) (2024.2)\n",
      "Requirement already satisfied: certifi in c:\\users\\marce\\appdata\\local\\programs\\python\\python311\\lib\\site-packages (from pyogrio>=0.7.2->geopandas) (2023.7.22)\n",
      "Requirement already satisfied: six>=1.5 in c:\\users\\marce\\appdata\\local\\programs\\python\\python311\\lib\\site-packages (from python-dateutil>=2.7->matplotlib) (1.16.0)\n"
     ]
    }
   ],
   "source": [
    "!pip install plotly geopandas matplotlib pandas"
   ]
  },
  {
   "cell_type": "code",
   "execution_count": 6,
   "id": "b1f3d9d0",
   "metadata": {},
   "outputs": [],
   "source": [
    "import os\n",
    "import pandas as pd\n",
    "import geopandas as gpd\n",
    "import matplotlib.pyplot as plt"
   ]
  },
  {
   "cell_type": "markdown",
   "id": "ea74b35d",
   "metadata": {},
   "source": [
    "## Definindo arquivos necessários e váriaveis globais "
   ]
  },
  {
   "cell_type": "code",
   "execution_count": 9,
   "id": "f53e9ec6",
   "metadata": {},
   "outputs": [],
   "source": [
    "# Caminho para os arquivos utilizados\n",
    "pasta = 'C:\\\\Users\\\\marce\\\\OneDrive\\\\Área de Trabalho\\\\analise_eleitoral\\\\'\n",
    "arquivo_resultado_2020 = os.path.join(pasta, 'votacao_2020.csv')\n",
    "arquivo_resultado_2024 = os.path.join(pasta, 'votacao_2024.csv')\n",
    "arquivo_partidos = os.path.join(pasta,'partidos.csv')"
   ]
  },
  {
   "cell_type": "code",
   "execution_count": 10,
   "id": "94c4c4e7",
   "metadata": {},
   "outputs": [],
   "source": [
    "# Alterando formato de exibição dos gráficos do Pandas\n",
    "pd.options.plotting.backend = 'plotly'"
   ]
  },
  {
   "cell_type": "code",
   "execution_count": null,
   "id": "b5e85b00",
   "metadata": {},
   "outputs": [],
   "source": []
  },
  {
   "cell_type": "code",
   "execution_count": null,
   "id": "251c0583",
   "metadata": {},
   "outputs": [],
   "source": []
  },
  {
   "cell_type": "code",
   "execution_count": null,
   "id": "c397646a",
   "metadata": {},
   "outputs": [],
   "source": []
  },
  {
   "cell_type": "code",
   "execution_count": null,
   "id": "43fe902d",
   "metadata": {},
   "outputs": [],
   "source": []
  },
  {
   "cell_type": "code",
   "execution_count": null,
   "id": "cadcec23",
   "metadata": {},
   "outputs": [],
   "source": []
  },
  {
   "cell_type": "code",
   "execution_count": null,
   "id": "022ea3e2",
   "metadata": {},
   "outputs": [],
   "source": []
  },
  {
   "cell_type": "code",
   "execution_count": null,
   "id": "750e3410",
   "metadata": {},
   "outputs": [],
   "source": []
  },
  {
   "cell_type": "code",
   "execution_count": null,
   "id": "bb951333",
   "metadata": {},
   "outputs": [],
   "source": []
  },
  {
   "cell_type": "code",
   "execution_count": null,
   "id": "5e7b62a7",
   "metadata": {},
   "outputs": [],
   "source": []
  },
  {
   "cell_type": "code",
   "execution_count": null,
   "id": "68ae8094",
   "metadata": {},
   "outputs": [],
   "source": []
  },
  {
   "cell_type": "code",
   "execution_count": null,
   "id": "0f6350ac",
   "metadata": {},
   "outputs": [],
   "source": []
  }
 ],
 "metadata": {
  "kernelspec": {
   "display_name": "Python 3 (ipykernel)",
   "language": "python",
   "name": "python3"
  },
  "language_info": {
   "codemirror_mode": {
    "name": "ipython",
    "version": 3
   },
   "file_extension": ".py",
   "mimetype": "text/x-python",
   "name": "python",
   "nbconvert_exporter": "python",
   "pygments_lexer": "ipython3",
   "version": "3.11.3"
  }
 },
 "nbformat": 4,
 "nbformat_minor": 5
}
