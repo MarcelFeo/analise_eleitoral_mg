{
 "cells": [
  {
   "cell_type": "markdown",
   "id": "6bef53d4",
   "metadata": {},
   "source": [
    "# Estudo sobre as eleições municipais de 2020 e 2024 no estado de Minas Gerais"
   ]
  },
  {
   "cell_type": "markdown",
   "id": "20401640",
   "metadata": {},
   "source": [
    "## Instalando e importando os pacotes necessários"
   ]
  },
  {
   "cell_type": "code",
   "execution_count": 5,
   "id": "aeac47c7",
   "metadata": {},
   "outputs": [
    {
     "name": "stdout",
     "output_type": "stream",
     "text": [
      "Requirement already satisfied: plotly in c:\\users\\marce\\appdata\\local\\programs\\python\\python311\\lib\\site-packages (5.24.1)\n",
      "Requirement already satisfied: geopandas in c:\\users\\marce\\appdata\\local\\programs\\python\\python311\\lib\\site-packages (1.0.1)\n",
      "Requirement already satisfied: matplotlib in c:\\users\\marce\\appdata\\local\\programs\\python\\python311\\lib\\site-packages (3.9.2)\n",
      "Requirement already satisfied: pandas in c:\\users\\marce\\appdata\\local\\programs\\python\\python311\\lib\\site-packages (2.2.3)\n",
      "Requirement already satisfied: tenacity>=6.2.0 in c:\\users\\marce\\appdata\\local\\programs\\python\\python311\\lib\\site-packages (from plotly) (9.0.0)\n",
      "Requirement already satisfied: packaging in c:\\users\\marce\\appdata\\local\\programs\\python\\python311\\lib\\site-packages (from plotly) (23.1)\n",
      "Requirement already satisfied: numpy>=1.22 in c:\\users\\marce\\appdata\\local\\programs\\python\\python311\\lib\\site-packages (from geopandas) (2.1.2)\n",
      "Requirement already satisfied: pyogrio>=0.7.2 in c:\\users\\marce\\appdata\\local\\programs\\python\\python311\\lib\\site-packages (from geopandas) (0.10.0)\n",
      "Requirement already satisfied: pyproj>=3.3.0 in c:\\users\\marce\\appdata\\local\\programs\\python\\python311\\lib\\site-packages (from geopandas) (3.7.0)\n",
      "Requirement already satisfied: shapely>=2.0.0 in c:\\users\\marce\\appdata\\local\\programs\\python\\python311\\lib\\site-packages (from geopandas) (2.0.6)\n",
      "Requirement already satisfied: contourpy>=1.0.1 in c:\\users\\marce\\appdata\\local\\programs\\python\\python311\\lib\\site-packages (from matplotlib) (1.3.0)\n",
      "Requirement already satisfied: cycler>=0.10 in c:\\users\\marce\\appdata\\local\\programs\\python\\python311\\lib\\site-packages (from matplotlib) (0.12.1)\n",
      "Requirement already satisfied: fonttools>=4.22.0 in c:\\users\\marce\\appdata\\local\\programs\\python\\python311\\lib\\site-packages (from matplotlib) (4.54.1)\n",
      "Requirement already satisfied: kiwisolver>=1.3.1 in c:\\users\\marce\\appdata\\local\\programs\\python\\python311\\lib\\site-packages (from matplotlib) (1.4.7)\n",
      "Requirement already satisfied: pillow>=8 in c:\\users\\marce\\appdata\\local\\programs\\python\\python311\\lib\\site-packages (from matplotlib) (10.4.0)\n",
      "Requirement already satisfied: pyparsing>=2.3.1 in c:\\users\\marce\\appdata\\local\\programs\\python\\python311\\lib\\site-packages (from matplotlib) (3.1.4)\n",
      "Requirement already satisfied: python-dateutil>=2.7 in c:\\users\\marce\\appdata\\local\\programs\\python\\python311\\lib\\site-packages (from matplotlib) (2.8.2)\n",
      "Requirement already satisfied: pytz>=2020.1 in c:\\users\\marce\\appdata\\local\\programs\\python\\python311\\lib\\site-packages (from pandas) (2024.2)\n",
      "Requirement already satisfied: tzdata>=2022.7 in c:\\users\\marce\\appdata\\local\\programs\\python\\python311\\lib\\site-packages (from pandas) (2024.2)\n",
      "Requirement already satisfied: certifi in c:\\users\\marce\\appdata\\local\\programs\\python\\python311\\lib\\site-packages (from pyogrio>=0.7.2->geopandas) (2023.7.22)\n",
      "Requirement already satisfied: six>=1.5 in c:\\users\\marce\\appdata\\local\\programs\\python\\python311\\lib\\site-packages (from python-dateutil>=2.7->matplotlib) (1.16.0)\n"
     ]
    }
   ],
   "source": [
    "!pip install plotly geopandas matplotlib pandas"
   ]
  },
  {
   "cell_type": "code",
   "execution_count": 6,
   "id": "e08fb881",
   "metadata": {},
   "outputs": [],
   "source": [
    "import os\n",
    "import pandas as pd\n",
    "import geopandas as gpd\n",
    "import matplotlib.pyplot as plt"
   ]
  },
  {
   "cell_type": "markdown",
   "id": "ef6828dc",
   "metadata": {},
   "source": [
    "## Definindo arquivos necessários e váriaveis globais "
   ]
  },
  {
   "cell_type": "code",
   "execution_count": 9,
   "id": "39c689a7",
   "metadata": {},
   "outputs": [],
   "source": [
    "# Caminho para os arquivos utilizados\n",
    "pasta = 'C:\\\\Users\\\\marce\\\\OneDrive\\\\Área de Trabalho\\\\analise_eleitoral\\\\'\n",
    "arquivo_resultado_2020 = os.path.join(pasta, 'votacao_2020.csv')\n",
    "arquivo_resultado_2024 = os.path.join(pasta, 'votacao_2024.csv')\n",
    "arquivo_partidos = os.path.join(pasta,'partidos.csv')"
   ]
  },
  {
   "cell_type": "code",
   "execution_count": 13,
   "id": "8e0cc8fe",
   "metadata": {},
   "outputs": [],
   "source": [
    "# Alterando formato de exibição dos gráficos do Pandas\n",
    "pd.options.plotting.backend = 'plotly'"
   ]
  },
  {
   "cell_type": "code",
   "execution_count": 12,
   "id": "7547944b",
   "metadata": {},
   "outputs": [],
   "source": [
    "# Variáveis globais\n",
    "TIPO_CANDIDATO = 'Prefeito' #Recebe Vereador pu Prefeito"
   ]
  },
  {
   "cell_type": "code",
   "execution_count": 25,
   "id": "aa5e521b",
   "metadata": {},
   "outputs": [],
   "source": [
    "# Lendo os dados dos arquivos\n",
    "tabela_arquivo_2020 = pd.read_csv(arquivo_resultado_2020, sep=';', encoding = \"ISO-8859-1\")\n",
    "tabela_arquivo_2024 = pd.read_csv(arquivo_resultado_2024, sep=';', encoding = \"ISO-8859-1\")\n",
    "tabela_partidos = pd.read_csv(arquivo_partidos, sep=';')"
   ]
  },
  {
   "cell_type": "code",
   "execution_count": 28,
   "id": "05a04de6",
   "metadata": {},
   "outputs": [
    {
     "name": "stdout",
     "output_type": "stream",
     "text": [
      "<class 'pandas.core.frame.DataFrame'>\n",
      "RangeIndex: 10411 entries, 0 to 10410\n",
      "Data columns (total 36 columns):\n",
      " #   Column                          Non-Null Count  Dtype \n",
      "---  ------                          --------------  ----- \n",
      " 0   DT_GERACAO                      10411 non-null  object\n",
      " 1   HH_GERACAO                      10411 non-null  object\n",
      " 2   ANO_ELEICAO                     10411 non-null  int64 \n",
      " 3   CD_TIPO_ELEICAO                 10411 non-null  int64 \n",
      " 4   NM_TIPO_ELEICAO                 10411 non-null  object\n",
      " 5   NR_TURNO                        10411 non-null  int64 \n",
      " 6   CD_ELEICAO                      10411 non-null  int64 \n",
      " 7   DS_ELEICAO                      10411 non-null  object\n",
      " 8   DT_ELEICAO                      10411 non-null  object\n",
      " 9   TP_ABRANGENCIA_ELEICAO          10411 non-null  object\n",
      " 10  SG_UF                           10411 non-null  object\n",
      " 11  SG_UE                           10411 non-null  int64 \n",
      " 12  NM_UE                           10411 non-null  object\n",
      " 13  CD_MUNICIPIO                    10411 non-null  int64 \n",
      " 14  NM_MUNICIPIO                    10411 non-null  object\n",
      " 15  NR_ZONA                         10411 non-null  int64 \n",
      " 16  CD_CARGO                        10411 non-null  int64 \n",
      " 17  DS_CARGO                        10411 non-null  object\n",
      " 18  TP_AGREMIACAO                   10411 non-null  object\n",
      " 19  NR_PARTIDO                      10411 non-null  int64 \n",
      " 20  SG_PARTIDO                      10411 non-null  object\n",
      " 21  NM_PARTIDO                      10411 non-null  object\n",
      " 22  NR_FEDERACAO                    10411 non-null  int64 \n",
      " 23  NM_FEDERACAO                    10411 non-null  object\n",
      " 24  SG_FEDERACAO                    10411 non-null  object\n",
      " 25  DS_COMPOSICAO_FEDERACAO         10411 non-null  object\n",
      " 26  SQ_COLIGACAO                    10411 non-null  int64 \n",
      " 27  NM_COLIGACAO                    10411 non-null  object\n",
      " 28  DS_COMPOSICAO_COLIGACAO         10411 non-null  object\n",
      " 29  ST_VOTO_EM_TRANSITO             10411 non-null  object\n",
      " 30  QT_VOTOS_LEGENDA_VALIDOS        10411 non-null  int64 \n",
      " 31  QT_VOTOS_NOM_CONVR_LEG_VALIDOS  10411 non-null  int64 \n",
      " 32  QT_TOTAL_VOTOS_LEG_VALIDOS      10411 non-null  int64 \n",
      " 33  QT_VOTOS_NOMINAIS_VALIDOS       10411 non-null  int64 \n",
      " 34  QT_VOTOS_LEGENDA_ANUL_SUBJUD    10411 non-null  int64 \n",
      " 35  QT_VOTOS_NOMINAIS_ANUL_SUBJUD   10411 non-null  int64 \n",
      "dtypes: int64(17), object(19)\n",
      "memory usage: 2.9+ MB\n"
     ]
    }
   ],
   "source": [
    "tabela_arquivo_2020.info()"
   ]
  },
  {
   "cell_type": "code",
   "execution_count": 42,
   "id": "d7a239ac",
   "metadata": {},
   "outputs": [],
   "source": [
    "# Funções\n",
    "\n",
    "def processar_candidatos_mais_votados(tabela_arquivo):\n",
    "    return tabela_arquivo\\\n",
    "        .sort_values(by='NM_UE', ascending=False)\\\n",
    "        .groupby(['NM_PARTIDO', 'NM_UE'])\\\n",
    "        .agg({'CD_MUNICIPIO': 'first'})\\\n",
    "        .reset_index()\n"
   ]
  },
  {
   "cell_type": "code",
   "execution_count": 43,
   "id": "eb42e195",
   "metadata": {},
   "outputs": [],
   "source": [
    "candidatos_mais_votados_2020 = processar_candidatos_mais_votados(tabela_arquivo_2020)"
   ]
  },
  {
   "cell_type": "code",
   "execution_count": 44,
   "id": "e9eab74f",
   "metadata": {},
   "outputs": [
    {
     "data": {
      "text/html": [
       "<div>\n",
       "<style scoped>\n",
       "    .dataframe tbody tr th:only-of-type {\n",
       "        vertical-align: middle;\n",
       "    }\n",
       "\n",
       "    .dataframe tbody tr th {\n",
       "        vertical-align: top;\n",
       "    }\n",
       "\n",
       "    .dataframe thead th {\n",
       "        text-align: right;\n",
       "    }\n",
       "</style>\n",
       "<table border=\"1\" class=\"dataframe\">\n",
       "  <thead>\n",
       "    <tr style=\"text-align: right;\">\n",
       "      <th></th>\n",
       "      <th>NM_PARTIDO</th>\n",
       "      <th>NM_UE</th>\n",
       "      <th>CD_MUNICIPIO</th>\n",
       "    </tr>\n",
       "  </thead>\n",
       "  <tbody>\n",
       "    <tr>\n",
       "      <th>0</th>\n",
       "      <td>AVANTE</td>\n",
       "      <td>AIMORÉS</td>\n",
       "      <td>40215</td>\n",
       "    </tr>\n",
       "    <tr>\n",
       "      <th>1</th>\n",
       "      <td>AVANTE</td>\n",
       "      <td>ALBERTINA</td>\n",
       "      <td>40274</td>\n",
       "    </tr>\n",
       "    <tr>\n",
       "      <th>2</th>\n",
       "      <td>AVANTE</td>\n",
       "      <td>ALFENAS</td>\n",
       "      <td>40312</td>\n",
       "    </tr>\n",
       "    <tr>\n",
       "      <th>3</th>\n",
       "      <td>AVANTE</td>\n",
       "      <td>ALFREDO VASCONCELOS</td>\n",
       "      <td>40002</td>\n",
       "    </tr>\n",
       "    <tr>\n",
       "      <th>4</th>\n",
       "      <td>AVANTE</td>\n",
       "      <td>ALTEROSA</td>\n",
       "      <td>40398</td>\n",
       "    </tr>\n",
       "    <tr>\n",
       "      <th>...</th>\n",
       "      <td>...</td>\n",
       "      <td>...</td>\n",
       "      <td>...</td>\n",
       "    </tr>\n",
       "    <tr>\n",
       "      <th>6264</th>\n",
       "      <td>Solidariedade</td>\n",
       "      <td>ÁGUAS VERMELHAS</td>\n",
       "      <td>40193</td>\n",
       "    </tr>\n",
       "    <tr>\n",
       "      <th>6265</th>\n",
       "      <td>Unidade Popular</td>\n",
       "      <td>BELO HORIZONTE</td>\n",
       "      <td>41238</td>\n",
       "    </tr>\n",
       "    <tr>\n",
       "      <th>6266</th>\n",
       "      <td>Unidade Popular</td>\n",
       "      <td>ITABIRITO</td>\n",
       "      <td>46370</td>\n",
       "    </tr>\n",
       "    <tr>\n",
       "      <th>6267</th>\n",
       "      <td>Unidade Popular</td>\n",
       "      <td>NOVA LIMA</td>\n",
       "      <td>48950</td>\n",
       "    </tr>\n",
       "    <tr>\n",
       "      <th>6268</th>\n",
       "      <td>União Brasil</td>\n",
       "      <td>BERTÓPOLIS</td>\n",
       "      <td>41319</td>\n",
       "    </tr>\n",
       "  </tbody>\n",
       "</table>\n",
       "<p>6269 rows × 3 columns</p>\n",
       "</div>"
      ],
      "text/plain": [
       "           NM_PARTIDO                NM_UE  CD_MUNICIPIO\n",
       "0              AVANTE              AIMORÉS         40215\n",
       "1              AVANTE            ALBERTINA         40274\n",
       "2              AVANTE              ALFENAS         40312\n",
       "3              AVANTE  ALFREDO VASCONCELOS         40002\n",
       "4              AVANTE             ALTEROSA         40398\n",
       "...               ...                  ...           ...\n",
       "6264    Solidariedade      ÁGUAS VERMELHAS         40193\n",
       "6265  Unidade Popular       BELO HORIZONTE         41238\n",
       "6266  Unidade Popular            ITABIRITO         46370\n",
       "6267  Unidade Popular            NOVA LIMA         48950\n",
       "6268     União Brasil           BERTÓPOLIS         41319\n",
       "\n",
       "[6269 rows x 3 columns]"
      ]
     },
     "metadata": {},
     "output_type": "display_data"
    }
   ],
   "source": [
    "display(candidatos_mais_votados_2020)"
   ]
  },
  {
   "cell_type": "code",
   "execution_count": 45,
   "id": "688243a3",
   "metadata": {},
   "outputs": [],
   "source": [
    "candidatos_mais_votados_2024 = processar_candidatos_mais_votados(tabela_arquivo_2024)"
   ]
  },
  {
   "cell_type": "code",
   "execution_count": 46,
   "id": "e88ea6aa",
   "metadata": {},
   "outputs": [
    {
     "data": {
      "text/html": [
       "<div>\n",
       "<style scoped>\n",
       "    .dataframe tbody tr th:only-of-type {\n",
       "        vertical-align: middle;\n",
       "    }\n",
       "\n",
       "    .dataframe tbody tr th {\n",
       "        vertical-align: top;\n",
       "    }\n",
       "\n",
       "    .dataframe thead th {\n",
       "        text-align: right;\n",
       "    }\n",
       "</style>\n",
       "<table border=\"1\" class=\"dataframe\">\n",
       "  <thead>\n",
       "    <tr style=\"text-align: right;\">\n",
       "      <th></th>\n",
       "      <th>NM_PARTIDO</th>\n",
       "      <th>NM_UE</th>\n",
       "      <th>CD_MUNICIPIO</th>\n",
       "    </tr>\n",
       "  </thead>\n",
       "  <tbody>\n",
       "    <tr>\n",
       "      <th>0</th>\n",
       "      <td>AGIR</td>\n",
       "      <td>ALPINÓPOLIS</td>\n",
       "      <td>40371</td>\n",
       "    </tr>\n",
       "    <tr>\n",
       "      <th>1</th>\n",
       "      <td>AGIR</td>\n",
       "      <td>ALVINÓPOLIS</td>\n",
       "      <td>40452</td>\n",
       "    </tr>\n",
       "    <tr>\n",
       "      <th>2</th>\n",
       "      <td>AGIR</td>\n",
       "      <td>ANDRADAS</td>\n",
       "      <td>40517</td>\n",
       "    </tr>\n",
       "    <tr>\n",
       "      <th>3</th>\n",
       "      <td>AGIR</td>\n",
       "      <td>ARAXÁ</td>\n",
       "      <td>40797</td>\n",
       "    </tr>\n",
       "    <tr>\n",
       "      <th>4</th>\n",
       "      <td>AGIR</td>\n",
       "      <td>ARCOS</td>\n",
       "      <td>40835</td>\n",
       "    </tr>\n",
       "    <tr>\n",
       "      <th>...</th>\n",
       "      <td>...</td>\n",
       "      <td>...</td>\n",
       "      <td>...</td>\n",
       "    </tr>\n",
       "    <tr>\n",
       "      <th>8362</th>\n",
       "      <td>União Brasil</td>\n",
       "      <td>VIRGINÓPOLIS</td>\n",
       "      <td>54372</td>\n",
       "    </tr>\n",
       "    <tr>\n",
       "      <th>8363</th>\n",
       "      <td>União Brasil</td>\n",
       "      <td>VIRGÍNIA</td>\n",
       "      <td>54356</td>\n",
       "    </tr>\n",
       "    <tr>\n",
       "      <th>8364</th>\n",
       "      <td>União Brasil</td>\n",
       "      <td>VISCONDE DO RIO BRANCO</td>\n",
       "      <td>54410</td>\n",
       "    </tr>\n",
       "    <tr>\n",
       "      <th>8365</th>\n",
       "      <td>União Brasil</td>\n",
       "      <td>VIÇOSA</td>\n",
       "      <td>54275</td>\n",
       "    </tr>\n",
       "    <tr>\n",
       "      <th>8366</th>\n",
       "      <td>União Brasil</td>\n",
       "      <td>ÁGUAS VERMELHAS</td>\n",
       "      <td>40193</td>\n",
       "    </tr>\n",
       "  </tbody>\n",
       "</table>\n",
       "<p>8367 rows × 3 columns</p>\n",
       "</div>"
      ],
      "text/plain": [
       "        NM_PARTIDO                   NM_UE  CD_MUNICIPIO\n",
       "0             AGIR             ALPINÓPOLIS         40371\n",
       "1             AGIR             ALVINÓPOLIS         40452\n",
       "2             AGIR                ANDRADAS         40517\n",
       "3             AGIR                   ARAXÁ         40797\n",
       "4             AGIR                   ARCOS         40835\n",
       "...            ...                     ...           ...\n",
       "8362  União Brasil            VIRGINÓPOLIS         54372\n",
       "8363  União Brasil                VIRGÍNIA         54356\n",
       "8364  União Brasil  VISCONDE DO RIO BRANCO         54410\n",
       "8365  União Brasil                  VIÇOSA         54275\n",
       "8366  União Brasil         ÁGUAS VERMELHAS         40193\n",
       "\n",
       "[8367 rows x 3 columns]"
      ]
     },
     "metadata": {},
     "output_type": "display_data"
    }
   ],
   "source": [
    "display(candidatos_mais_votados_2024)"
   ]
  },
  {
   "cell_type": "code",
   "execution_count": 47,
   "id": "b634674a",
   "metadata": {},
   "outputs": [
    {
     "ename": "AttributeError",
     "evalue": "'DataFrame' object has no attribute 'SG_PARTIDO'",
     "output_type": "error",
     "traceback": [
      "\u001b[1;31m---------------------------------------------------------------------------\u001b[0m",
      "\u001b[1;31mAttributeError\u001b[0m                            Traceback (most recent call last)",
      "Cell \u001b[1;32mIn[47], line 1\u001b[0m\n\u001b[1;32m----> 1\u001b[0m \u001b[43mcandidatos_mais_votados_2020\u001b[49m\u001b[38;5;241;43m.\u001b[39;49m\u001b[43mSG_PARTIDO\u001b[49m\u001b[38;5;241m.\u001b[39mvalue_counts()\u001b[38;5;241m.\u001b[39mplot(kind\u001b[38;5;241m=\u001b[39m\u001b[38;5;124m'\u001b[39m\u001b[38;5;124mbar\u001b[39m\u001b[38;5;124m'\u001b[39m,title\u001b[38;5;241m=\u001b[39m\u001b[38;5;124mf\u001b[39m\u001b[38;5;124m'\u001b[39m\u001b[38;5;124mPartido Mais Votados \u001b[39m\u001b[38;5;132;01m{\u001b[39;00mLOCAL\u001b[38;5;132;01m}\u001b[39;00m\u001b[38;5;124m 2020 (\u001b[39m\u001b[38;5;132;01m{\u001b[39;00mTIPO_CANDIDATO\u001b[38;5;132;01m}\u001b[39;00m\u001b[38;5;124m)\u001b[39m\u001b[38;5;124m'\u001b[39m)\n",
      "File \u001b[1;32m~\\AppData\\Local\\Programs\\Python\\Python311\\Lib\\site-packages\\pandas\\core\\generic.py:6299\u001b[0m, in \u001b[0;36mNDFrame.__getattr__\u001b[1;34m(self, name)\u001b[0m\n\u001b[0;32m   6292\u001b[0m \u001b[38;5;28;01mif\u001b[39;00m (\n\u001b[0;32m   6293\u001b[0m     name \u001b[38;5;129;01mnot\u001b[39;00m \u001b[38;5;129;01min\u001b[39;00m \u001b[38;5;28mself\u001b[39m\u001b[38;5;241m.\u001b[39m_internal_names_set\n\u001b[0;32m   6294\u001b[0m     \u001b[38;5;129;01mand\u001b[39;00m name \u001b[38;5;129;01mnot\u001b[39;00m \u001b[38;5;129;01min\u001b[39;00m \u001b[38;5;28mself\u001b[39m\u001b[38;5;241m.\u001b[39m_metadata\n\u001b[0;32m   6295\u001b[0m     \u001b[38;5;129;01mand\u001b[39;00m name \u001b[38;5;129;01mnot\u001b[39;00m \u001b[38;5;129;01min\u001b[39;00m \u001b[38;5;28mself\u001b[39m\u001b[38;5;241m.\u001b[39m_accessors\n\u001b[0;32m   6296\u001b[0m     \u001b[38;5;129;01mand\u001b[39;00m \u001b[38;5;28mself\u001b[39m\u001b[38;5;241m.\u001b[39m_info_axis\u001b[38;5;241m.\u001b[39m_can_hold_identifiers_and_holds_name(name)\n\u001b[0;32m   6297\u001b[0m ):\n\u001b[0;32m   6298\u001b[0m     \u001b[38;5;28;01mreturn\u001b[39;00m \u001b[38;5;28mself\u001b[39m[name]\n\u001b[1;32m-> 6299\u001b[0m \u001b[38;5;28;01mreturn\u001b[39;00m \u001b[38;5;28;43mobject\u001b[39;49m\u001b[38;5;241;43m.\u001b[39;49m\u001b[38;5;21;43m__getattribute__\u001b[39;49m\u001b[43m(\u001b[49m\u001b[38;5;28;43mself\u001b[39;49m\u001b[43m,\u001b[49m\u001b[43m \u001b[49m\u001b[43mname\u001b[49m\u001b[43m)\u001b[49m\n",
      "\u001b[1;31mAttributeError\u001b[0m: 'DataFrame' object has no attribute 'SG_PARTIDO'"
     ]
    }
   ],
   "source": []
  },
  {
   "cell_type": "code",
   "execution_count": null,
   "id": "cd388977",
   "metadata": {},
   "outputs": [],
   "source": []
  },
  {
   "cell_type": "code",
   "execution_count": null,
   "id": "8c9d23e8",
   "metadata": {},
   "outputs": [],
   "source": []
  },
  {
   "cell_type": "code",
   "execution_count": null,
   "id": "0b7f9bd3",
   "metadata": {},
   "outputs": [],
   "source": []
  },
  {
   "cell_type": "code",
   "execution_count": null,
   "id": "11a272da",
   "metadata": {},
   "outputs": [],
   "source": []
  },
  {
   "cell_type": "code",
   "execution_count": null,
   "id": "7e470942",
   "metadata": {},
   "outputs": [],
   "source": []
  }
 ],
 "metadata": {
  "kernelspec": {
   "display_name": "Python 3 (ipykernel)",
   "language": "python",
   "name": "python3"
  },
  "language_info": {
   "codemirror_mode": {
    "name": "ipython",
    "version": 3
   },
   "file_extension": ".py",
   "mimetype": "text/x-python",
   "name": "python",
   "nbconvert_exporter": "python",
   "pygments_lexer": "ipython3",
   "version": "3.11.3"
  }
 },
 "nbformat": 4,
 "nbformat_minor": 5
}
